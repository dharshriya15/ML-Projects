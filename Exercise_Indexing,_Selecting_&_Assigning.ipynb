{
  "metadata": {
    "kernelspec": {
      "display_name": "Python 3",
      "language": "python",
      "name": "python3"
    },
    "language_info": {
      "name": "python",
      "version": "3.10.13",
      "mimetype": "text/x-python",
      "codemirror_mode": {
        "name": "ipython",
        "version": 3
      },
      "pygments_lexer": "ipython3",
      "nbconvert_exporter": "python",
      "file_extension": ".py"
    },
    "kaggle": {
      "accelerator": "none",
      "dataSources": [
        {
          "sourceId": 1252,
          "sourceType": "datasetVersion",
          "datasetId": 655
        },
        {
          "sourceId": 3919,
          "sourceType": "datasetVersion",
          "datasetId": 2321
        },
        {
          "sourceId": 4877,
          "sourceType": "datasetVersion",
          "datasetId": 2894
        },
        {
          "sourceId": 5624,
          "sourceType": "datasetVersion",
          "datasetId": 3491
        },
        {
          "sourceId": 8172,
          "sourceType": "datasetVersion",
          "datasetId": 1442
        },
        {
          "sourceId": 13206,
          "sourceType": "datasetVersion",
          "datasetId": 9366
        },
        {
          "sourceId": 403916,
          "sourceType": "datasetVersion",
          "datasetId": 179555
        },
        {
          "sourceId": 466349,
          "sourceType": "datasetVersion",
          "datasetId": 4549
        },
        {
          "sourceId": 1151655,
          "sourceType": "datasetVersion",
          "datasetId": 2478
        },
        {
          "sourceId": 5438389,
          "sourceType": "datasetVersion",
          "datasetId": 10128
        }
      ],
      "isInternetEnabled": false,
      "language": "python",
      "sourceType": "notebook",
      "isGpuEnabled": false
    },
    "colab": {
      "name": "Exercise: Indexing, Selecting & Assigning",
      "provenance": [],
      "include_colab_link": true
    }
  },
  "nbformat_minor": 0,
  "nbformat": 4,
  "cells": [
    {
      "cell_type": "markdown",
      "metadata": {
        "id": "view-in-github",
        "colab_type": "text"
      },
      "source": [
        "<a href=\"https://colab.research.google.com/github/dharshriya15/ML-Projects/blob/main/Exercise_Indexing%2C_Selecting_%26_Assigning.ipynb\" target=\"_parent\"><img src=\"https://colab.research.google.com/assets/colab-badge.svg\" alt=\"Open In Colab\"/></a>"
      ]
    },
    {
      "source": [
        "\n",
        "# IMPORTANT: RUN THIS CELL IN ORDER TO IMPORT YOUR KAGGLE DATA SOURCES\n",
        "# TO THE CORRECT LOCATION (/kaggle/input) IN YOUR NOTEBOOK,\n",
        "# THEN FEEL FREE TO DELETE THIS CELL.\n",
        "# NOTE: THIS NOTEBOOK ENVIRONMENT DIFFERS FROM KAGGLE'S PYTHON\n",
        "# ENVIRONMENT SO THERE MAY BE MISSING LIBRARIES USED BY YOUR\n",
        "# NOTEBOOK.\n",
        "\n",
        "import os\n",
        "import sys\n",
        "from tempfile import NamedTemporaryFile\n",
        "from urllib.request import urlopen\n",
        "from urllib.parse import unquote, urlparse\n",
        "from urllib.error import HTTPError\n",
        "from zipfile import ZipFile\n",
        "import tarfile\n",
        "import shutil\n",
        "\n",
        "CHUNK_SIZE = 40960\n",
        "DATA_SOURCE_MAPPING = 'pitchfork-data:https%3A%2F%2Fstorage.googleapis.com%2Fkaggle-data-sets%2F655%2F1252%2Fbundle%2Farchive.zip%3FX-Goog-Algorithm%3DGOOG4-RSA-SHA256%26X-Goog-Credential%3Dgcp-kaggle-com%2540kaggle-161607.iam.gserviceaccount.com%252F20240619%252Fauto%252Fstorage%252Fgoog4_request%26X-Goog-Date%3D20240619T041926Z%26X-Goog-Expires%3D259200%26X-Goog-SignedHeaders%3Dhost%26X-Goog-Signature%3D0212b26102e8099c1f6b4efb3c7b713a998e3c34fc89c3e47b10b8f4ce1e591a9039e50ae4b2ace934c765f63e9b67764383d291e9fe4e9d174fdcc7c6feed13d2af68f9a2724cb65adc619bb6d45454faa5eaed9eca0e1d1ae9806844f06dc3341419923a162335009833e9ea690f824ced956e15e2f8a29abca06cbc524648eacb88a644e3717ef1d9683401431946852f1251d5718456a0261441e26a9743b01855982cd7433a0b4259fb0c83d9ce9932f3bb26a84a1f80afd81675d50ab75bd4d9132bd1648af182f40018eef157c0b0d71ac80b2fe7d8d25bdd5b719522c486ef371bfe601e0d1ad11a6cc7df838ee50a276fe895989bb986922bdb7134,chess:https%3A%2F%2Fstorage.googleapis.com%2Fkaggle-data-sets%2F2321%2F3919%2Fbundle%2Farchive.zip%3FX-Goog-Algorithm%3DGOOG4-RSA-SHA256%26X-Goog-Credential%3Dgcp-kaggle-com%2540kaggle-161607.iam.gserviceaccount.com%252F20240619%252Fauto%252Fstorage%252Fgoog4_request%26X-Goog-Date%3D20240619T041926Z%26X-Goog-Expires%3D259200%26X-Goog-SignedHeaders%3Dhost%26X-Goog-Signature%3D18d3ad0d136641921b1f1e868ffe1bd048caa0661f1000c6b583e6554f09013f0a24cc4b5979d191c94bd1b24083d2cb8da31ff92d3328a43e53762834f4c5f6aa8f3ac66629413fd47f72559bdfd3baaa1a12b54abde40a2e6bd6fb118e5dd1ddda21a3c1c1bf882af73699855e4315b75024f4416413e1cbb5f30fcf9296884662396e62ca06f2dbeb039ad0009ef4fd1d485049ac1a6e8021a5ee95d21db28418e7a5590084cd3b504e5e0f30d28cf97d67e3656120f50cab58f4ef480d3034fe27049e76b3edcc0242d63d0527daf2e5461d95d514b3387286a5e96fcf07614711f75536a8f9ff4cedfef809098ea1d7a497328a73da3380ec4a3e51d0c3,kepler-exoplanet-search-results:https%3A%2F%2Fstorage.googleapis.com%2Fkaggle-data-sets%2F2894%2F4877%2Fbundle%2Farchive.zip%3FX-Goog-Algorithm%3DGOOG4-RSA-SHA256%26X-Goog-Credential%3Dgcp-kaggle-com%2540kaggle-161607.iam.gserviceaccount.com%252F20240619%252Fauto%252Fstorage%252Fgoog4_request%26X-Goog-Date%3D20240619T041926Z%26X-Goog-Expires%3D259200%26X-Goog-SignedHeaders%3Dhost%26X-Goog-Signature%3D414ebf18db8e6fee10624dc0d6b36cc4407ff2ba750484fac553fb7ce7041980ec0c007a8817131da154ed4ee607454ee434d2ed17ab169bc39f3a44db83009fbb60c8b0e74131006ccf8e71af34115b02dc22312a9b3dd54995e709ac342faf1a31c8bc4bc969a08c8be2bd8d352b974b0aeda7f9db34c58bae36ac54f063a7338f197b437b2eb905c9c85aa79bed5f0a36f773bd611a64e531eaa3b280657eb493535e8dae181fe21d0f285464b0e2f857bcc68c2ad5ef81b32bf9a9081a7919ee11553edc90fb32c8740dff7dc5e38c4a74cfc3479530c4bbb3bfd7f9c851557a5878d9de838c9bff7fbcdabd53fb1879f24877590c0cafde5050c4c0fb42,things-on-reddit:https%3A%2F%2Fstorage.googleapis.com%2Fkaggle-data-sets%2F3491%2F5624%2Fbundle%2Farchive.zip%3FX-Goog-Algorithm%3DGOOG4-RSA-SHA256%26X-Goog-Credential%3Dgcp-kaggle-com%2540kaggle-161607.iam.gserviceaccount.com%252F20240619%252Fauto%252Fstorage%252Fgoog4_request%26X-Goog-Date%3D20240619T041927Z%26X-Goog-Expires%3D259200%26X-Goog-SignedHeaders%3Dhost%26X-Goog-Signature%3D0720e5669545d0dbcbcd10c0f037aca874a4198e87a7b2658371b4f17c2214f8ff3e40aee8621d09ac76c2a5b2d5727d89952f502d8708eeb5540e4dba6ed375cb89ff84c92401cae2959541cb257ec1f4c52747ac262bf71740e59b4423e3fa2b85ed92e1ea85c0ae983aefa17bacd70da3e6e169decf45b206419f022968b5e8938dd1708f04369dc623101675910b213635057d527918d49a9c73bdb76d5223dfd3625dad86aae657bf685040975fad449b11a4d56a5586668cdf1060d459f18ec6fbee0d9558e49e0b8505f921cbd82da4429e793db78239f012ae6be93c7e3fff868eb4f475e5557d6352e98370aee0757d8cea95abfa68fe545dfaa631,wine-reviews:https%3A%2F%2Fstorage.googleapis.com%2Fkaggle-data-sets%2F1442%2F8172%2Fbundle%2Farchive.zip%3FX-Goog-Algorithm%3DGOOG4-RSA-SHA256%26X-Goog-Credential%3Dgcp-kaggle-com%2540kaggle-161607.iam.gserviceaccount.com%252F20240619%252Fauto%252Fstorage%252Fgoog4_request%26X-Goog-Date%3D20240619T041927Z%26X-Goog-Expires%3D259200%26X-Goog-SignedHeaders%3Dhost%26X-Goog-Signature%3D3a1f1fd1000514e4c4d61407a3813092563812559f2b792a6dbbb1b7c4132e1a5b60c830d1ac8f59ea82d56344f2931d3e54a7e36cddf145d5b447b4c89e8835190b0ffbb4cc213a48fee805ea4cffa5f642a17962e80b96eaf986e9b8c54a922b7b829fa25871b559a56f39c3d6ff4a01cd7ac626a085f7cf95a5fd71fb1a1417b8071e2aaae85cc23c2be4315d6ce013de22dc6513e45c70e55441fff89ae74620cca532efb096ee7a2495be65a1ab7d8f7eba01e58c73c84cdeffa1e9878031e1690879be7eb44be27283a9f93bf4fdd0f07cb6cc49d4a1a24206c7664e5f40530fc28fecfd070dfedf6f0f14e9591e1f767a50a7ca4b926908c578972a97,ramen-ratings:https%3A%2F%2Fstorage.googleapis.com%2Fkaggle-data-sets%2F9366%2F13206%2Fbundle%2Farchive.zip%3FX-Goog-Algorithm%3DGOOG4-RSA-SHA256%26X-Goog-Credential%3Dgcp-kaggle-com%2540kaggle-161607.iam.gserviceaccount.com%252F20240619%252Fauto%252Fstorage%252Fgoog4_request%26X-Goog-Date%3D20240619T041927Z%26X-Goog-Expires%3D259200%26X-Goog-SignedHeaders%3Dhost%26X-Goog-Signature%3Db03d5d0ce8dcc48959db5ca10f9e7a16189372a58a93ddd9a8072679cba1cd36d95e6fa8b1131d2c60d3591994d3fe4cad548dff0751abb2a2db7645f82c1192a866d2dce7d075b36e05a63bcbc9535e543bcadc3b04c76a906c03cafa83a3766dff695477737de84d290156b5ccd8615c753f6419eff758f622ae44e35c7b37c921c676f43479e43951f5fa66d36b9253358b2f1ac1ab2fe6ff18b0a614d84616af876c7f3b221880c811672628c9d6d74314021e242c2cea33b7469f9e2b663e9c3c99bca339e080cebc15f7a5cf74d7fc653242fb941c3e580e3f1635141f9e3ad240048ac5ee86d3dfdf7ba608b72188a3c3f774d875949524b48e8deb8e,powerlifting-database:https%3A%2F%2Fstorage.googleapis.com%2Fkaggle-data-sets%2F179555%2F403916%2Fbundle%2Farchive.zip%3FX-Goog-Algorithm%3DGOOG4-RSA-SHA256%26X-Goog-Credential%3Dgcp-kaggle-com%2540kaggle-161607.iam.gserviceaccount.com%252F20240619%252Fauto%252Fstorage%252Fgoog4_request%26X-Goog-Date%3D20240619T041927Z%26X-Goog-Expires%3D259200%26X-Goog-SignedHeaders%3Dhost%26X-Goog-Signature%3Db6ca73d56129c1edbf9bca0d05f63c751cee5089037c4a6d8ad7e97a16b61ed2e751cc618e72da8c254bddc35d009647163d70d9139a76f755dd9b55e4a5b6dbd93f4d00389402ba2e1c4db2135b409d3d6c1a26233c32bc8f08b81b824ca4e5dbe2e82ec794c9d5f46066551b30cbae31ace0ef35fe3180d2dad391eaac13fd763162dccfdef87b48e605d049bd385c45d60557f8c310ca175452f71e8358a4564d666182f3669d738696b5460ae142afb6928b2509ecdb3c41f6e1605644b393f3d6842132f7b3aad3ad9097a9e670887a70ba180ac73163ea5fcd3ed5eaa10f9d1e0fad4e62a957aa19dbf43fbd3c72cda292a3fc555c6170580eec679eac,youtube-new:https%3A%2F%2Fstorage.googleapis.com%2Fkaggle-data-sets%2F4549%2F466349%2Fbundle%2Farchive.zip%3FX-Goog-Algorithm%3DGOOG4-RSA-SHA256%26X-Goog-Credential%3Dgcp-kaggle-com%2540kaggle-161607.iam.gserviceaccount.com%252F20240619%252Fauto%252Fstorage%252Fgoog4_request%26X-Goog-Date%3D20240619T041927Z%26X-Goog-Expires%3D259200%26X-Goog-SignedHeaders%3Dhost%26X-Goog-Signature%3D32d72e202050d97f979d7018e91d23d6a975ca619eedaa009c5de673feeced8d955d2985092e00a6d8604df0aff64342a49352200d0b780e1ed6f41bde29c6f741ece7056076d16673b2e3e650444e4f4731088464ec7d88ef5072848d46b9503163eb3b47e74fac4eb1653e3524bfcfe7dbe9f22b96bb20d62f5886579ce9615d24fe4c6a3d4eddaa3b61fd571976df3a20f831b23be438f95a0fc9d561e08156a7e7e2b37ea09f11f374504a630f62d88266753c9dd13c1dc58b73b5e0b6d0539c68bbbbd17221c2f3b9d7f8f1cbe8a011c32f95dd3df1a91c92d21e23ea1b00ff9a3b8a79ca8a49c9da82a865912f1fdf261a62be13496cb61c5d3862e5bc,188-million-us-wildfires:https%3A%2F%2Fstorage.googleapis.com%2Fkaggle-data-sets%2F2478%2F1151655%2Fbundle%2Farchive.zip%3FX-Goog-Algorithm%3DGOOG4-RSA-SHA256%26X-Goog-Credential%3Dgcp-kaggle-com%2540kaggle-161607.iam.gserviceaccount.com%252F20240619%252Fauto%252Fstorage%252Fgoog4_request%26X-Goog-Date%3D20240619T041927Z%26X-Goog-Expires%3D259200%26X-Goog-SignedHeaders%3Dhost%26X-Goog-Signature%3D17de274d45cd7cbdd7d6408d1a37090e9b34f262a3d873a68ab8c3d4f4ed2e034ac67c3b46771aa148ca214413bacc2134410072978ab193d9feb1933f3a27e026d94e9e2cc79c0b35ac3c5ba33dcc692b975adad259637b01407d018acc7eee2dc06085bf7af1589a96216967c182c91e8a6747795fe52094ce0125bd2cdf9c6babd51008755636d8d7a92629ba6f6395d9284c3eed7267a572dcf4b2d9f859fe732fdd142facc0b9256aad8fbcb1cb88b71d7dd48d53b890b83262185c34c5371962a99e978e6e3d934f88403ff46b40565bd314a54444bdbac2dffde4221612357f4b92dfadcb588cd3aa3a99411c0d9971a5e43a66114933ad43e49d936c,publicassistance:https%3A%2F%2Fstorage.googleapis.com%2Fkaggle-data-sets%2F10128%2F5438389%2Fbundle%2Farchive.zip%3FX-Goog-Algorithm%3DGOOG4-RSA-SHA256%26X-Goog-Credential%3Dgcp-kaggle-com%2540kaggle-161607.iam.gserviceaccount.com%252F20240619%252Fauto%252Fstorage%252Fgoog4_request%26X-Goog-Date%3D20240619T041927Z%26X-Goog-Expires%3D259200%26X-Goog-SignedHeaders%3Dhost%26X-Goog-Signature%3D3bb5ed351639d5921a89f4831bdfaad424e4f0a689314ea92d68c7178198efa2feab490096547ba80b67e172a96c1b4de124e4281c9a502ad1639272fa110347cc63def16b609796972598db83d0185f86fe7128155dd0165e901a818080005d177208563e103c972b75af67da21e555600fb9966d8b24b4dd658cb4b0d9bc89aaa3f696b886b6cb47ba682f545dfc71046289259d5728144c53dd3e9a56e171e16c3effd11468455ff9fac8fcd8286038d00ba627839439e8cdc134a8d558fccb079aa21cbd7ef8e865718a48395fca3cf7e684b23c025e15bb8a4346ef808dded03129ec48d9a776a1236e2c252d77677f031bf2192237845cd328d5529b9c'\n",
        "\n",
        "KAGGLE_INPUT_PATH='/kaggle/input'\n",
        "KAGGLE_WORKING_PATH='/kaggle/working'\n",
        "KAGGLE_SYMLINK='kaggle'\n",
        "\n",
        "!umount /kaggle/input/ 2> /dev/null\n",
        "shutil.rmtree('/kaggle/input', ignore_errors=True)\n",
        "os.makedirs(KAGGLE_INPUT_PATH, 0o777, exist_ok=True)\n",
        "os.makedirs(KAGGLE_WORKING_PATH, 0o777, exist_ok=True)\n",
        "\n",
        "try:\n",
        "  os.symlink(KAGGLE_INPUT_PATH, os.path.join(\"..\", 'input'), target_is_directory=True)\n",
        "except FileExistsError:\n",
        "  pass\n",
        "try:\n",
        "  os.symlink(KAGGLE_WORKING_PATH, os.path.join(\"..\", 'working'), target_is_directory=True)\n",
        "except FileExistsError:\n",
        "  pass\n",
        "\n",
        "for data_source_mapping in DATA_SOURCE_MAPPING.split(','):\n",
        "    directory, download_url_encoded = data_source_mapping.split(':')\n",
        "    download_url = unquote(download_url_encoded)\n",
        "    filename = urlparse(download_url).path\n",
        "    destination_path = os.path.join(KAGGLE_INPUT_PATH, directory)\n",
        "    try:\n",
        "        with urlopen(download_url) as fileres, NamedTemporaryFile() as tfile:\n",
        "            total_length = fileres.headers['content-length']\n",
        "            print(f'Downloading {directory}, {total_length} bytes compressed')\n",
        "            dl = 0\n",
        "            data = fileres.read(CHUNK_SIZE)\n",
        "            while len(data) > 0:\n",
        "                dl += len(data)\n",
        "                tfile.write(data)\n",
        "                done = int(50 * dl / int(total_length))\n",
        "                sys.stdout.write(f\"\\r[{'=' * done}{' ' * (50-done)}] {dl} bytes downloaded\")\n",
        "                sys.stdout.flush()\n",
        "                data = fileres.read(CHUNK_SIZE)\n",
        "            if filename.endswith('.zip'):\n",
        "              with ZipFile(tfile) as zfile:\n",
        "                zfile.extractall(destination_path)\n",
        "            else:\n",
        "              with tarfile.open(tfile.name) as tarfile:\n",
        "                tarfile.extractall(destination_path)\n",
        "            print(f'\\nDownloaded and uncompressed: {directory}')\n",
        "    except HTTPError as e:\n",
        "        print(f'Failed to load (likely expired) {download_url} to path {destination_path}')\n",
        "        continue\n",
        "    except OSError as e:\n",
        "        print(f'Failed to load {download_url} to path {destination_path}')\n",
        "        continue\n",
        "\n",
        "print('Data source import complete.')\n"
      ],
      "metadata": {
        "id": "eo6gMfa5uK84"
      },
      "cell_type": "code",
      "outputs": [],
      "execution_count": null
    },
    {
      "cell_type": "markdown",
      "source": [
        "**This notebook is an exercise in the [Pandas](https://www.kaggle.com/learn/pandas) course.  You can reference the tutorial at [this link](https://www.kaggle.com/residentmario/indexing-selecting-assigning).**\n",
        "\n",
        "---\n"
      ],
      "metadata": {
        "id": "ikEWAy1BuK9X"
      }
    },
    {
      "cell_type": "markdown",
      "source": [
        "# Introduction\n",
        "\n",
        "In this set of exercises we will work with the [Wine Reviews dataset](https://www.kaggle.com/zynicide/wine-reviews)."
      ],
      "metadata": {
        "id": "ZfgRP2CduK9h"
      }
    },
    {
      "cell_type": "markdown",
      "source": [
        "Run the following cell to load your data and some utility functions (including code to check your answers)."
      ],
      "metadata": {
        "id": "K4ewAUVCuK9q"
      }
    },
    {
      "cell_type": "code",
      "source": [
        "import pandas as pd\n",
        "\n",
        "reviews = pd.read_csv(\"../input/wine-reviews/winemag-data-130k-v2.csv\", index_col=0)\n",
        "pd.set_option(\"display.max_rows\", 5)\n",
        "\n",
        "from learntools.core import binder; binder.bind(globals())\n",
        "from learntools.pandas.indexing_selecting_and_assigning import *\n",
        "print(\"Setup complete.\")"
      ],
      "metadata": {
        "execution": {
          "iopub.status.busy": "2024-06-19T03:33:43.853806Z",
          "iopub.execute_input": "2024-06-19T03:33:43.854491Z",
          "iopub.status.idle": "2024-06-19T03:33:47.58343Z",
          "shell.execute_reply.started": "2024-06-19T03:33:43.854447Z",
          "shell.execute_reply": "2024-06-19T03:33:47.582134Z"
        },
        "trusted": true,
        "id": "x-5CjTOBuK94",
        "outputId": "41058067-348a-4265-d8e0-d49078d0336c"
      },
      "execution_count": null,
      "outputs": [
        {
          "name": "stdout",
          "text": "Setup complete.\n",
          "output_type": "stream"
        }
      ]
    },
    {
      "cell_type": "markdown",
      "source": [
        "Look at an overview of your data by running the following line."
      ],
      "metadata": {
        "id": "dmt2Cc0DuK-B"
      }
    },
    {
      "cell_type": "code",
      "source": [
        "reviews.head()"
      ],
      "metadata": {
        "execution": {
          "iopub.status.busy": "2024-06-19T03:33:47.585662Z",
          "iopub.execute_input": "2024-06-19T03:33:47.586083Z",
          "iopub.status.idle": "2024-06-19T03:33:47.612638Z",
          "shell.execute_reply.started": "2024-06-19T03:33:47.586043Z",
          "shell.execute_reply": "2024-06-19T03:33:47.611584Z"
        },
        "trusted": true,
        "id": "pq_Ry_EquK-N",
        "outputId": "b12ccc13-aa92-4f8e-d613-acaa04bcfbd9"
      },
      "execution_count": null,
      "outputs": [
        {
          "execution_count": 3,
          "output_type": "execute_result",
          "data": {
            "text/plain": "    country                                        description  \\\n0     Italy  Aromas include tropical fruit, broom, brimston...   \n1  Portugal  This is ripe and fruity, a wine that is smooth...   \n2        US  Tart and snappy, the flavors of lime flesh and...   \n3        US  Pineapple rind, lemon pith and orange blossom ...   \n4        US  Much like the regular bottling from 2012, this...   \n\n                          designation  points  price           province  \\\n0                        Vulkà Bianco      87    NaN  Sicily & Sardinia   \n1                            Avidagos      87   15.0              Douro   \n2                                 NaN      87   14.0             Oregon   \n3                Reserve Late Harvest      87   13.0           Michigan   \n4  Vintner's Reserve Wild Child Block      87   65.0             Oregon   \n\n              region_1           region_2         taster_name  \\\n0                 Etna                NaN       Kerin O’Keefe   \n1                  NaN                NaN          Roger Voss   \n2    Willamette Valley  Willamette Valley        Paul Gregutt   \n3  Lake Michigan Shore                NaN  Alexander Peartree   \n4    Willamette Valley  Willamette Valley        Paul Gregutt   \n\n  taster_twitter_handle                                              title  \\\n0          @kerinokeefe                  Nicosia 2013 Vulkà Bianco  (Etna)   \n1            @vossroger      Quinta dos Avidagos 2011 Avidagos Red (Douro)   \n2           @paulgwine       Rainstorm 2013 Pinot Gris (Willamette Valley)   \n3                   NaN  St. Julian 2013 Reserve Late Harvest Riesling ...   \n4           @paulgwine   Sweet Cheeks 2012 Vintner's Reserve Wild Child...   \n\n          variety               winery  \n0     White Blend              Nicosia  \n1  Portuguese Red  Quinta dos Avidagos  \n2      Pinot Gris            Rainstorm  \n3        Riesling           St. Julian  \n4      Pinot Noir         Sweet Cheeks  ",
            "text/html": "<div>\n<style scoped>\n    .dataframe tbody tr th:only-of-type {\n        vertical-align: middle;\n    }\n\n    .dataframe tbody tr th {\n        vertical-align: top;\n    }\n\n    .dataframe thead th {\n        text-align: right;\n    }\n</style>\n<table border=\"1\" class=\"dataframe\">\n  <thead>\n    <tr style=\"text-align: right;\">\n      <th></th>\n      <th>country</th>\n      <th>description</th>\n      <th>designation</th>\n      <th>points</th>\n      <th>price</th>\n      <th>province</th>\n      <th>region_1</th>\n      <th>region_2</th>\n      <th>taster_name</th>\n      <th>taster_twitter_handle</th>\n      <th>title</th>\n      <th>variety</th>\n      <th>winery</th>\n    </tr>\n  </thead>\n  <tbody>\n    <tr>\n      <th>0</th>\n      <td>Italy</td>\n      <td>Aromas include tropical fruit, broom, brimston...</td>\n      <td>Vulkà Bianco</td>\n      <td>87</td>\n      <td>NaN</td>\n      <td>Sicily &amp; Sardinia</td>\n      <td>Etna</td>\n      <td>NaN</td>\n      <td>Kerin O’Keefe</td>\n      <td>@kerinokeefe</td>\n      <td>Nicosia 2013 Vulkà Bianco  (Etna)</td>\n      <td>White Blend</td>\n      <td>Nicosia</td>\n    </tr>\n    <tr>\n      <th>1</th>\n      <td>Portugal</td>\n      <td>This is ripe and fruity, a wine that is smooth...</td>\n      <td>Avidagos</td>\n      <td>87</td>\n      <td>15.0</td>\n      <td>Douro</td>\n      <td>NaN</td>\n      <td>NaN</td>\n      <td>Roger Voss</td>\n      <td>@vossroger</td>\n      <td>Quinta dos Avidagos 2011 Avidagos Red (Douro)</td>\n      <td>Portuguese Red</td>\n      <td>Quinta dos Avidagos</td>\n    </tr>\n    <tr>\n      <th>2</th>\n      <td>US</td>\n      <td>Tart and snappy, the flavors of lime flesh and...</td>\n      <td>NaN</td>\n      <td>87</td>\n      <td>14.0</td>\n      <td>Oregon</td>\n      <td>Willamette Valley</td>\n      <td>Willamette Valley</td>\n      <td>Paul Gregutt</td>\n      <td>@paulgwine</td>\n      <td>Rainstorm 2013 Pinot Gris (Willamette Valley)</td>\n      <td>Pinot Gris</td>\n      <td>Rainstorm</td>\n    </tr>\n    <tr>\n      <th>3</th>\n      <td>US</td>\n      <td>Pineapple rind, lemon pith and orange blossom ...</td>\n      <td>Reserve Late Harvest</td>\n      <td>87</td>\n      <td>13.0</td>\n      <td>Michigan</td>\n      <td>Lake Michigan Shore</td>\n      <td>NaN</td>\n      <td>Alexander Peartree</td>\n      <td>NaN</td>\n      <td>St. Julian 2013 Reserve Late Harvest Riesling ...</td>\n      <td>Riesling</td>\n      <td>St. Julian</td>\n    </tr>\n    <tr>\n      <th>4</th>\n      <td>US</td>\n      <td>Much like the regular bottling from 2012, this...</td>\n      <td>Vintner's Reserve Wild Child Block</td>\n      <td>87</td>\n      <td>65.0</td>\n      <td>Oregon</td>\n      <td>Willamette Valley</td>\n      <td>Willamette Valley</td>\n      <td>Paul Gregutt</td>\n      <td>@paulgwine</td>\n      <td>Sweet Cheeks 2012 Vintner's Reserve Wild Child...</td>\n      <td>Pinot Noir</td>\n      <td>Sweet Cheeks</td>\n    </tr>\n  </tbody>\n</table>\n</div>"
          },
          "metadata": {}
        }
      ]
    },
    {
      "cell_type": "markdown",
      "source": [
        "# Exercises"
      ],
      "metadata": {
        "id": "1pLsM8X1uK-V"
      }
    },
    {
      "cell_type": "markdown",
      "source": [
        "## 1.\n",
        "\n",
        "Select the `description` column from `reviews` and assign the result to the variable `desc`."
      ],
      "metadata": {
        "id": "vF2DsczJuK-Y"
      }
    },
    {
      "cell_type": "code",
      "source": [
        "# Your code here\n",
        "desc = reviews['description']\n",
        "\n",
        "# Check your answer\n",
        "q1.check()"
      ],
      "metadata": {
        "execution": {
          "iopub.status.busy": "2024-06-19T03:34:07.232728Z",
          "iopub.execute_input": "2024-06-19T03:34:07.233095Z",
          "iopub.status.idle": "2024-06-19T03:34:07.243444Z",
          "shell.execute_reply.started": "2024-06-19T03:34:07.233068Z",
          "shell.execute_reply": "2024-06-19T03:34:07.242237Z"
        },
        "trusted": true,
        "id": "Hrp8Bap4uK-_",
        "outputId": "ee5ec47e-3cf6-4904-dd33-24062da2129b"
      },
      "execution_count": null,
      "outputs": [
        {
          "output_type": "display_data",
          "data": {
            "text/plain": "<IPython.core.display.Javascript object>",
            "application/javascript": "parent.postMessage({\"jupyterEvent\": \"custom.exercise_interaction\", \"data\": {\"outcomeType\": 1, \"valueTowardsCompletion\": 0.1111111111111111, \"interactionType\": 1, \"questionType\": 1, \"questionId\": \"1_SelectDescCol\", \"learnToolsVersion\": \"0.3.4\", \"failureMessage\": \"\", \"exceptionClass\": \"\", \"trace\": \"\"}}, \"*\")"
          },
          "metadata": {}
        },
        {
          "output_type": "display_data",
          "data": {
            "text/plain": "Correct",
            "text/markdown": "<span style=\"color:#33cc33\">Correct</span>"
          },
          "metadata": {}
        }
      ]
    },
    {
      "cell_type": "markdown",
      "source": [
        "Follow-up question: what type of object is `desc`? If you're not sure, you can check by calling Python's `type` function: `type(desc)`."
      ],
      "metadata": {
        "id": "HTxElHbEuK_O"
      }
    },
    {
      "cell_type": "code",
      "source": [
        "#q1.hint()\n",
        "#q1.solution()"
      ],
      "metadata": {
        "execution": {
          "iopub.status.busy": "2024-06-19T03:33:47.626751Z",
          "iopub.execute_input": "2024-06-19T03:33:47.627195Z",
          "iopub.status.idle": "2024-06-19T03:33:47.632881Z",
          "shell.execute_reply.started": "2024-06-19T03:33:47.627155Z",
          "shell.execute_reply": "2024-06-19T03:33:47.631792Z"
        },
        "trusted": true,
        "id": "31wQZi5CuK_k"
      },
      "execution_count": null,
      "outputs": []
    },
    {
      "cell_type": "markdown",
      "source": [
        "## 2.\n",
        "\n",
        "Select the first value from the description column of `reviews`, assigning it to variable `first_description`."
      ],
      "metadata": {
        "id": "hdXwjFVTuK_x"
      }
    },
    {
      "cell_type": "code",
      "source": [
        "first_description = reviews['description'][0]\n",
        "\n",
        "# Check your answer\n",
        "q2.check()\n",
        "first_description"
      ],
      "metadata": {
        "execution": {
          "iopub.status.busy": "2024-06-19T03:35:05.177582Z",
          "iopub.execute_input": "2024-06-19T03:35:05.177997Z",
          "iopub.status.idle": "2024-06-19T03:35:05.192635Z",
          "shell.execute_reply.started": "2024-06-19T03:35:05.177965Z",
          "shell.execute_reply": "2024-06-19T03:35:05.191195Z"
        },
        "trusted": true,
        "id": "3-Cq7I1UuLAB",
        "outputId": "6abd597f-2288-4be9-d1e0-24b4cbfea6d2"
      },
      "execution_count": null,
      "outputs": [
        {
          "output_type": "display_data",
          "data": {
            "text/plain": "<IPython.core.display.Javascript object>",
            "application/javascript": "parent.postMessage({\"jupyterEvent\": \"custom.exercise_interaction\", \"data\": {\"outcomeType\": 1, \"valueTowardsCompletion\": 0.1111111111111111, \"interactionType\": 1, \"questionType\": 1, \"questionId\": \"2_FirstDesc\", \"learnToolsVersion\": \"0.3.4\", \"failureMessage\": \"\", \"exceptionClass\": \"\", \"trace\": \"\"}}, \"*\")"
          },
          "metadata": {}
        },
        {
          "output_type": "display_data",
          "data": {
            "text/plain": "Correct: \n\n\n```python\nfirst_description = reviews.description.iloc[0]\n```\nNote that while this is the preferred way to obtain the entry in the DataFrame, many other options will return a valid result, such as `reviews.description.loc[0]`, `reviews.description[0]`, and more!  ",
            "text/markdown": "<span style=\"color:#33cc33\">Correct:</span> \n\n\n```python\nfirst_description = reviews.description.iloc[0]\n```\nNote that while this is the preferred way to obtain the entry in the DataFrame, many other options will return a valid result, such as `reviews.description.loc[0]`, `reviews.description[0]`, and more!  \n"
          },
          "metadata": {}
        },
        {
          "execution_count": 23,
          "output_type": "execute_result",
          "data": {
            "text/plain": "\"Aromas include tropical fruit, broom, brimstone and dried herb. The palate isn't overly expressive, offering unripened apple, citrus and dried sage alongside brisk acidity.\""
          },
          "metadata": {}
        }
      ]
    },
    {
      "cell_type": "code",
      "source": [
        "#q2.hint()\n",
        "#q2.solution()"
      ],
      "metadata": {
        "execution": {
          "iopub.status.busy": "2024-06-19T03:33:47.6514Z",
          "iopub.execute_input": "2024-06-19T03:33:47.651854Z",
          "iopub.status.idle": "2024-06-19T03:33:47.657219Z",
          "shell.execute_reply.started": "2024-06-19T03:33:47.651814Z",
          "shell.execute_reply": "2024-06-19T03:33:47.655801Z"
        },
        "trusted": true,
        "id": "V5tPcUqZuLAC"
      },
      "execution_count": null,
      "outputs": []
    },
    {
      "cell_type": "markdown",
      "source": [
        "## 3.\n",
        "\n",
        "Select the first row of data (the first record) from `reviews`, assigning it to the variable `first_row`."
      ],
      "metadata": {
        "id": "WjZ5aIS6uLAQ"
      }
    },
    {
      "cell_type": "code",
      "source": [
        "first_row = reviews.iloc[0]\n",
        "\n",
        "# Check your answer\n",
        "q3.check()\n",
        "first_row"
      ],
      "metadata": {
        "execution": {
          "iopub.status.busy": "2024-06-19T03:36:03.988971Z",
          "iopub.execute_input": "2024-06-19T03:36:03.989349Z",
          "iopub.status.idle": "2024-06-19T03:36:04.004166Z",
          "shell.execute_reply.started": "2024-06-19T03:36:03.989319Z",
          "shell.execute_reply": "2024-06-19T03:36:04.002957Z"
        },
        "trusted": true,
        "id": "bug2povJuLAS",
        "outputId": "a52cfeeb-cdbd-4902-c176-b0f04a2eac7f"
      },
      "execution_count": null,
      "outputs": [
        {
          "output_type": "display_data",
          "data": {
            "text/plain": "<IPython.core.display.Javascript object>",
            "application/javascript": "parent.postMessage({\"jupyterEvent\": \"custom.exercise_interaction\", \"data\": {\"outcomeType\": 1, \"valueTowardsCompletion\": 0.1111111111111111, \"interactionType\": 1, \"questionType\": 1, \"questionId\": \"3_FirstRow\", \"learnToolsVersion\": \"0.3.4\", \"failureMessage\": \"\", \"exceptionClass\": \"\", \"trace\": \"\"}}, \"*\")"
          },
          "metadata": {}
        },
        {
          "output_type": "display_data",
          "data": {
            "text/plain": "Correct",
            "text/markdown": "<span style=\"color:#33cc33\">Correct</span>"
          },
          "metadata": {}
        },
        {
          "execution_count": 24,
          "output_type": "execute_result",
          "data": {
            "text/plain": "country                                                    Italy\ndescription    Aromas include tropical fruit, broom, brimston...\n                                     ...                        \nvariety                                              White Blend\nwinery                                                   Nicosia\nName: 0, Length: 13, dtype: object"
          },
          "metadata": {}
        }
      ]
    },
    {
      "cell_type": "code",
      "source": [
        "#q3.hint()\n",
        "#q3.solution()"
      ],
      "metadata": {
        "execution": {
          "iopub.status.busy": "2024-06-19T03:33:47.676542Z",
          "iopub.execute_input": "2024-06-19T03:33:47.676897Z",
          "iopub.status.idle": "2024-06-19T03:33:47.682896Z",
          "shell.execute_reply.started": "2024-06-19T03:33:47.676868Z",
          "shell.execute_reply": "2024-06-19T03:33:47.681713Z"
        },
        "trusted": true,
        "id": "LUuzvFGbuLAh"
      },
      "execution_count": null,
      "outputs": []
    },
    {
      "cell_type": "markdown",
      "source": [
        "## 4.\n",
        "\n",
        "Select the first 10 values from the `description` column in `reviews`, assigning the result to variable `first_descriptions`.\n",
        "\n",
        "Hint: format your output as a pandas Series."
      ],
      "metadata": {
        "id": "vrJ9vk-LuLAi"
      }
    },
    {
      "cell_type": "code",
      "source": [
        "first_descriptions = reviews.description.iloc[:10]\n",
        "\n",
        "# Check your answer\n",
        "q4.check()\n",
        "first_descriptions"
      ],
      "metadata": {
        "execution": {
          "iopub.status.busy": "2024-06-19T03:38:01.153866Z",
          "iopub.execute_input": "2024-06-19T03:38:01.154269Z",
          "iopub.status.idle": "2024-06-19T03:38:01.170553Z",
          "shell.execute_reply.started": "2024-06-19T03:38:01.154237Z",
          "shell.execute_reply": "2024-06-19T03:38:01.169187Z"
        },
        "trusted": true,
        "id": "sPlvLJnPuLAp",
        "outputId": "ae9696a8-812e-4e9d-8efb-3ea596f72cde"
      },
      "execution_count": null,
      "outputs": [
        {
          "output_type": "display_data",
          "data": {
            "text/plain": "<IPython.core.display.Javascript object>",
            "application/javascript": "parent.postMessage({\"jupyterEvent\": \"custom.exercise_interaction\", \"data\": {\"outcomeType\": 1, \"valueTowardsCompletion\": 0.1111111111111111, \"interactionType\": 1, \"questionType\": 1, \"questionId\": \"4_FirstDescs\", \"learnToolsVersion\": \"0.3.4\", \"failureMessage\": \"\", \"exceptionClass\": \"\", \"trace\": \"\"}}, \"*\")"
          },
          "metadata": {}
        },
        {
          "output_type": "display_data",
          "data": {
            "text/plain": "Correct: \n\n\n```python\nfirst_descriptions = reviews.description.iloc[:10]\n```\nNote that many other options will return a valid result, such as `desc.head(10)` and `reviews.loc[:9, \"description\"]`.    ",
            "text/markdown": "<span style=\"color:#33cc33\">Correct:</span> \n\n\n```python\nfirst_descriptions = reviews.description.iloc[:10]\n```\nNote that many other options will return a valid result, such as `desc.head(10)` and `reviews.loc[:9, \"description\"]`.    \n"
          },
          "metadata": {}
        },
        {
          "execution_count": 27,
          "output_type": "execute_result",
          "data": {
            "text/plain": "0    Aromas include tropical fruit, broom, brimston...\n1    This is ripe and fruity, a wine that is smooth...\n                           ...                        \n8    Savory dried thyme notes accent sunnier flavor...\n9    This has great depth of flavor with its fresh ...\nName: description, Length: 10, dtype: object"
          },
          "metadata": {}
        }
      ]
    },
    {
      "cell_type": "code",
      "source": [
        "#q4.hint()\n",
        "#q4.solution()"
      ],
      "metadata": {
        "execution": {
          "iopub.status.busy": "2024-06-19T03:33:47.707236Z",
          "iopub.execute_input": "2024-06-19T03:33:47.707624Z",
          "iopub.status.idle": "2024-06-19T03:33:47.712614Z",
          "shell.execute_reply.started": "2024-06-19T03:33:47.707592Z",
          "shell.execute_reply": "2024-06-19T03:33:47.711177Z"
        },
        "trusted": true,
        "id": "Q_ka1QrvuLAw"
      },
      "execution_count": null,
      "outputs": []
    },
    {
      "cell_type": "markdown",
      "source": [
        "## 5.\n",
        "\n",
        "Select the records with index labels `1`, `2`, `3`, `5`, and `8`, assigning the result to the variable `sample_reviews`.\n",
        "\n",
        "In other words, generate the following DataFrame:\n",
        "\n",
        "![](https://storage.googleapis.com/kaggle-media/learn/images/sHZvI1O.png)"
      ],
      "metadata": {
        "id": "sorV2K9buLAz"
      }
    },
    {
      "cell_type": "code",
      "source": [
        "sample_reviews = reviews.loc[reviews.index.isin([1,2,3,5,8])]\n",
        "\n",
        "# Check your answer\n",
        "q5.check()\n",
        "sample_reviews"
      ],
      "metadata": {
        "execution": {
          "iopub.status.busy": "2024-06-19T03:41:00.025393Z",
          "iopub.execute_input": "2024-06-19T03:41:00.026011Z",
          "iopub.status.idle": "2024-06-19T03:41:00.057915Z",
          "shell.execute_reply.started": "2024-06-19T03:41:00.025958Z",
          "shell.execute_reply": "2024-06-19T03:41:00.056755Z"
        },
        "trusted": true,
        "id": "pGsp-4AjuLA0",
        "outputId": "21028b98-312e-4090-cad4-be774377e0b4"
      },
      "execution_count": null,
      "outputs": [
        {
          "output_type": "display_data",
          "data": {
            "text/plain": "<IPython.core.display.Javascript object>",
            "application/javascript": "parent.postMessage({\"jupyterEvent\": \"custom.exercise_interaction\", \"data\": {\"outcomeType\": 1, \"valueTowardsCompletion\": 0.1111111111111111, \"interactionType\": 1, \"questionType\": 1, \"questionId\": \"5_SampleReviews\", \"learnToolsVersion\": \"0.3.4\", \"failureMessage\": \"\", \"exceptionClass\": \"\", \"trace\": \"\"}}, \"*\")"
          },
          "metadata": {}
        },
        {
          "output_type": "display_data",
          "data": {
            "text/plain": "Correct",
            "text/markdown": "<span style=\"color:#33cc33\">Correct</span>"
          },
          "metadata": {}
        },
        {
          "execution_count": 28,
          "output_type": "execute_result",
          "data": {
            "text/plain": "    country                                        description  \\\n1  Portugal  This is ripe and fruity, a wine that is smooth...   \n2        US  Tart and snappy, the flavors of lime flesh and...   \n3        US  Pineapple rind, lemon pith and orange blossom ...   \n5     Spain  Blackberry and raspberry aromas show a typical...   \n8   Germany  Savory dried thyme notes accent sunnier flavor...   \n\n            designation  points  price        province             region_1  \\\n1              Avidagos      87   15.0           Douro                  NaN   \n2                   NaN      87   14.0          Oregon    Willamette Valley   \n3  Reserve Late Harvest      87   13.0        Michigan  Lake Michigan Shore   \n5          Ars In Vitro      87   15.0  Northern Spain              Navarra   \n8                 Shine      87   12.0     Rheinhessen                  NaN   \n\n            region_2         taster_name taster_twitter_handle  \\\n1                NaN          Roger Voss            @vossroger   \n2  Willamette Valley        Paul Gregutt           @paulgwine    \n3                NaN  Alexander Peartree                   NaN   \n5                NaN   Michael Schachner           @wineschach   \n8                NaN  Anna Lee C. Iijima                   NaN   \n\n                                               title             variety  \\\n1      Quinta dos Avidagos 2011 Avidagos Red (Douro)      Portuguese Red   \n2      Rainstorm 2013 Pinot Gris (Willamette Valley)          Pinot Gris   \n3  St. Julian 2013 Reserve Late Harvest Riesling ...            Riesling   \n5  Tandem 2011 Ars In Vitro Tempranillo-Merlot (N...  Tempranillo-Merlot   \n8  Heinz Eifel 2013 Shine Gewürztraminer (Rheinhe...      Gewürztraminer   \n\n                winery  \n1  Quinta dos Avidagos  \n2            Rainstorm  \n3           St. Julian  \n5               Tandem  \n8          Heinz Eifel  ",
            "text/html": "<div>\n<style scoped>\n    .dataframe tbody tr th:only-of-type {\n        vertical-align: middle;\n    }\n\n    .dataframe tbody tr th {\n        vertical-align: top;\n    }\n\n    .dataframe thead th {\n        text-align: right;\n    }\n</style>\n<table border=\"1\" class=\"dataframe\">\n  <thead>\n    <tr style=\"text-align: right;\">\n      <th></th>\n      <th>country</th>\n      <th>description</th>\n      <th>designation</th>\n      <th>points</th>\n      <th>price</th>\n      <th>province</th>\n      <th>region_1</th>\n      <th>region_2</th>\n      <th>taster_name</th>\n      <th>taster_twitter_handle</th>\n      <th>title</th>\n      <th>variety</th>\n      <th>winery</th>\n    </tr>\n  </thead>\n  <tbody>\n    <tr>\n      <th>1</th>\n      <td>Portugal</td>\n      <td>This is ripe and fruity, a wine that is smooth...</td>\n      <td>Avidagos</td>\n      <td>87</td>\n      <td>15.0</td>\n      <td>Douro</td>\n      <td>NaN</td>\n      <td>NaN</td>\n      <td>Roger Voss</td>\n      <td>@vossroger</td>\n      <td>Quinta dos Avidagos 2011 Avidagos Red (Douro)</td>\n      <td>Portuguese Red</td>\n      <td>Quinta dos Avidagos</td>\n    </tr>\n    <tr>\n      <th>2</th>\n      <td>US</td>\n      <td>Tart and snappy, the flavors of lime flesh and...</td>\n      <td>NaN</td>\n      <td>87</td>\n      <td>14.0</td>\n      <td>Oregon</td>\n      <td>Willamette Valley</td>\n      <td>Willamette Valley</td>\n      <td>Paul Gregutt</td>\n      <td>@paulgwine</td>\n      <td>Rainstorm 2013 Pinot Gris (Willamette Valley)</td>\n      <td>Pinot Gris</td>\n      <td>Rainstorm</td>\n    </tr>\n    <tr>\n      <th>3</th>\n      <td>US</td>\n      <td>Pineapple rind, lemon pith and orange blossom ...</td>\n      <td>Reserve Late Harvest</td>\n      <td>87</td>\n      <td>13.0</td>\n      <td>Michigan</td>\n      <td>Lake Michigan Shore</td>\n      <td>NaN</td>\n      <td>Alexander Peartree</td>\n      <td>NaN</td>\n      <td>St. Julian 2013 Reserve Late Harvest Riesling ...</td>\n      <td>Riesling</td>\n      <td>St. Julian</td>\n    </tr>\n    <tr>\n      <th>5</th>\n      <td>Spain</td>\n      <td>Blackberry and raspberry aromas show a typical...</td>\n      <td>Ars In Vitro</td>\n      <td>87</td>\n      <td>15.0</td>\n      <td>Northern Spain</td>\n      <td>Navarra</td>\n      <td>NaN</td>\n      <td>Michael Schachner</td>\n      <td>@wineschach</td>\n      <td>Tandem 2011 Ars In Vitro Tempranillo-Merlot (N...</td>\n      <td>Tempranillo-Merlot</td>\n      <td>Tandem</td>\n    </tr>\n    <tr>\n      <th>8</th>\n      <td>Germany</td>\n      <td>Savory dried thyme notes accent sunnier flavor...</td>\n      <td>Shine</td>\n      <td>87</td>\n      <td>12.0</td>\n      <td>Rheinhessen</td>\n      <td>NaN</td>\n      <td>NaN</td>\n      <td>Anna Lee C. Iijima</td>\n      <td>NaN</td>\n      <td>Heinz Eifel 2013 Shine Gewürztraminer (Rheinhe...</td>\n      <td>Gewürztraminer</td>\n      <td>Heinz Eifel</td>\n    </tr>\n  </tbody>\n</table>\n</div>"
          },
          "metadata": {}
        }
      ]
    },
    {
      "cell_type": "code",
      "source": [
        "#q5.hint()\n",
        "#q5.solution()"
      ],
      "metadata": {
        "execution": {
          "iopub.status.busy": "2024-06-19T03:33:47.737905Z",
          "iopub.execute_input": "2024-06-19T03:33:47.738578Z",
          "iopub.status.idle": "2024-06-19T03:33:47.743129Z",
          "shell.execute_reply.started": "2024-06-19T03:33:47.738545Z",
          "shell.execute_reply": "2024-06-19T03:33:47.741975Z"
        },
        "trusted": true,
        "id": "aVdJQjQEuLBE"
      },
      "execution_count": null,
      "outputs": []
    },
    {
      "cell_type": "markdown",
      "source": [
        "## 6.\n",
        "\n",
        "Create a variable `df` containing the `country`, `province`, `region_1`, and `region_2` columns of the records with the index labels `0`, `1`, `10`, and `100`. In other words, generate the following DataFrame:\n",
        "\n",
        "![](https://storage.googleapis.com/kaggle-media/learn/images/FUCGiKP.png)"
      ],
      "metadata": {
        "id": "Ubzw_HwauLBR"
      }
    },
    {
      "cell_type": "code",
      "source": [
        "df = reviews.loc[reviews.index.isin([0,1,10,100]),reviews.columns.isin(['country','province','region_1','region_2'])]\n",
        "\n",
        "# Check your answer\n",
        "q6.check()\n",
        "df"
      ],
      "metadata": {
        "execution": {
          "iopub.status.busy": "2024-06-19T04:00:57.565233Z",
          "iopub.execute_input": "2024-06-19T04:00:57.565655Z",
          "iopub.status.idle": "2024-06-19T04:00:57.594796Z",
          "shell.execute_reply.started": "2024-06-19T04:00:57.565626Z",
          "shell.execute_reply": "2024-06-19T04:00:57.593511Z"
        },
        "trusted": true,
        "id": "jZ8YQZSfuLBU",
        "outputId": "14b1bb23-859a-40a7-803f-d66eeac00fa8"
      },
      "execution_count": null,
      "outputs": [
        {
          "output_type": "display_data",
          "data": {
            "text/plain": "<IPython.core.display.Javascript object>",
            "application/javascript": "parent.postMessage({\"jupyterEvent\": \"custom.exercise_interaction\", \"data\": {\"outcomeType\": 1, \"valueTowardsCompletion\": 0.1111111111111111, \"interactionType\": 1, \"questionType\": 1, \"questionId\": \"6_RowColSelect\", \"learnToolsVersion\": \"0.3.4\", \"failureMessage\": \"\", \"exceptionClass\": \"\", \"trace\": \"\"}}, \"*\")"
          },
          "metadata": {}
        },
        {
          "output_type": "display_data",
          "data": {
            "text/plain": "Correct",
            "text/markdown": "<span style=\"color:#33cc33\">Correct</span>"
          },
          "metadata": {}
        },
        {
          "execution_count": 37,
          "output_type": "execute_result",
          "data": {
            "text/plain": "      country           province      region_1      region_2\n0       Italy  Sicily & Sardinia          Etna           NaN\n1    Portugal              Douro           NaN           NaN\n10         US         California   Napa Valley          Napa\n100        US           New York  Finger Lakes  Finger Lakes",
            "text/html": "<div>\n<style scoped>\n    .dataframe tbody tr th:only-of-type {\n        vertical-align: middle;\n    }\n\n    .dataframe tbody tr th {\n        vertical-align: top;\n    }\n\n    .dataframe thead th {\n        text-align: right;\n    }\n</style>\n<table border=\"1\" class=\"dataframe\">\n  <thead>\n    <tr style=\"text-align: right;\">\n      <th></th>\n      <th>country</th>\n      <th>province</th>\n      <th>region_1</th>\n      <th>region_2</th>\n    </tr>\n  </thead>\n  <tbody>\n    <tr>\n      <th>0</th>\n      <td>Italy</td>\n      <td>Sicily &amp; Sardinia</td>\n      <td>Etna</td>\n      <td>NaN</td>\n    </tr>\n    <tr>\n      <th>1</th>\n      <td>Portugal</td>\n      <td>Douro</td>\n      <td>NaN</td>\n      <td>NaN</td>\n    </tr>\n    <tr>\n      <th>10</th>\n      <td>US</td>\n      <td>California</td>\n      <td>Napa Valley</td>\n      <td>Napa</td>\n    </tr>\n    <tr>\n      <th>100</th>\n      <td>US</td>\n      <td>New York</td>\n      <td>Finger Lakes</td>\n      <td>Finger Lakes</td>\n    </tr>\n  </tbody>\n</table>\n</div>"
          },
          "metadata": {}
        }
      ]
    },
    {
      "cell_type": "code",
      "source": [
        "#q6.hint()\n",
        "#q6.solution()"
      ],
      "metadata": {
        "execution": {
          "iopub.status.busy": "2024-06-19T03:33:47.766124Z",
          "iopub.execute_input": "2024-06-19T03:33:47.766498Z",
          "iopub.status.idle": "2024-06-19T03:33:47.771721Z",
          "shell.execute_reply.started": "2024-06-19T03:33:47.766467Z",
          "shell.execute_reply": "2024-06-19T03:33:47.770446Z"
        },
        "trusted": true,
        "id": "D6aCaQxtuLBj"
      },
      "execution_count": null,
      "outputs": []
    },
    {
      "cell_type": "markdown",
      "source": [
        "## 7.\n",
        "\n",
        "Create a variable `df` containing the `country` and `variety` columns of the first 100 records.\n",
        "\n",
        "Hint: you may use `loc` or `iloc`. When working on the answer this question and the several of the ones that follow, keep the following \"gotcha\" described in the tutorial:\n",
        "\n",
        "> `iloc` uses the Python stdlib indexing scheme, where the first element of the range is included and the last one excluded.\n",
        "`loc`, meanwhile, indexes inclusively.\n",
        "\n",
        "> This is particularly confusing when the DataFrame index is a simple numerical list, e.g. `0,...,1000`. In this case `df.iloc[0:1000]` will return 1000 entries, while `df.loc[0:1000]` return 1001 of them! To get 1000 elements using `loc`, you will need to go one lower and ask for `df.iloc[0:999]`."
      ],
      "metadata": {
        "id": "KDW2D1_wuLBl"
      }
    },
    {
      "cell_type": "code",
      "source": [
        "df = reviews.iloc[0:100,reviews.columns.isin(['country','variety'])]\n",
        "\n",
        "# Check your answer\n",
        "q7.check()\n",
        "df"
      ],
      "metadata": {
        "execution": {
          "iopub.status.busy": "2024-06-19T04:04:33.135663Z",
          "iopub.execute_input": "2024-06-19T04:04:33.136141Z",
          "iopub.status.idle": "2024-06-19T04:04:33.157393Z",
          "shell.execute_reply.started": "2024-06-19T04:04:33.136107Z",
          "shell.execute_reply": "2024-06-19T04:04:33.156218Z"
        },
        "trusted": true,
        "id": "dliy9AFvuLCH",
        "outputId": "1aeaac6e-adb2-4901-b547-6fd3a24b9844"
      },
      "execution_count": null,
      "outputs": [
        {
          "output_type": "display_data",
          "data": {
            "text/plain": "<IPython.core.display.Javascript object>",
            "application/javascript": "parent.postMessage({\"jupyterEvent\": \"custom.exercise_interaction\", \"data\": {\"outcomeType\": 1, \"valueTowardsCompletion\": 0.1111111111111111, \"interactionType\": 1, \"questionType\": 1, \"questionId\": \"7_RowColSelect2\", \"learnToolsVersion\": \"0.3.4\", \"failureMessage\": \"\", \"exceptionClass\": \"\", \"trace\": \"\"}}, \"*\")"
          },
          "metadata": {}
        },
        {
          "output_type": "display_data",
          "data": {
            "text/plain": "Correct: \n\n\n```python\ncols = ['country', 'variety']\ndf = reviews.loc[:99, cols]\n```\nor \n```python\ncols_idx = [0, 11]\ndf = reviews.iloc[:100, cols_idx]\n```",
            "text/markdown": "<span style=\"color:#33cc33\">Correct:</span> \n\n\n```python\ncols = ['country', 'variety']\ndf = reviews.loc[:99, cols]\n```\nor \n```python\ncols_idx = [0, 11]\ndf = reviews.iloc[:100, cols_idx]\n```\n"
          },
          "metadata": {}
        },
        {
          "execution_count": 42,
          "output_type": "execute_result",
          "data": {
            "text/plain": "     country                   variety\n0      Italy               White Blend\n1   Portugal            Portuguese Red\n..       ...                       ...\n98     Italy                Sangiovese\n99        US  Bordeaux-style Red Blend\n\n[100 rows x 2 columns]",
            "text/html": "<div>\n<style scoped>\n    .dataframe tbody tr th:only-of-type {\n        vertical-align: middle;\n    }\n\n    .dataframe tbody tr th {\n        vertical-align: top;\n    }\n\n    .dataframe thead th {\n        text-align: right;\n    }\n</style>\n<table border=\"1\" class=\"dataframe\">\n  <thead>\n    <tr style=\"text-align: right;\">\n      <th></th>\n      <th>country</th>\n      <th>variety</th>\n    </tr>\n  </thead>\n  <tbody>\n    <tr>\n      <th>0</th>\n      <td>Italy</td>\n      <td>White Blend</td>\n    </tr>\n    <tr>\n      <th>1</th>\n      <td>Portugal</td>\n      <td>Portuguese Red</td>\n    </tr>\n    <tr>\n      <th>...</th>\n      <td>...</td>\n      <td>...</td>\n    </tr>\n    <tr>\n      <th>98</th>\n      <td>Italy</td>\n      <td>Sangiovese</td>\n    </tr>\n    <tr>\n      <th>99</th>\n      <td>US</td>\n      <td>Bordeaux-style Red Blend</td>\n    </tr>\n  </tbody>\n</table>\n<p>100 rows × 2 columns</p>\n</div>"
          },
          "metadata": {}
        }
      ]
    },
    {
      "cell_type": "code",
      "source": [
        "#q7.hint()\n",
        "#q7.solution()"
      ],
      "metadata": {
        "execution": {
          "iopub.status.busy": "2024-06-19T03:33:47.79102Z",
          "iopub.execute_input": "2024-06-19T03:33:47.791449Z",
          "iopub.status.idle": "2024-06-19T03:33:47.797224Z",
          "shell.execute_reply.started": "2024-06-19T03:33:47.791382Z",
          "shell.execute_reply": "2024-06-19T03:33:47.796219Z"
        },
        "trusted": true,
        "id": "WO58gupsuLCT"
      },
      "execution_count": null,
      "outputs": []
    },
    {
      "cell_type": "markdown",
      "source": [
        "## 8.\n",
        "\n",
        "Create a DataFrame `italian_wines` containing reviews of wines made in `Italy`. Hint: `reviews.country` equals what?"
      ],
      "metadata": {
        "id": "nWyJUqvuuLCW"
      }
    },
    {
      "cell_type": "code",
      "source": [
        "italian_wines = reviews.loc[reviews.country.isin(['Italy'])]\n",
        "\n",
        "# Check your answer\n",
        "q8.check()"
      ],
      "metadata": {
        "execution": {
          "iopub.status.busy": "2024-06-19T04:07:13.361901Z",
          "iopub.execute_input": "2024-06-19T04:07:13.3623Z",
          "iopub.status.idle": "2024-06-19T04:07:13.389863Z",
          "shell.execute_reply.started": "2024-06-19T04:07:13.362271Z",
          "shell.execute_reply": "2024-06-19T04:07:13.388447Z"
        },
        "trusted": true,
        "id": "jIeUwFVNuLCX",
        "outputId": "19cbe46a-3872-4756-9a30-a8f5c56f55b6"
      },
      "execution_count": null,
      "outputs": [
        {
          "output_type": "display_data",
          "data": {
            "text/plain": "<IPython.core.display.Javascript object>",
            "application/javascript": "parent.postMessage({\"jupyterEvent\": \"custom.exercise_interaction\", \"data\": {\"outcomeType\": 1, \"valueTowardsCompletion\": 0.1111111111111111, \"interactionType\": 1, \"questionType\": 1, \"questionId\": \"8_ItalianWines\", \"learnToolsVersion\": \"0.3.4\", \"failureMessage\": \"\", \"exceptionClass\": \"\", \"trace\": \"\"}}, \"*\")"
          },
          "metadata": {}
        },
        {
          "output_type": "display_data",
          "data": {
            "text/plain": "Correct",
            "text/markdown": "<span style=\"color:#33cc33\">Correct</span>"
          },
          "metadata": {}
        }
      ]
    },
    {
      "cell_type": "code",
      "source": [
        "#q8.hint()\n",
        "#q8.solution()"
      ],
      "metadata": {
        "execution": {
          "iopub.status.busy": "2024-06-19T03:33:47.814085Z",
          "iopub.execute_input": "2024-06-19T03:33:47.814439Z",
          "iopub.status.idle": "2024-06-19T03:33:47.823951Z",
          "shell.execute_reply.started": "2024-06-19T03:33:47.81439Z",
          "shell.execute_reply": "2024-06-19T03:33:47.822685Z"
        },
        "trusted": true,
        "id": "szp-rLtNuLCf"
      },
      "execution_count": null,
      "outputs": []
    },
    {
      "cell_type": "markdown",
      "source": [
        "## 9.\n",
        "\n",
        "Create a DataFrame `top_oceania_wines` containing all reviews with at least 95 points (out of 100) for wines from Australia or New Zealand."
      ],
      "metadata": {
        "id": "5YlbOXRquLCh"
      }
    },
    {
      "cell_type": "code",
      "source": [
        "top_oceania_wines = reviews.loc[(reviews['points'] >= 95) & (reviews.country.isin(['Australia','New Zealand']))]\n",
        "\n",
        "# Check your answer\n",
        "q9.check()\n",
        "top_oceania_wines"
      ],
      "metadata": {
        "execution": {
          "iopub.status.busy": "2024-06-19T04:18:50.600972Z",
          "iopub.execute_input": "2024-06-19T04:18:50.601347Z",
          "iopub.status.idle": "2024-06-19T04:18:50.633542Z",
          "shell.execute_reply.started": "2024-06-19T04:18:50.601317Z",
          "shell.execute_reply": "2024-06-19T04:18:50.632384Z"
        },
        "trusted": true,
        "id": "b37GGneOuLCi",
        "outputId": "337e43aa-e417-4b7b-bf53-1d88cb60cc3b"
      },
      "execution_count": null,
      "outputs": [
        {
          "output_type": "display_data",
          "data": {
            "text/plain": "<IPython.core.display.Javascript object>",
            "application/javascript": "parent.postMessage({\"jupyterEvent\": \"custom.exercise_interaction\", \"data\": {\"outcomeType\": 1, \"valueTowardsCompletion\": 0.1111111111111111, \"interactionType\": 1, \"questionType\": 1, \"questionId\": \"9_TopOceanicWines\", \"learnToolsVersion\": \"0.3.4\", \"failureMessage\": \"\", \"exceptionClass\": \"\", \"trace\": \"\"}}, \"*\")"
          },
          "metadata": {}
        },
        {
          "output_type": "display_data",
          "data": {
            "text/plain": "Correct",
            "text/markdown": "<span style=\"color:#33cc33\">Correct</span>"
          },
          "metadata": {}
        },
        {
          "execution_count": 66,
          "output_type": "execute_result",
          "data": {
            "text/plain": "            country                                        description  \\\n345       Australia  This wine contains some material over 100 year...   \n346       Australia  This deep brown wine smells like a damp, mossy...   \n...             ...                                                ...   \n122507  New Zealand  This blend of Cabernet Sauvignon (62.5%), Merl...   \n122939    Australia  Full-bodied and plush yet vibrant and imbued w...   \n\n                                  designation  points  price         province  \\\n345                                      Rare     100  350.0         Victoria   \n346                                      Rare      98  350.0         Victoria   \n...                                       ...     ...    ...              ...   \n122507  SQM Gimblett Gravels Cabernets/Merlot      95   79.0      Hawke's Bay   \n122939                             The Factor      98  125.0  South Australia   \n\n              region_1 region_2     taster_name taster_twitter_handle  \\\n345         Rutherglen      NaN  Joe Czerwinski                @JoeCz   \n346         Rutherglen      NaN  Joe Czerwinski                @JoeCz   \n...                ...      ...             ...                   ...   \n122507             NaN      NaN  Joe Czerwinski                @JoeCz   \n122939  Barossa Valley      NaN  Joe Czerwinski                @JoeCz   \n\n                                                    title  \\\n345     Chambers Rosewood Vineyards NV Rare Muscat (Ru...   \n346     Chambers Rosewood Vineyards NV Rare Muscadelle...   \n...                                                   ...   \n122507  Squawking Magpie 2014 SQM Gimblett Gravels Cab...   \n122939   Torbreck 2013 The Factor Shiraz (Barossa Valley)   \n\n                         variety                       winery  \n345                       Muscat  Chambers Rosewood Vineyards  \n346                   Muscadelle  Chambers Rosewood Vineyards  \n...                          ...                          ...  \n122507  Bordeaux-style Red Blend             Squawking Magpie  \n122939                    Shiraz                     Torbreck  \n\n[49 rows x 13 columns]",
            "text/html": "<div>\n<style scoped>\n    .dataframe tbody tr th:only-of-type {\n        vertical-align: middle;\n    }\n\n    .dataframe tbody tr th {\n        vertical-align: top;\n    }\n\n    .dataframe thead th {\n        text-align: right;\n    }\n</style>\n<table border=\"1\" class=\"dataframe\">\n  <thead>\n    <tr style=\"text-align: right;\">\n      <th></th>\n      <th>country</th>\n      <th>description</th>\n      <th>designation</th>\n      <th>points</th>\n      <th>price</th>\n      <th>province</th>\n      <th>region_1</th>\n      <th>region_2</th>\n      <th>taster_name</th>\n      <th>taster_twitter_handle</th>\n      <th>title</th>\n      <th>variety</th>\n      <th>winery</th>\n    </tr>\n  </thead>\n  <tbody>\n    <tr>\n      <th>345</th>\n      <td>Australia</td>\n      <td>This wine contains some material over 100 year...</td>\n      <td>Rare</td>\n      <td>100</td>\n      <td>350.0</td>\n      <td>Victoria</td>\n      <td>Rutherglen</td>\n      <td>NaN</td>\n      <td>Joe Czerwinski</td>\n      <td>@JoeCz</td>\n      <td>Chambers Rosewood Vineyards NV Rare Muscat (Ru...</td>\n      <td>Muscat</td>\n      <td>Chambers Rosewood Vineyards</td>\n    </tr>\n    <tr>\n      <th>346</th>\n      <td>Australia</td>\n      <td>This deep brown wine smells like a damp, mossy...</td>\n      <td>Rare</td>\n      <td>98</td>\n      <td>350.0</td>\n      <td>Victoria</td>\n      <td>Rutherglen</td>\n      <td>NaN</td>\n      <td>Joe Czerwinski</td>\n      <td>@JoeCz</td>\n      <td>Chambers Rosewood Vineyards NV Rare Muscadelle...</td>\n      <td>Muscadelle</td>\n      <td>Chambers Rosewood Vineyards</td>\n    </tr>\n    <tr>\n      <th>...</th>\n      <td>...</td>\n      <td>...</td>\n      <td>...</td>\n      <td>...</td>\n      <td>...</td>\n      <td>...</td>\n      <td>...</td>\n      <td>...</td>\n      <td>...</td>\n      <td>...</td>\n      <td>...</td>\n      <td>...</td>\n      <td>...</td>\n    </tr>\n    <tr>\n      <th>122507</th>\n      <td>New Zealand</td>\n      <td>This blend of Cabernet Sauvignon (62.5%), Merl...</td>\n      <td>SQM Gimblett Gravels Cabernets/Merlot</td>\n      <td>95</td>\n      <td>79.0</td>\n      <td>Hawke's Bay</td>\n      <td>NaN</td>\n      <td>NaN</td>\n      <td>Joe Czerwinski</td>\n      <td>@JoeCz</td>\n      <td>Squawking Magpie 2014 SQM Gimblett Gravels Cab...</td>\n      <td>Bordeaux-style Red Blend</td>\n      <td>Squawking Magpie</td>\n    </tr>\n    <tr>\n      <th>122939</th>\n      <td>Australia</td>\n      <td>Full-bodied and plush yet vibrant and imbued w...</td>\n      <td>The Factor</td>\n      <td>98</td>\n      <td>125.0</td>\n      <td>South Australia</td>\n      <td>Barossa Valley</td>\n      <td>NaN</td>\n      <td>Joe Czerwinski</td>\n      <td>@JoeCz</td>\n      <td>Torbreck 2013 The Factor Shiraz (Barossa Valley)</td>\n      <td>Shiraz</td>\n      <td>Torbreck</td>\n    </tr>\n  </tbody>\n</table>\n<p>49 rows × 13 columns</p>\n</div>"
          },
          "metadata": {}
        }
      ]
    },
    {
      "cell_type": "code",
      "source": [
        "#q9.hint()\n",
        "#q9.solution()"
      ],
      "metadata": {
        "execution": {
          "iopub.status.busy": "2024-06-19T03:33:47.843585Z",
          "iopub.execute_input": "2024-06-19T03:33:47.843913Z",
          "iopub.status.idle": "2024-06-19T03:33:47.849064Z",
          "shell.execute_reply.started": "2024-06-19T03:33:47.843885Z",
          "shell.execute_reply": "2024-06-19T03:33:47.847874Z"
        },
        "trusted": true,
        "id": "tQ10JigCuLCk"
      },
      "execution_count": null,
      "outputs": []
    },
    {
      "cell_type": "markdown",
      "source": [
        "# Keep going\n",
        "\n",
        "Move on to learn about **[summary functions and maps](https://www.kaggle.com/residentmario/summary-functions-and-maps)**."
      ],
      "metadata": {
        "id": "4Han6sOzuLCn"
      }
    },
    {
      "cell_type": "markdown",
      "source": [
        "---\n",
        "\n",
        "\n",
        "\n",
        "\n",
        "*Have questions or comments? Visit the [course discussion forum](https://www.kaggle.com/learn/pandas/discussion) to chat with other learners.*"
      ],
      "metadata": {
        "id": "zGLtkRpquLCo"
      }
    }
  ]
}
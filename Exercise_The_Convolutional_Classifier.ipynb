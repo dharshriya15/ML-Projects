{
  "metadata": {
    "jupytext": {
      "formats": "ipynb,md",
      "split_at_heading": true
    },
    "kernelspec": {
      "display_name": "Python 3",
      "language": "python",
      "name": "python3"
    },
    "language_info": {
      "name": "python",
      "version": "3.10.13",
      "mimetype": "text/x-python",
      "codemirror_mode": {
        "name": "ipython",
        "version": 3
      },
      "pygments_lexer": "ipython3",
      "nbconvert_exporter": "python",
      "file_extension": ".py"
    },
    "kaggle": {
      "accelerator": "gpu",
      "dataSources": [
        {
          "sourceId": 1338830,
          "sourceType": "datasetVersion",
          "datasetId": 708136
        },
        {
          "sourceId": 1363948,
          "sourceType": "datasetVersion",
          "datasetId": 701538
        },
        {
          "sourceId": 1495782,
          "sourceType": "datasetVersion",
          "datasetId": 878523
        }
      ],
      "dockerImageVersionId": 30648,
      "isInternetEnabled": false,
      "language": "python",
      "sourceType": "notebook",
      "isGpuEnabled": true
    },
    "colab": {
      "name": "Exercise: The Convolutional Classifier",
      "provenance": [],
      "include_colab_link": true
    }
  },
  "nbformat_minor": 0,
  "nbformat": 4,
  "cells": [
    {
      "cell_type": "markdown",
      "metadata": {
        "id": "view-in-github",
        "colab_type": "text"
      },
      "source": [
        "<a href=\"https://colab.research.google.com/github/dharshriya15/ML-Projects/blob/main/Exercise_The_Convolutional_Classifier.ipynb\" target=\"_parent\"><img src=\"https://colab.research.google.com/assets/colab-badge.svg\" alt=\"Open In Colab\"/></a>"
      ]
    },
    {
      "source": [
        "\n",
        "# IMPORTANT: RUN THIS CELL IN ORDER TO IMPORT YOUR KAGGLE DATA SOURCES\n",
        "# TO THE CORRECT LOCATION (/kaggle/input) IN YOUR NOTEBOOK,\n",
        "# THEN FEEL FREE TO DELETE THIS CELL.\n",
        "# NOTE: THIS NOTEBOOK ENVIRONMENT DIFFERS FROM KAGGLE'S PYTHON\n",
        "# ENVIRONMENT SO THERE MAY BE MISSING LIBRARIES USED BY YOUR\n",
        "# NOTEBOOK.\n",
        "\n",
        "import os\n",
        "import sys\n",
        "from tempfile import NamedTemporaryFile\n",
        "from urllib.request import urlopen\n",
        "from urllib.parse import unquote, urlparse\n",
        "from urllib.error import HTTPError\n",
        "from zipfile import ZipFile\n",
        "import tarfile\n",
        "import shutil\n",
        "\n",
        "CHUNK_SIZE = 40960\n",
        "DATA_SOURCE_MAPPING = 'cv-course-models:https%3A%2F%2Fstorage.googleapis.com%2Fkaggle-data-sets%2F708136%2F1338830%2Fbundle%2Farchive.zip%3FX-Goog-Algorithm%3DGOOG4-RSA-SHA256%26X-Goog-Credential%3Dgcp-kaggle-com%2540kaggle-161607.iam.gserviceaccount.com%252F20240623%252Fauto%252Fstorage%252Fgoog4_request%26X-Goog-Date%3D20240623T141143Z%26X-Goog-Expires%3D259200%26X-Goog-SignedHeaders%3Dhost%26X-Goog-Signature%3D2b8ce14d38cc485783367729bfa053401550d3c84c3dafa4b1c13e201139954103b6b9b4bd9d7ac7bf71066998d2b701fdf4834fe6353ee9da07e8cad8abe062d750dc5242b851a5a1f0f1b3f2efedadb555e57a50b0cd19ab0b1a2fdf0af60e6dc9b2ca2ebdcc58d0fbc01149e478e39221cad3a7eda377d1ae5706a0572931156b71bbd12d5bfc20723808353147a3c0a3fa3b9603a943144183eb0603a5f973627542ff494c235966a892f087484203ae77e96799cf5d2e048ed86ebc2cf949aede0cdf7cc3d14ea7ef1c1696de9362ced858c8d76d17b81a37612686c3943157bc2e34b19cf9fd31f0875858a8528bcc1317a5f8502fd6ecc7ff58763d11,computer-vision-resources:https%3A%2F%2Fstorage.googleapis.com%2Fkaggle-data-sets%2F701538%2F1363948%2Fbundle%2Farchive.zip%3FX-Goog-Algorithm%3DGOOG4-RSA-SHA256%26X-Goog-Credential%3Dgcp-kaggle-com%2540kaggle-161607.iam.gserviceaccount.com%252F20240623%252Fauto%252Fstorage%252Fgoog4_request%26X-Goog-Date%3D20240623T141143Z%26X-Goog-Expires%3D259200%26X-Goog-SignedHeaders%3Dhost%26X-Goog-Signature%3D24ce39e26955968818d39882a00fca802906885ea6e08fc236c6f9d40ebeeb8eec2bbb6a13e77088b07d5aa5d7cdb5f1dc8f810dfcf27d3b41a6aee8ffebcd121f8d9905340cb05c36cd39edb94009460517e4216827b45f877e41bcbe8127cf3d20af371d0e5cb4f27794aa123e55fc085e9525f652fcd1ae3db5d850365f10c94dd3590d1893a634dc528bc7dd889d3fbbe31317dedc783565ddbe144b9d3232f51726f7ae26bf87766afb85d61a4e00bbaeb155ed5ab91cbd9a9b76d559795d6f403c1cd1e8fe5db980cf4ce8a76499ed463cc4470accc4a9a6cb0a3619364866ddbc13483258031459e6023427a9414057a4c6ad3fc33d5c417436d8b163,car-or-truck:https%3A%2F%2Fstorage.googleapis.com%2Fkaggle-data-sets%2F878523%2F1495782%2Fbundle%2Farchive.zip%3FX-Goog-Algorithm%3DGOOG4-RSA-SHA256%26X-Goog-Credential%3Dgcp-kaggle-com%2540kaggle-161607.iam.gserviceaccount.com%252F20240623%252Fauto%252Fstorage%252Fgoog4_request%26X-Goog-Date%3D20240623T141143Z%26X-Goog-Expires%3D259200%26X-Goog-SignedHeaders%3Dhost%26X-Goog-Signature%3D12d6b746980bdda1437fba5b94b365f1b5d6eb9a72619516e7a4f46fc51b8746c5f0c152fbfe6a9e5fe7cb67d0bdae49243b29ebf874e595d4e145d2a960409bfc86982380789f2d1f9f88df48132975873e5ddc08bbcc615492789ddb1964253e0ae0f422412dcd586ec32d2fcfd23383ca3b3e566085044408bde2eb79c08f45bd6c8e4b510ee63419ca386c49bab5925585f86394791d43a80d968feb531771482243e8d87cda329f4a73fab046b725ef928869ffec75c9e55cdc9fe37a34eeca6ad3b48157a6156e5ac1781c610951e3b957ada52763037d34731e1f50454b943618b51f4307dc4dd37715c3a976a9292c63d784ffb7acfdb6a995609799'\n",
        "\n",
        "KAGGLE_INPUT_PATH='/kaggle/input'\n",
        "KAGGLE_WORKING_PATH='/kaggle/working'\n",
        "KAGGLE_SYMLINK='kaggle'\n",
        "\n",
        "!umount /kaggle/input/ 2> /dev/null\n",
        "shutil.rmtree('/kaggle/input', ignore_errors=True)\n",
        "os.makedirs(KAGGLE_INPUT_PATH, 0o777, exist_ok=True)\n",
        "os.makedirs(KAGGLE_WORKING_PATH, 0o777, exist_ok=True)\n",
        "\n",
        "try:\n",
        "  os.symlink(KAGGLE_INPUT_PATH, os.path.join(\"..\", 'input'), target_is_directory=True)\n",
        "except FileExistsError:\n",
        "  pass\n",
        "try:\n",
        "  os.symlink(KAGGLE_WORKING_PATH, os.path.join(\"..\", 'working'), target_is_directory=True)\n",
        "except FileExistsError:\n",
        "  pass\n",
        "\n",
        "for data_source_mapping in DATA_SOURCE_MAPPING.split(','):\n",
        "    directory, download_url_encoded = data_source_mapping.split(':')\n",
        "    download_url = unquote(download_url_encoded)\n",
        "    filename = urlparse(download_url).path\n",
        "    destination_path = os.path.join(KAGGLE_INPUT_PATH, directory)\n",
        "    try:\n",
        "        with urlopen(download_url) as fileres, NamedTemporaryFile() as tfile:\n",
        "            total_length = fileres.headers['content-length']\n",
        "            print(f'Downloading {directory}, {total_length} bytes compressed')\n",
        "            dl = 0\n",
        "            data = fileres.read(CHUNK_SIZE)\n",
        "            while len(data) > 0:\n",
        "                dl += len(data)\n",
        "                tfile.write(data)\n",
        "                done = int(50 * dl / int(total_length))\n",
        "                sys.stdout.write(f\"\\r[{'=' * done}{' ' * (50-done)}] {dl} bytes downloaded\")\n",
        "                sys.stdout.flush()\n",
        "                data = fileres.read(CHUNK_SIZE)\n",
        "            if filename.endswith('.zip'):\n",
        "              with ZipFile(tfile) as zfile:\n",
        "                zfile.extractall(destination_path)\n",
        "            else:\n",
        "              with tarfile.open(tfile.name) as tarfile:\n",
        "                tarfile.extractall(destination_path)\n",
        "            print(f'\\nDownloaded and uncompressed: {directory}')\n",
        "    except HTTPError as e:\n",
        "        print(f'Failed to load (likely expired) {download_url} to path {destination_path}')\n",
        "        continue\n",
        "    except OSError as e:\n",
        "        print(f'Failed to load {download_url} to path {destination_path}')\n",
        "        continue\n",
        "\n",
        "print('Data source import complete.')\n"
      ],
      "metadata": {
        "id": "Jjx33qwacFVD"
      },
      "cell_type": "code",
      "outputs": [],
      "execution_count": null
    },
    {
      "cell_type": "markdown",
      "source": [
        "**This notebook is an exercise in the [Computer Vision](https://www.kaggle.com/learn/computer-vision) course.  You can reference the tutorial at [this link](https://www.kaggle.com/ryanholbrook/the-convolutional-classifier).**\n",
        "\n",
        "---\n"
      ],
      "metadata": {
        "id": "EEBIaPUDcFVk"
      }
    },
    {
      "cell_type": "markdown",
      "source": [
        "<blockquote style=\"margin-right:auto; margin-left:auto; background-color: #ebf9ff; padding: 1em; margin:24px;\">\n",
        "    <strong>Accelerate Training with a Kaggle GPU!</strong><br>\n",
        "Did you know Kaggle offers free time with a GPU accelerator? You can speed up training neural networks in this course by switching to <strong>GPU</strong> in the <em>Accelerator</em> option on the right. (It may already be turned on.) Two things to be aware of:\n",
        "<ul>\n",
        "<li>Changing the <em>Accelerator</em> option will cause the notebook session to restart. You'll need to rerun any setup code.\n",
        "<li>You can have only one GPU session at a time, so be sure to shut the notebook down after you've finished the exercise.\n",
        "</ul>\n",
        "</blockquote>"
      ],
      "metadata": {
        "id": "4sRZawbScFV_"
      }
    },
    {
      "cell_type": "markdown",
      "source": [
        "# Introduction #\n",
        "\n",
        "In the tutorial, we saw how to build an image classifier by attaching a head of dense layers to a pretrained base. The base we used was from a model called **VGG16**. We saw that the VGG16 architecture was prone to overfitting this dataset. Over this course, you'll learn a number of ways you can improve upon this initial attempt.\n",
        "\n",
        "The first way you'll see is to use a base more appropriate to the dataset. The base this model comes from is called **InceptionV1** (also known as GoogLeNet). InceptionV1 was one of the early winners of the ImageNet competition. One of its successors, InceptionV4, is among the state of the art today.\n",
        "\n",
        "To get started, run the code cell below to set everything up."
      ],
      "metadata": {
        "id": "OGIO1bq-cFWH"
      }
    },
    {
      "cell_type": "code",
      "source": [
        "# Setup feedback system\n",
        "from learntools.core import binder\n",
        "binder.bind(globals())\n",
        "from learntools.computer_vision.ex1 import *\n",
        "\n",
        "# Imports\n",
        "import os, warnings\n",
        "import matplotlib.pyplot as plt\n",
        "from matplotlib import gridspec\n",
        "\n",
        "import numpy as np\n",
        "import tensorflow as tf\n",
        "from tensorflow.keras.preprocessing import image_dataset_from_directory\n",
        "\n",
        "# Reproducability\n",
        "def set_seed(seed=31415):\n",
        "    np.random.seed(seed)\n",
        "    tf.random.set_seed(seed)\n",
        "    os.environ['PYTHONHASHSEED'] = str(seed)\n",
        "    os.environ['TF_DETERMINISTIC_OPS'] = '1'\n",
        "set_seed()\n",
        "\n",
        "# Set Matplotlib defaults\n",
        "plt.rc('figure', autolayout=True)\n",
        "plt.rc('axes', labelweight='bold', labelsize='large',\n",
        "       titleweight='bold', titlesize=18, titlepad=10)\n",
        "plt.rc('image', cmap='magma')\n",
        "warnings.filterwarnings(\"ignore\") # to clean up output cells\n",
        "\n",
        "\n",
        "# Load training and validation sets\n",
        "ds_train_ = image_dataset_from_directory(\n",
        "    '../input/car-or-truck/train',\n",
        "    labels='inferred',\n",
        "    label_mode='binary',\n",
        "    image_size=[128, 128],\n",
        "    interpolation='nearest',\n",
        "    batch_size=64,\n",
        "    shuffle=True,\n",
        ")\n",
        "ds_valid_ = image_dataset_from_directory(\n",
        "    '../input/car-or-truck/valid',\n",
        "    labels='inferred',\n",
        "    label_mode='binary',\n",
        "    image_size=[128, 128],\n",
        "    interpolation='nearest',\n",
        "    batch_size=64,\n",
        "    shuffle=False,\n",
        ")\n",
        "\n",
        "# Data Pipeline\n",
        "def convert_to_float(image, label):\n",
        "    image = tf.image.convert_image_dtype(image, dtype=tf.float32)\n",
        "    return image, label\n",
        "\n",
        "AUTOTUNE = tf.data.experimental.AUTOTUNE\n",
        "ds_train = (\n",
        "    ds_train_\n",
        "    .map(convert_to_float)\n",
        "    .cache()\n",
        "    .prefetch(buffer_size=AUTOTUNE)\n",
        ")\n",
        "ds_valid = (\n",
        "    ds_valid_\n",
        "    .map(convert_to_float)\n",
        "    .cache()\n",
        "    .prefetch(buffer_size=AUTOTUNE)\n",
        ")\n"
      ],
      "metadata": {
        "lines_to_next_cell": 2,
        "execution": {
          "iopub.status.busy": "2024-06-23T14:07:32.400792Z",
          "iopub.execute_input": "2024-06-23T14:07:32.401149Z",
          "iopub.status.idle": "2024-06-23T14:07:55.042223Z",
          "shell.execute_reply.started": "2024-06-23T14:07:32.40112Z",
          "shell.execute_reply": "2024-06-23T14:07:55.041417Z"
        },
        "trusted": true,
        "id": "MaHy4cfCcFWa",
        "outputId": "820fe43e-bea6-4c1a-adfb-52073f24f8f9"
      },
      "execution_count": null,
      "outputs": [
        {
          "name": "stderr",
          "text": "2024-06-23 14:07:35.100466: E external/local_xla/xla/stream_executor/cuda/cuda_dnn.cc:9261] Unable to register cuDNN factory: Attempting to register factory for plugin cuDNN when one has already been registered\n2024-06-23 14:07:35.100569: E external/local_xla/xla/stream_executor/cuda/cuda_fft.cc:607] Unable to register cuFFT factory: Attempting to register factory for plugin cuFFT when one has already been registered\n2024-06-23 14:07:35.237182: E external/local_xla/xla/stream_executor/cuda/cuda_blas.cc:1515] Unable to register cuBLAS factory: Attempting to register factory for plugin cuBLAS when one has already been registered\n",
          "output_type": "stream"
        },
        {
          "name": "stdout",
          "text": "Found 5117 files belonging to 2 classes.\nFound 5051 files belonging to 2 classes.\n",
          "output_type": "stream"
        }
      ]
    },
    {
      "cell_type": "markdown",
      "source": [
        "The **InceptionV1** model pretrained on ImageNet is available in the [TensorFlow Hub](https://www.tensorflow.org/hub/) repository, but we'll load it from a local copy. Run this cell to load InceptionV1 for your base."
      ],
      "metadata": {
        "id": "-zY0dlbrcFWp"
      }
    },
    {
      "cell_type": "code",
      "source": [
        "import tensorflow_hub as hub\n",
        "\n",
        "pretrained_base = tf.keras.models.load_model(\n",
        "    '../input/cv-course-models/cv-course-models/inceptionv1'\n",
        ")"
      ],
      "metadata": {
        "lines_to_next_cell": 0,
        "execution": {
          "iopub.status.busy": "2024-06-23T14:07:55.043982Z",
          "iopub.execute_input": "2024-06-23T14:07:55.044638Z",
          "iopub.status.idle": "2024-06-23T14:07:58.977829Z",
          "shell.execute_reply.started": "2024-06-23T14:07:55.044604Z",
          "shell.execute_reply": "2024-06-23T14:07:58.976857Z"
        },
        "trusted": true,
        "id": "oL_NMBWlcFWw"
      },
      "execution_count": null,
      "outputs": []
    },
    {
      "cell_type": "markdown",
      "source": [
        "# 1) Define Pretrained Base #\n",
        "\n",
        "Now that you have a pretrained base to do our feature extraction, decide whether this base should be trainable or not."
      ],
      "metadata": {
        "id": "RtyNNJ6icFW6"
      }
    },
    {
      "cell_type": "code",
      "source": [
        "# YOUR_CODE_HERE\n",
        "pretrained_base.trainable = False\n",
        "\n",
        "# Check your answer\n",
        "q_1.check()"
      ],
      "metadata": {
        "lines_to_next_cell": 0,
        "execution": {
          "iopub.status.busy": "2024-06-23T14:07:58.985651Z",
          "iopub.execute_input": "2024-06-23T14:07:58.985977Z",
          "iopub.status.idle": "2024-06-23T14:07:58.994903Z",
          "shell.execute_reply.started": "2024-06-23T14:07:58.985951Z",
          "shell.execute_reply": "2024-06-23T14:07:58.994032Z"
        },
        "trusted": true,
        "id": "xrZT7uRFcFXB",
        "outputId": "1477dfbe-390f-4a35-db2e-9697d615216f"
      },
      "execution_count": null,
      "outputs": [
        {
          "output_type": "display_data",
          "data": {
            "text/plain": "<IPython.core.display.Javascript object>",
            "application/javascript": "parent.postMessage({\"jupyterEvent\": \"custom.exercise_interaction\", \"data\": {\"outcomeType\": 1, \"valueTowardsCompletion\": 0.25, \"interactionType\": 1, \"questionType\": 2, \"questionId\": \"1_Q1\", \"learnToolsVersion\": \"0.3.4\", \"failureMessage\": \"\", \"exceptionClass\": \"\", \"trace\": \"\"}}, \"*\")"
          },
          "metadata": {}
        },
        {
          "output_type": "display_data",
          "data": {
            "text/plain": "Correct: When doing transfer learning, it's generally not a good idea to retrain the entire base -- at least not without some care. The reason is that the random weights in the head will initially create large gradient updates, which propogate back into the base layers and destroy much of the pretraining. Using techniques known as **fine tuning** it's possible to further train the base on new data, but this requires some care to do well.",
            "text/markdown": "<span style=\"color:#33cc33\">Correct:</span> When doing transfer learning, it's generally not a good idea to retrain the entire base -- at least not without some care. The reason is that the random weights in the head will initially create large gradient updates, which propogate back into the base layers and destroy much of the pretraining. Using techniques known as **fine tuning** it's possible to further train the base on new data, but this requires some care to do well."
          },
          "metadata": {}
        }
      ]
    },
    {
      "cell_type": "code",
      "source": [
        "# Lines below will give you a hint or solution code\n",
        "#q_1.hint()\n",
        "#q_1.solution()"
      ],
      "metadata": {
        "execution": {
          "iopub.status.busy": "2024-06-23T14:07:58.997027Z",
          "iopub.execute_input": "2024-06-23T14:07:58.997475Z",
          "iopub.status.idle": "2024-06-23T14:07:59.004941Z",
          "shell.execute_reply.started": "2024-06-23T14:07:58.99745Z",
          "shell.execute_reply": "2024-06-23T14:07:59.004064Z"
        },
        "trusted": true,
        "id": "1AeDaj-9cFXJ"
      },
      "execution_count": null,
      "outputs": []
    },
    {
      "cell_type": "markdown",
      "source": [
        "# 2) Attach Head #\n",
        "\n",
        "Now that the base is defined to do the feature extraction, create a head of `Dense` layers to perform the classification, following this diagram:\n",
        "\n",
        "<figure>\n",
        "<img src=\"https://storage.googleapis.com/kaggle-media/learn/images/i5VU7Ry.png\" alt=\"Diagram of the dense head.\">\n",
        "</figure>\n"
      ],
      "metadata": {
        "id": "gl_9fdjQcFXN"
      }
    },
    {
      "cell_type": "code",
      "source": [
        "from tensorflow import keras\n",
        "from tensorflow.keras import layers\n",
        "\n",
        "model = keras.Sequential([\n",
        "    pretrained_base,\n",
        "    layers.Flatten(),\n",
        "    # YOUR CODE HERE. Attach a head of dense layers.\n",
        "    layers.Dense(6, activation='relu'),\n",
        "    layers.Dense(1, activation='sigmoid')\n",
        "])\n",
        "\n",
        "# Check your answer\n",
        "q_2.check()"
      ],
      "metadata": {
        "lines_to_next_cell": 0,
        "execution": {
          "iopub.status.busy": "2024-06-23T14:07:59.006084Z",
          "iopub.execute_input": "2024-06-23T14:07:59.006425Z",
          "iopub.status.idle": "2024-06-23T14:07:59.030218Z",
          "shell.execute_reply.started": "2024-06-23T14:07:59.006396Z",
          "shell.execute_reply": "2024-06-23T14:07:59.029359Z"
        },
        "trusted": true,
        "id": "Nii0PB0hcFXR",
        "outputId": "8b62f4c7-e715-4a25-ed18-424e68a3d2e4"
      },
      "execution_count": null,
      "outputs": [
        {
          "output_type": "display_data",
          "data": {
            "text/plain": "<IPython.core.display.Javascript object>",
            "application/javascript": "parent.postMessage({\"jupyterEvent\": \"custom.exercise_interaction\", \"data\": {\"outcomeType\": 1, \"valueTowardsCompletion\": 0.25, \"interactionType\": 1, \"questionType\": 2, \"questionId\": \"2_Q2\", \"learnToolsVersion\": \"0.3.4\", \"failureMessage\": \"\", \"exceptionClass\": \"\", \"trace\": \"\"}}, \"*\")"
          },
          "metadata": {}
        },
        {
          "output_type": "display_data",
          "data": {
            "text/plain": "Correct",
            "text/markdown": "<span style=\"color:#33cc33\">Correct</span>"
          },
          "metadata": {}
        }
      ]
    },
    {
      "cell_type": "code",
      "source": [
        "# Lines below will give you a hint or solution code\n",
        "#q_2.hint()\n",
        "#q_2.solution()"
      ],
      "metadata": {
        "execution": {
          "iopub.status.busy": "2024-06-23T14:07:59.031306Z",
          "iopub.execute_input": "2024-06-23T14:07:59.031576Z",
          "iopub.status.idle": "2024-06-23T14:07:59.03558Z",
          "shell.execute_reply.started": "2024-06-23T14:07:59.031553Z",
          "shell.execute_reply": "2024-06-23T14:07:59.034713Z"
        },
        "trusted": true,
        "id": "ScP8G-2BcFXV"
      },
      "execution_count": null,
      "outputs": []
    },
    {
      "cell_type": "markdown",
      "source": [
        "# 3) Train #\n",
        "\n",
        "Before training a model in Keras, you need to specify an *optimizer* to perform the gradient descent, a *loss function* to be minimized, and (optionally) any *performance metrics*. The optimization algorithm we'll use for this course is called [\"Adam\"](https://keras.io/api/optimizers/adam/), which generally performs well regardless of what kind of problem you're trying to solve.\n",
        "\n",
        "The loss and the metrics, however, need to match the kind of problem you're trying to solve. Our problem is a **binary classification** problem: `Car` coded as 0, and `Truck` coded as 1. Choose an appropriate loss and an appropriate accuracy metric for binary classification."
      ],
      "metadata": {
        "id": "38_-oQRVcFXZ"
      }
    },
    {
      "cell_type": "code",
      "source": [
        "# YOUR CODE HERE: what loss function should you use for a binary\n",
        "# classification problem? (Your answer for each should be a string.)\n",
        "optimizer = tf.keras.optimizers.Adam(epsilon=0.01)\n",
        "model.compile(\n",
        "    optimizer=optimizer,\n",
        "    loss = 'binary_crossentropy',\n",
        "    metrics=['binary_accuracy'],\n",
        ")\n",
        "\n",
        "# Check your answer\n",
        "q_3.check()"
      ],
      "metadata": {
        "lines_to_next_cell": 0,
        "execution": {
          "iopub.status.busy": "2024-06-23T14:07:59.036785Z",
          "iopub.execute_input": "2024-06-23T14:07:59.037137Z",
          "iopub.status.idle": "2024-06-23T14:07:59.070391Z",
          "shell.execute_reply.started": "2024-06-23T14:07:59.037114Z",
          "shell.execute_reply": "2024-06-23T14:07:59.069539Z"
        },
        "trusted": true,
        "id": "z7o6XzoGcFXb",
        "outputId": "70b47cef-d309-4dcc-d7c1-0e85e01dd3ec"
      },
      "execution_count": null,
      "outputs": [
        {
          "output_type": "display_data",
          "data": {
            "text/plain": "<IPython.core.display.Javascript object>",
            "application/javascript": "parent.postMessage({\"jupyterEvent\": \"custom.exercise_interaction\", \"data\": {\"outcomeType\": 1, \"valueTowardsCompletion\": 0.25, \"interactionType\": 1, \"questionType\": 2, \"questionId\": \"3_Q3\", \"learnToolsVersion\": \"0.3.4\", \"failureMessage\": \"\", \"exceptionClass\": \"\", \"trace\": \"\"}}, \"*\")"
          },
          "metadata": {}
        },
        {
          "output_type": "display_data",
          "data": {
            "text/plain": "Correct",
            "text/markdown": "<span style=\"color:#33cc33\">Correct</span>"
          },
          "metadata": {}
        }
      ]
    },
    {
      "cell_type": "code",
      "source": [
        "# Lines below will give you a hint or solution code\n",
        "#q_3.hint()\n",
        "#q_3.solution()"
      ],
      "metadata": {
        "lines_to_next_cell": 0,
        "execution": {
          "iopub.status.busy": "2024-06-23T14:07:59.071666Z",
          "iopub.execute_input": "2024-06-23T14:07:59.072285Z",
          "iopub.status.idle": "2024-06-23T14:07:59.075976Z",
          "shell.execute_reply.started": "2024-06-23T14:07:59.072252Z",
          "shell.execute_reply": "2024-06-23T14:07:59.07512Z"
        },
        "trusted": true,
        "id": "5CY48KkqcFXi"
      },
      "execution_count": null,
      "outputs": []
    },
    {
      "cell_type": "code",
      "source": [
        "history = model.fit(\n",
        "    ds_train,\n",
        "    validation_data=ds_valid,\n",
        "    epochs=30,\n",
        "    verbose=0,\n",
        ")"
      ],
      "metadata": {
        "execution": {
          "iopub.status.busy": "2024-06-23T14:07:59.077137Z",
          "iopub.execute_input": "2024-06-23T14:07:59.077459Z",
          "iopub.status.idle": "2024-06-23T14:09:57.75158Z",
          "shell.execute_reply.started": "2024-06-23T14:07:59.07743Z",
          "shell.execute_reply": "2024-06-23T14:09:57.750575Z"
        },
        "trusted": true,
        "id": "4PbYZZCbcFXo",
        "outputId": "e4674346-37f0-4e10-82dd-9d93f0c1e3c3"
      },
      "execution_count": null,
      "outputs": [
        {
          "name": "stderr",
          "text": "WARNING: All log messages before absl::InitializeLog() is called are written to STDERR\nI0000 00:00:1719151686.893068     100 device_compiler.h:186] Compiled cluster using XLA!  This line is logged at most once for the lifetime of the process.\n",
          "output_type": "stream"
        }
      ]
    },
    {
      "cell_type": "markdown",
      "source": [
        "Run the cell below to plot the loss and metric curves for this training run."
      ],
      "metadata": {
        "id": "rwxqc9-AcFXr"
      }
    },
    {
      "cell_type": "code",
      "source": [
        "import pandas as pd\n",
        "history_frame = pd.DataFrame(history.history)\n",
        "history_frame.loc[:, ['loss', 'val_loss']].plot()\n",
        "history_frame.loc[:, ['binary_accuracy', 'val_binary_accuracy']].plot();"
      ],
      "metadata": {
        "execution": {
          "iopub.status.busy": "2024-06-23T14:09:57.754649Z",
          "iopub.execute_input": "2024-06-23T14:09:57.755337Z",
          "iopub.status.idle": "2024-06-23T14:09:58.489166Z",
          "shell.execute_reply.started": "2024-06-23T14:09:57.755299Z",
          "shell.execute_reply": "2024-06-23T14:09:58.488255Z"
        },
        "trusted": true,
        "id": "dvUJpiJhcFXs",
        "outputId": "cb54da14-8110-4f5a-c298-cf309b9f951a"
      },
      "execution_count": null,
      "outputs": [
        {
          "output_type": "display_data",
          "data": {
            "text/plain": "<Figure size 640x480 with 1 Axes>",
            "image/png": "[encoded data removed]"
          },
          "metadata": {}
        },
        {
          "output_type": "display_data",
          "data": {
            "text/plain": "<Figure size 640x480 with 1 Axes>",
            "image/png": "[encoded data removed]"
          },
          "metadata": {}
        }
      ]
    },
    {
      "cell_type": "markdown",
      "source": [
        "# 4) Examine Loss and Accuracy #\n",
        "\n",
        "Do you notice a difference between these learning curves and the curves for VGG16 from the tutorial? What does this difference tell you about what this model (InceptionV2) learned compared to VGG16? Are there ways in which one is better than the other? Worse?\n",
        "\n",
        "After you've thought about it, run the cell below to see the answer."
      ],
      "metadata": {
        "id": "sdv2ck67cFXy"
      }
    },
    {
      "cell_type": "code",
      "source": [
        "# View the solution (Run this code cell to receive credit!)\n",
        "q_4.check()"
      ],
      "metadata": {
        "execution": {
          "iopub.status.busy": "2024-06-23T14:09:58.490443Z",
          "iopub.execute_input": "2024-06-23T14:09:58.491087Z",
          "iopub.status.idle": "2024-06-23T14:09:58.499249Z",
          "shell.execute_reply.started": "2024-06-23T14:09:58.491053Z",
          "shell.execute_reply": "2024-06-23T14:09:58.498383Z"
        },
        "trusted": true,
        "id": "6tz1BFdPcFXz",
        "outputId": "31d3497e-8aa4-4899-92d4-120477a5519a"
      },
      "execution_count": null,
      "outputs": [
        {
          "output_type": "display_data",
          "data": {
            "text/plain": "<IPython.core.display.Javascript object>",
            "application/javascript": "parent.postMessage({\"jupyterEvent\": \"custom.exercise_interaction\", \"data\": {\"outcomeType\": 1, \"valueTowardsCompletion\": 0.25, \"interactionType\": 1, \"questionType\": 4, \"questionId\": \"4_Q4\", \"learnToolsVersion\": \"0.3.4\", \"failureMessage\": \"\", \"exceptionClass\": \"\", \"trace\": \"\"}}, \"*\")"
          },
          "metadata": {}
        },
        {
          "output_type": "display_data",
          "data": {
            "text/plain": "Correct: \n\nThat the training loss and validation loss stay fairly close is evidence that the model isn't just memorizing the training data, but rather learning general properties of the two classes. But, because this model converges at a loss greater than the VGG16 model, it's likely that it is underfitting some, and could benefit from some extra capacity.",
            "text/markdown": "<span style=\"color:#33cc33\">Correct:</span> \n\nThat the training loss and validation loss stay fairly close is evidence that the model isn't just memorizing the training data, but rather learning general properties of the two classes. But, because this model converges at a loss greater than the VGG16 model, it's likely that it is underfitting some, and could benefit from some extra capacity.\n"
          },
          "metadata": {}
        }
      ]
    },
    {
      "cell_type": "markdown",
      "source": [
        "# Conclusion #\n",
        "\n",
        "In this first lesson, you learned the basics of **convolutional image classifiers**, that they consist of a **base** for extracting features from images, and a **head** which uses the features to decide the image's class. You also saw how to build a classifier with **transfer learning** on pretrained base."
      ],
      "metadata": {
        "id": "XYlsq5rYcFX1"
      }
    },
    {
      "cell_type": "markdown",
      "source": [
        "# Keep Going #\n",
        "\n",
        "Move on to [**Lesson 2**](https://www.kaggle.com/ryanholbrook/convolution-and-relu) for a detailed look at how the base does this feature extraction. (It's really cool!)"
      ],
      "metadata": {
        "id": "YizVtD4mcFX4"
      }
    },
    {
      "cell_type": "markdown",
      "source": [
        "---\n",
        "\n",
        "\n",
        "\n",
        "\n",
        "*Have questions or comments? Visit the [course discussion forum](https://www.kaggle.com/learn/computer-vision/discussion) to chat with other learners.*"
      ],
      "metadata": {
        "id": "__IVZJOpcFX6"
      }
    }
  ]
}
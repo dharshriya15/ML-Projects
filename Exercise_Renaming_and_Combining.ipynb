{
  "metadata": {
    "kernelspec": {
      "display_name": "Python 3",
      "language": "python",
      "name": "python3"
    },
    "language_info": {
      "name": "python",
      "version": "3.10.13",
      "mimetype": "text/x-python",
      "codemirror_mode": {
        "name": "ipython",
        "version": 3
      },
      "pygments_lexer": "ipython3",
      "nbconvert_exporter": "python",
      "file_extension": ".py"
    },
    "kaggle": {
      "accelerator": "none",
      "dataSources": [
        {
          "sourceId": 1252,
          "sourceType": "datasetVersion",
          "datasetId": 655
        },
        {
          "sourceId": 3919,
          "sourceType": "datasetVersion",
          "datasetId": 2321
        },
        {
          "sourceId": 4877,
          "sourceType": "datasetVersion",
          "datasetId": 2894
        },
        {
          "sourceId": 5624,
          "sourceType": "datasetVersion",
          "datasetId": 3491
        },
        {
          "sourceId": 8172,
          "sourceType": "datasetVersion",
          "datasetId": 1442
        },
        {
          "sourceId": 13206,
          "sourceType": "datasetVersion",
          "datasetId": 9366
        },
        {
          "sourceId": 403916,
          "sourceType": "datasetVersion",
          "datasetId": 179555
        },
        {
          "sourceId": 466349,
          "sourceType": "datasetVersion",
          "datasetId": 4549
        },
        {
          "sourceId": 1151655,
          "sourceType": "datasetVersion",
          "datasetId": 2478
        },
        {
          "sourceId": 5438389,
          "sourceType": "datasetVersion",
          "datasetId": 10128
        }
      ],
      "isInternetEnabled": false,
      "language": "python",
      "sourceType": "notebook",
      "isGpuEnabled": false
    },
    "colab": {
      "name": "Exercise: Renaming and Combining",
      "provenance": [],
      "include_colab_link": true
    }
  },
  "nbformat_minor": 0,
  "nbformat": 4,
  "cells": [
    {
      "cell_type": "markdown",
      "metadata": {
        "id": "view-in-github",
        "colab_type": "text"
      },
      "source": [
        "<a href=\"https://colab.research.google.com/github/dharshriya15/ML-Projects/blob/main/Exercise_Renaming_and_Combining.ipynb\" target=\"_parent\"><img src=\"https://colab.research.google.com/assets/colab-badge.svg\" alt=\"Open In Colab\"/></a>"
      ]
    },
    {
      "source": [
        "\n",
        "# IMPORTANT: RUN THIS CELL IN ORDER TO IMPORT YOUR KAGGLE DATA SOURCES\n",
        "# TO THE CORRECT LOCATION (/kaggle/input) IN YOUR NOTEBOOK,\n",
        "# THEN FEEL FREE TO DELETE THIS CELL.\n",
        "# NOTE: THIS NOTEBOOK ENVIRONMENT DIFFERS FROM KAGGLE'S PYTHON\n",
        "# ENVIRONMENT SO THERE MAY BE MISSING LIBRARIES USED BY YOUR\n",
        "# NOTEBOOK.\n",
        "\n",
        "import os\n",
        "import sys\n",
        "from tempfile import NamedTemporaryFile\n",
        "from urllib.request import urlopen\n",
        "from urllib.parse import unquote, urlparse\n",
        "from urllib.error import HTTPError\n",
        "from zipfile import ZipFile\n",
        "import tarfile\n",
        "import shutil\n",
        "\n",
        "CHUNK_SIZE = 40960\n",
        "DATA_SOURCE_MAPPING = 'pitchfork-data:https%3A%2F%2Fstorage.googleapis.com%2Fkaggle-data-sets%2F655%2F1252%2Fbundle%2Farchive.zip%3FX-Goog-Algorithm%3DGOOG4-RSA-SHA256%26X-Goog-Credential%3Dgcp-kaggle-com%2540kaggle-161607.iam.gserviceaccount.com%252F20240619%252Fauto%252Fstorage%252Fgoog4_request%26X-Goog-Date%3D20240619T085958Z%26X-Goog-Expires%3D259200%26X-Goog-SignedHeaders%3Dhost%26X-Goog-Signature%3D644e4d091e5ebd4516f2994d04f416e0193db61ffcb39884a1336764ede58f1fe6ee657d9428d5da0e9f01817712546792294f38f59fccc6c97c37c647a3b9beca814b4cb69c0902a501406bca92bfbe1d2e2bf70c0861451142cc1e9a8737be9989db2321cf403aa56825a3d0a7424565f90e315b314c28fcc6b00d32d019965f3a608508bc65bfba89b7b0e75f4becb3445ce584d95d7b0f8827e7d468421489554a2d33f7da63fadffe5becf17da79e1611f5bde741bc70ca700d8cc6d04e4a385da62d304da4e3b7034bba8b5d4e34ed4ac0e6c1f8f72f25aca0e5663d13aab399260ca6e3a4dcb6b4d1000be4ee5b5662254dd14a3c7d1dfd224b8c2cf3,chess:https%3A%2F%2Fstorage.googleapis.com%2Fkaggle-data-sets%2F2321%2F3919%2Fbundle%2Farchive.zip%3FX-Goog-Algorithm%3DGOOG4-RSA-SHA256%26X-Goog-Credential%3Dgcp-kaggle-com%2540kaggle-161607.iam.gserviceaccount.com%252F20240619%252Fauto%252Fstorage%252Fgoog4_request%26X-Goog-Date%3D20240619T085958Z%26X-Goog-Expires%3D259200%26X-Goog-SignedHeaders%3Dhost%26X-Goog-Signature%3D4381b98e0337124db39a0fa34c2bba7eb11118acf2e34df6cb1694799a6f013dfde308150face89ad1d909cda5729f99434b959595a00519d6faff1f4001cb078ed478442bf9511d3ef45c2541b87a90ddcfa897ec3922fcadcdf7f3f877f7cd7cff845e075b5b105341d217df8e00ecd45544ac8f602e1e33dac3a55672e14362a6b5a18fdad51e845cd7c46c7d1991f81b24a4b17f3508da689cd966cc4dac9eed27611d4679060b52a6b3f81820d56c4d43bc5ffba2b66108a1d7e593b2c75608c0b881e9f4c8d40d1ad5d330813b312ea3cf4d3f84ea01bc48afd138f1d44045f19a56ed7fc2e3dbe356a70539d988d18fa5f726b4d645aa884275d56d76,kepler-exoplanet-search-results:https%3A%2F%2Fstorage.googleapis.com%2Fkaggle-data-sets%2F2894%2F4877%2Fbundle%2Farchive.zip%3FX-Goog-Algorithm%3DGOOG4-RSA-SHA256%26X-Goog-Credential%3Dgcp-kaggle-com%2540kaggle-161607.iam.gserviceaccount.com%252F20240619%252Fauto%252Fstorage%252Fgoog4_request%26X-Goog-Date%3D20240619T085958Z%26X-Goog-Expires%3D259200%26X-Goog-SignedHeaders%3Dhost%26X-Goog-Signature%3Db938d8331124dbdb931ede8a944a4f8ec4dedce13cdc2ac3beb363508d81be2f7a4dd1f82ba175623bb7a743528e9b8a3358fad5674e8771479665474ccf6c620c0f4e8e887ceb4806fabf9f8263f1b6dcff3db3f432b081594697e81cd716f32608dbb755f0734794a5df19bb6e58ca1dec06ed35dba423d75ccdc9aca9dd06f19c1c441cab02be0d3e83e1acbf50d5def9eb8e7b366787610ef8b0af446b4be5921619c813559fd69f4fa474ca3d0a0ec68cf7cc846a0cbb1d68e9aad2e92a5af19fe0bade785b8f5c55c4f3eda13749a9e4a9ce58615ac89b8a26fae339a9d0f43d4b67e4f0d6b88a25989756c18e0dcac911288163ca0096faad14f32dc6,things-on-reddit:https%3A%2F%2Fstorage.googleapis.com%2Fkaggle-data-sets%2F3491%2F5624%2Fbundle%2Farchive.zip%3FX-Goog-Algorithm%3DGOOG4-RSA-SHA256%26X-Goog-Credential%3Dgcp-kaggle-com%2540kaggle-161607.iam.gserviceaccount.com%252F20240619%252Fauto%252Fstorage%252Fgoog4_request%26X-Goog-Date%3D20240619T085958Z%26X-Goog-Expires%3D259200%26X-Goog-SignedHeaders%3Dhost%26X-Goog-Signature%3D87818022cf05cff52b9499c7257f5ea27a7e0ba66699a0316a9d987ad3549a3a160e8d202076a05866bf4d79cc5f204d82b1830931c4d9cb26e7ac753531b9cc6939b265afde057a1542faef7c64236ecf0733f99ff544b292dcb96c258c15a9e11d4a73a830c9765610acdd35bc7439913fab0aa1bd70ef521d6652243189c80122fc0cec05dbcb629e1d579e1c77beaee0e0701f8b655ea4df5a21da2ef43d724e02b70f2104847b46e84674714f8ed1a273446c588bb2e72846d50a9c074b77ee19d853196f9aa4f3fd6dd7abed4e0ad32b3d1dd4e956eb7fd67bc26a6255c58bf322f0cc684cbbb6ed5e83702c42950da9e816bfa8a2acefeb085526c7d0,wine-reviews:https%3A%2F%2Fstorage.googleapis.com%2Fkaggle-data-sets%2F1442%2F8172%2Fbundle%2Farchive.zip%3FX-Goog-Algorithm%3DGOOG4-RSA-SHA256%26X-Goog-Credential%3Dgcp-kaggle-com%2540kaggle-161607.iam.gserviceaccount.com%252F20240619%252Fauto%252Fstorage%252Fgoog4_request%26X-Goog-Date%3D20240619T085959Z%26X-Goog-Expires%3D259200%26X-Goog-SignedHeaders%3Dhost%26X-Goog-Signature%3D8ff4c2637cea4c2edf6517fba2b850e405865467e7108221f04634ab87aa0bcc41957099ec0b308c0644c4da9d8e0dbdf5b5d39dc04abd0b48fc7cdf8e31fe3f89b21cc5067d00b6861d7fe5af9df64234cbcc784bee4fa02c9b2d1d7c494b3b46a6adfaf62364c16b44ba89b3a872a57eb5f7164269e56ab44274ab1b344cd48fd170ebc871ba20bb65c59cfd760aa1b2ba266efb7d41d70c4215929408b805b354ecc797b53f1a2dec02f9abbd8b4b30d4cfb5f790019c6c96a70a0b485d2b41a8eb96a4438d9ea1c240f91ae53783a6194c78d4e06861fc8fc16345b812ef9264bee6979ce0e3e61b4c119df251dc09a04e4cd68cd1bda45ebae7ae680f2f,ramen-ratings:https%3A%2F%2Fstorage.googleapis.com%2Fkaggle-data-sets%2F9366%2F13206%2Fbundle%2Farchive.zip%3FX-Goog-Algorithm%3DGOOG4-RSA-SHA256%26X-Goog-Credential%3Dgcp-kaggle-com%2540kaggle-161607.iam.gserviceaccount.com%252F20240619%252Fauto%252Fstorage%252Fgoog4_request%26X-Goog-Date%3D20240619T085959Z%26X-Goog-Expires%3D259200%26X-Goog-SignedHeaders%3Dhost%26X-Goog-Signature%3D1acf603eee5d3bfca027a6c7f596ce59886e208f167a1b883b3fe3eea6a18d06955abc733f6a413a2f9bd172ccaff1ed879dbbbdce442ce011f1a5e5b5415aa54e26e7fd60e5e561a16ef993765c7eedc8a5f8d3d6a7cb9897f64c6e75704f8628b170d310ec56e89aac8720ce4c9d2d9ee3a8ec9fc2b2a9bb3dcaf8516feb120ef6face7283592150811d34bd1ffe1171eb9ab00248c0265a0092ef2fdb91b025e88a6f57af4ea9bb8afad619e4b3ba43321e63275bca793e23a54c00dada0e7219c134c74195ffc1739d2c1c8ad638e6f1ac5a1261243848dc6e9992b1b2351dc8f86aca01035f1744e9011f3a07f00b4aa45596ecf3e0d5020394029d120c,powerlifting-database:https%3A%2F%2Fstorage.googleapis.com%2Fkaggle-data-sets%2F179555%2F403916%2Fbundle%2Farchive.zip%3FX-Goog-Algorithm%3DGOOG4-RSA-SHA256%26X-Goog-Credential%3Dgcp-kaggle-com%2540kaggle-161607.iam.gserviceaccount.com%252F20240619%252Fauto%252Fstorage%252Fgoog4_request%26X-Goog-Date%3D20240619T085959Z%26X-Goog-Expires%3D259200%26X-Goog-SignedHeaders%3Dhost%26X-Goog-Signature%3D1f1e4c50e131ca5e34e0c5ff265ecf472a77b918ba6a5e2c2488e648f70a926a8db74cd004a272a7f5118e14a9e41f1dfa376d69d66fd6019f8953f2e9b7a8a18a5a82687ac8cbc76fe9d155e4d99395669077408766d4001ebfe55e0a7d0f32e4082538a64b0cd678b570052552952207b447b4de19e47be0ee48bbcd03b2022bc378e36df45e1bae30a1567700d2ad72a2acee384edd85e27004763879ba56355714a020da426c5c7cd398adf5e9f29e1223d09809553f5fe40d9b9ebf44e4ae8df039f45a1412602229e81595e30ca3676d4ab3978ada062cf67f74dea9baadec37e48c3858efca6b0efa60646bea98f2600c457a654ae6feb13b032b30be,youtube-new:https%3A%2F%2Fstorage.googleapis.com%2Fkaggle-data-sets%2F4549%2F466349%2Fbundle%2Farchive.zip%3FX-Goog-Algorithm%3DGOOG4-RSA-SHA256%26X-Goog-Credential%3Dgcp-kaggle-com%2540kaggle-161607.iam.gserviceaccount.com%252F20240619%252Fauto%252Fstorage%252Fgoog4_request%26X-Goog-Date%3D20240619T085959Z%26X-Goog-Expires%3D259200%26X-Goog-SignedHeaders%3Dhost%26X-Goog-Signature%3D9448129611a82659d039b89b57efedf76e10d2c7e2af81905c3bcc4385e25166e41ffdf7454abfa4775c4de7d8f366805b0cb900a2259b18079469984e080992beeb5d88d2ab0ab1221156437f98ebc20a1b25096409c49d28709b3da26d8f8beedf82d25eb62e54b83aebf1593bd36c93c30aaf58ef4b73cf78aaf8706cef8958fcc730e1d7ae33250ac0e3da29934ba904038bd95c3a234c64059688be531de244383dc83686c66710ad3e409b351028b45261cc7ca5a87be8be959e10e5c3cac6f59a9331bf8047b6badca78c660827faa5d3d283899a31905a41eac861e8dd405ce848fa495c5fde85b95c22c6dfcaf648d89d470b9876e958fe25a6c5cd,188-million-us-wildfires:https%3A%2F%2Fstorage.googleapis.com%2Fkaggle-data-sets%2F2478%2F1151655%2Fbundle%2Farchive.zip%3FX-Goog-Algorithm%3DGOOG4-RSA-SHA256%26X-Goog-Credential%3Dgcp-kaggle-com%2540kaggle-161607.iam.gserviceaccount.com%252F20240619%252Fauto%252Fstorage%252Fgoog4_request%26X-Goog-Date%3D20240619T085959Z%26X-Goog-Expires%3D259200%26X-Goog-SignedHeaders%3Dhost%26X-Goog-Signature%3D77b9ca9a11fef375325800277fa8aff5db92ba0b614ba25d0cb3d2d4bf9113df3b4c5b27b48c49d584e5939b8189fd94f615e62bbf836fd4dda53d4c9a668c59dfa11e2f496a0ca726c80c77acb73226d7ae071399c77dffd739c2a7ec140cdbf8bcbb5faf263343085a67d4f93dfa16319dd1392cc4b6c2dc47a35c5c0bfef6e000b4866f9a979a2ca9310b9fa4e391a7e3771710e521f04e52e33698472f566bfefaf8ab3abb9e5c6d313511f4771b2610acb46011741928263eefcdc9a68ca03d3924d9327e6b0c838b8183cdb2307de23b47361ab5564bf5a0d5049b4d4ceab4a5a0488584308f877c5130c8a5e0429e008c346ab83bb1d3f46b0eb41f68,publicassistance:https%3A%2F%2Fstorage.googleapis.com%2Fkaggle-data-sets%2F10128%2F5438389%2Fbundle%2Farchive.zip%3FX-Goog-Algorithm%3DGOOG4-RSA-SHA256%26X-Goog-Credential%3Dgcp-kaggle-com%2540kaggle-161607.iam.gserviceaccount.com%252F20240619%252Fauto%252Fstorage%252Fgoog4_request%26X-Goog-Date%3D20240619T085959Z%26X-Goog-Expires%3D259200%26X-Goog-SignedHeaders%3Dhost%26X-Goog-Signature%3D9101cbf344568217068080838f75305f806a4927a3233a83720e7bdf81d904cafeec21859028ae21401de26790be4d194fae912768af8c0ba80e82273d3288d6a0a44e3ffe25047c1a5fd5506cd0314d1d553cd37299535f14fc88a7e8e6b91f5aa515c8ae0542c3f078f370a03cba6274449a263557e8ad150f4d780cf31f582d2c2b58b887047f9c3075d2c0bcd3b3e4173ccfeef786119068fa3e0da3d45948a34832431b323d21b47d93f61bf5478be59de0ec0d835546d295779194218568603c7314a8474a7967c67dda3bde94b076c173cdf75d72de1fc00fa84649bcac30426d3cb5674372e9ca13fb84746e7fa055d95416fa3838c4b8a55bdb2eec'\n",
        "\n",
        "KAGGLE_INPUT_PATH='/kaggle/input'\n",
        "KAGGLE_WORKING_PATH='/kaggle/working'\n",
        "KAGGLE_SYMLINK='kaggle'\n",
        "\n",
        "!umount /kaggle/input/ 2> /dev/null\n",
        "shutil.rmtree('/kaggle/input', ignore_errors=True)\n",
        "os.makedirs(KAGGLE_INPUT_PATH, 0o777, exist_ok=True)\n",
        "os.makedirs(KAGGLE_WORKING_PATH, 0o777, exist_ok=True)\n",
        "\n",
        "try:\n",
        "  os.symlink(KAGGLE_INPUT_PATH, os.path.join(\"..\", 'input'), target_is_directory=True)\n",
        "except FileExistsError:\n",
        "  pass\n",
        "try:\n",
        "  os.symlink(KAGGLE_WORKING_PATH, os.path.join(\"..\", 'working'), target_is_directory=True)\n",
        "except FileExistsError:\n",
        "  pass\n",
        "\n",
        "for data_source_mapping in DATA_SOURCE_MAPPING.split(','):\n",
        "    directory, download_url_encoded = data_source_mapping.split(':')\n",
        "    download_url = unquote(download_url_encoded)\n",
        "    filename = urlparse(download_url).path\n",
        "    destination_path = os.path.join(KAGGLE_INPUT_PATH, directory)\n",
        "    try:\n",
        "        with urlopen(download_url) as fileres, NamedTemporaryFile() as tfile:\n",
        "            total_length = fileres.headers['content-length']\n",
        "            print(f'Downloading {directory}, {total_length} bytes compressed')\n",
        "            dl = 0\n",
        "            data = fileres.read(CHUNK_SIZE)\n",
        "            while len(data) > 0:\n",
        "                dl += len(data)\n",
        "                tfile.write(data)\n",
        "                done = int(50 * dl / int(total_length))\n",
        "                sys.stdout.write(f\"\\r[{'=' * done}{' ' * (50-done)}] {dl} bytes downloaded\")\n",
        "                sys.stdout.flush()\n",
        "                data = fileres.read(CHUNK_SIZE)\n",
        "            if filename.endswith('.zip'):\n",
        "              with ZipFile(tfile) as zfile:\n",
        "                zfile.extractall(destination_path)\n",
        "            else:\n",
        "              with tarfile.open(tfile.name) as tarfile:\n",
        "                tarfile.extractall(destination_path)\n",
        "            print(f'\\nDownloaded and uncompressed: {directory}')\n",
        "    except HTTPError as e:\n",
        "        print(f'Failed to load (likely expired) {download_url} to path {destination_path}')\n",
        "        continue\n",
        "    except OSError as e:\n",
        "        print(f'Failed to load {download_url} to path {destination_path}')\n",
        "        continue\n",
        "\n",
        "print('Data source import complete.')\n"
      ],
      "metadata": {
        "id": "5kHSeVKQuXzg"
      },
      "cell_type": "code",
      "outputs": [],
      "execution_count": null
    },
    {
      "cell_type": "markdown",
      "source": [
        "**This notebook is an exercise in the [Pandas](https://www.kaggle.com/learn/pandas) course.  You can reference the tutorial at [this link](https://www.kaggle.com/residentmario/renaming-and-combining).**\n",
        "\n",
        "---\n"
      ],
      "metadata": {
        "id": "I9uIH6bAuX0R"
      }
    },
    {
      "cell_type": "markdown",
      "source": [
        "# Introduction\n",
        "\n",
        "Run the following cell to load your data and some utility functions."
      ],
      "metadata": {
        "id": "v6dyiygpuX0n"
      }
    },
    {
      "cell_type": "code",
      "source": [
        "import pandas as pd\n",
        "\n",
        "reviews = pd.read_csv(\"../input/wine-reviews/winemag-data-130k-v2.csv\", index_col=0)\n",
        "\n",
        "from learntools.core import binder; binder.bind(globals())\n",
        "from learntools.pandas.renaming_and_combining import *\n",
        "print(\"Setup complete.\")"
      ],
      "metadata": {
        "execution": {
          "iopub.status.busy": "2024-06-19T08:42:51.739001Z",
          "iopub.execute_input": "2024-06-19T08:42:51.73935Z",
          "iopub.status.idle": "2024-06-19T08:42:56.223217Z",
          "shell.execute_reply.started": "2024-06-19T08:42:51.739323Z",
          "shell.execute_reply": "2024-06-19T08:42:56.222201Z"
        },
        "trusted": true,
        "id": "pFP3gjsduX0v",
        "outputId": "1dcd95c3-0163-47ea-9ffb-ac96b06db711"
      },
      "execution_count": null,
      "outputs": [
        {
          "name": "stdout",
          "text": "Setup complete.\n",
          "output_type": "stream"
        }
      ]
    },
    {
      "cell_type": "markdown",
      "source": [
        "# Exercises\n",
        "\n",
        "View the first several lines of your data by running the cell below:"
      ],
      "metadata": {
        "id": "UiVdPdJVuX1C"
      }
    },
    {
      "cell_type": "code",
      "source": [
        "reviews.head()"
      ],
      "metadata": {
        "execution": {
          "iopub.status.busy": "2024-06-19T08:42:56.224952Z",
          "iopub.execute_input": "2024-06-19T08:42:56.225256Z",
          "iopub.status.idle": "2024-06-19T08:42:56.24743Z",
          "shell.execute_reply.started": "2024-06-19T08:42:56.22523Z",
          "shell.execute_reply": "2024-06-19T08:42:56.246527Z"
        },
        "trusted": true,
        "id": "bBpKfH6yuX1W",
        "outputId": "236ef54c-250f-432c-8f40-ea36da9425c2"
      },
      "execution_count": null,
      "outputs": [
        {
          "execution_count": 4,
          "output_type": "execute_result",
          "data": {
            "text/plain": "    country                                        description  \\\n0     Italy  Aromas include tropical fruit, broom, brimston...   \n1  Portugal  This is ripe and fruity, a wine that is smooth...   \n2        US  Tart and snappy, the flavors of lime flesh and...   \n3        US  Pineapple rind, lemon pith and orange blossom ...   \n4        US  Much like the regular bottling from 2012, this...   \n\n                          designation  points  price           province  \\\n0                        Vulkà Bianco      87    NaN  Sicily & Sardinia   \n1                            Avidagos      87   15.0              Douro   \n2                                 NaN      87   14.0             Oregon   \n3                Reserve Late Harvest      87   13.0           Michigan   \n4  Vintner's Reserve Wild Child Block      87   65.0             Oregon   \n\n              region_1           region_2         taster_name  \\\n0                 Etna                NaN       Kerin O’Keefe   \n1                  NaN                NaN          Roger Voss   \n2    Willamette Valley  Willamette Valley        Paul Gregutt   \n3  Lake Michigan Shore                NaN  Alexander Peartree   \n4    Willamette Valley  Willamette Valley        Paul Gregutt   \n\n  taster_twitter_handle                                              title  \\\n0          @kerinokeefe                  Nicosia 2013 Vulkà Bianco  (Etna)   \n1            @vossroger      Quinta dos Avidagos 2011 Avidagos Red (Douro)   \n2           @paulgwine       Rainstorm 2013 Pinot Gris (Willamette Valley)   \n3                   NaN  St. Julian 2013 Reserve Late Harvest Riesling ...   \n4           @paulgwine   Sweet Cheeks 2012 Vintner's Reserve Wild Child...   \n\n          variety               winery  \n0     White Blend              Nicosia  \n1  Portuguese Red  Quinta dos Avidagos  \n2      Pinot Gris            Rainstorm  \n3        Riesling           St. Julian  \n4      Pinot Noir         Sweet Cheeks  ",
            "text/html": "<div>\n<style scoped>\n    .dataframe tbody tr th:only-of-type {\n        vertical-align: middle;\n    }\n\n    .dataframe tbody tr th {\n        vertical-align: top;\n    }\n\n    .dataframe thead th {\n        text-align: right;\n    }\n</style>\n<table border=\"1\" class=\"dataframe\">\n  <thead>\n    <tr style=\"text-align: right;\">\n      <th></th>\n      <th>country</th>\n      <th>description</th>\n      <th>designation</th>\n      <th>points</th>\n      <th>price</th>\n      <th>province</th>\n      <th>region_1</th>\n      <th>region_2</th>\n      <th>taster_name</th>\n      <th>taster_twitter_handle</th>\n      <th>title</th>\n      <th>variety</th>\n      <th>winery</th>\n    </tr>\n  </thead>\n  <tbody>\n    <tr>\n      <th>0</th>\n      <td>Italy</td>\n      <td>Aromas include tropical fruit, broom, brimston...</td>\n      <td>Vulkà Bianco</td>\n      <td>87</td>\n      <td>NaN</td>\n      <td>Sicily &amp; Sardinia</td>\n      <td>Etna</td>\n      <td>NaN</td>\n      <td>Kerin O’Keefe</td>\n      <td>@kerinokeefe</td>\n      <td>Nicosia 2013 Vulkà Bianco  (Etna)</td>\n      <td>White Blend</td>\n      <td>Nicosia</td>\n    </tr>\n    <tr>\n      <th>1</th>\n      <td>Portugal</td>\n      <td>This is ripe and fruity, a wine that is smooth...</td>\n      <td>Avidagos</td>\n      <td>87</td>\n      <td>15.0</td>\n      <td>Douro</td>\n      <td>NaN</td>\n      <td>NaN</td>\n      <td>Roger Voss</td>\n      <td>@vossroger</td>\n      <td>Quinta dos Avidagos 2011 Avidagos Red (Douro)</td>\n      <td>Portuguese Red</td>\n      <td>Quinta dos Avidagos</td>\n    </tr>\n    <tr>\n      <th>2</th>\n      <td>US</td>\n      <td>Tart and snappy, the flavors of lime flesh and...</td>\n      <td>NaN</td>\n      <td>87</td>\n      <td>14.0</td>\n      <td>Oregon</td>\n      <td>Willamette Valley</td>\n      <td>Willamette Valley</td>\n      <td>Paul Gregutt</td>\n      <td>@paulgwine</td>\n      <td>Rainstorm 2013 Pinot Gris (Willamette Valley)</td>\n      <td>Pinot Gris</td>\n      <td>Rainstorm</td>\n    </tr>\n    <tr>\n      <th>3</th>\n      <td>US</td>\n      <td>Pineapple rind, lemon pith and orange blossom ...</td>\n      <td>Reserve Late Harvest</td>\n      <td>87</td>\n      <td>13.0</td>\n      <td>Michigan</td>\n      <td>Lake Michigan Shore</td>\n      <td>NaN</td>\n      <td>Alexander Peartree</td>\n      <td>NaN</td>\n      <td>St. Julian 2013 Reserve Late Harvest Riesling ...</td>\n      <td>Riesling</td>\n      <td>St. Julian</td>\n    </tr>\n    <tr>\n      <th>4</th>\n      <td>US</td>\n      <td>Much like the regular bottling from 2012, this...</td>\n      <td>Vintner's Reserve Wild Child Block</td>\n      <td>87</td>\n      <td>65.0</td>\n      <td>Oregon</td>\n      <td>Willamette Valley</td>\n      <td>Willamette Valley</td>\n      <td>Paul Gregutt</td>\n      <td>@paulgwine</td>\n      <td>Sweet Cheeks 2012 Vintner's Reserve Wild Child...</td>\n      <td>Pinot Noir</td>\n      <td>Sweet Cheeks</td>\n    </tr>\n  </tbody>\n</table>\n</div>"
          },
          "metadata": {}
        }
      ]
    },
    {
      "cell_type": "markdown",
      "source": [
        "## 1.\n",
        "`region_1` and `region_2` are pretty uninformative names for locale columns in the dataset. Create a copy of `reviews` with these columns renamed to `region` and `locale`, respectively."
      ],
      "metadata": {
        "id": "QIf05UVluX1b"
      }
    },
    {
      "cell_type": "code",
      "source": [
        "# Your code here\n",
        "renamed = reviews.rename(columns={'region_1':'region','region_2':'locale'})\n",
        "\n",
        "# Check your answer\n",
        "q1.check()"
      ],
      "metadata": {
        "execution": {
          "iopub.status.busy": "2024-06-19T08:44:50.334435Z",
          "iopub.execute_input": "2024-06-19T08:44:50.334832Z",
          "iopub.status.idle": "2024-06-19T08:44:50.356921Z",
          "shell.execute_reply.started": "2024-06-19T08:44:50.3348Z",
          "shell.execute_reply": "2024-06-19T08:44:50.355814Z"
        },
        "trusted": true,
        "id": "ySRtU-pquX1n",
        "outputId": "8aa28dfb-bd78-413e-f72a-da8f8b195d43"
      },
      "execution_count": null,
      "outputs": [
        {
          "output_type": "display_data",
          "data": {
            "text/plain": "<IPython.core.display.Javascript object>",
            "application/javascript": "parent.postMessage({\"jupyterEvent\": \"custom.exercise_interaction\", \"data\": {\"outcomeType\": 1, \"valueTowardsCompletion\": 0.25, \"interactionType\": 1, \"questionType\": 1, \"questionId\": \"1_RenameCols\", \"learnToolsVersion\": \"0.3.4\", \"failureMessage\": \"\", \"exceptionClass\": \"\", \"trace\": \"\"}}, \"*\")"
          },
          "metadata": {}
        },
        {
          "output_type": "display_data",
          "data": {
            "text/plain": "Correct",
            "text/markdown": "<span style=\"color:#33cc33\">Correct</span>"
          },
          "metadata": {}
        }
      ]
    },
    {
      "cell_type": "code",
      "source": [
        "#q1.hint()\n",
        "#q1.solution()"
      ],
      "metadata": {
        "execution": {
          "iopub.status.busy": "2024-06-19T08:42:56.263692Z",
          "iopub.execute_input": "2024-06-19T08:42:56.264359Z",
          "iopub.status.idle": "2024-06-19T08:42:56.268454Z",
          "shell.execute_reply.started": "2024-06-19T08:42:56.26432Z",
          "shell.execute_reply": "2024-06-19T08:42:56.267418Z"
        },
        "trusted": true,
        "id": "DRnGmzp0uX1y"
      },
      "execution_count": null,
      "outputs": []
    },
    {
      "cell_type": "markdown",
      "source": [
        "## 2.\n",
        "Set the index name in the dataset to `wines`."
      ],
      "metadata": {
        "id": "oed82jfuuX2o"
      }
    },
    {
      "cell_type": "code",
      "source": [
        "reindexed = reviews.rename_axis('wines')\n",
        "\n",
        "# Check your answer\n",
        "q2.check()"
      ],
      "metadata": {
        "execution": {
          "iopub.status.busy": "2024-06-19T08:50:15.216336Z",
          "iopub.execute_input": "2024-06-19T08:50:15.216751Z",
          "iopub.status.idle": "2024-06-19T08:50:15.246823Z",
          "shell.execute_reply.started": "2024-06-19T08:50:15.216707Z",
          "shell.execute_reply": "2024-06-19T08:50:15.245806Z"
        },
        "trusted": true,
        "id": "CskhBsSHuX26",
        "outputId": "515e36ca-9957-4c31-fab6-304180f1af65"
      },
      "execution_count": null,
      "outputs": [
        {
          "output_type": "display_data",
          "data": {
            "text/plain": "<IPython.core.display.Javascript object>",
            "application/javascript": "parent.postMessage({\"jupyterEvent\": \"custom.exercise_interaction\", \"data\": {\"outcomeType\": 1, \"valueTowardsCompletion\": 0.25, \"interactionType\": 1, \"questionType\": 1, \"questionId\": \"2_RenameIndex\", \"learnToolsVersion\": \"0.3.4\", \"failureMessage\": \"\", \"exceptionClass\": \"\", \"trace\": \"\"}}, \"*\")"
          },
          "metadata": {}
        },
        {
          "output_type": "display_data",
          "data": {
            "text/plain": "Correct",
            "text/markdown": "<span style=\"color:#33cc33\">Correct</span>"
          },
          "metadata": {}
        }
      ]
    },
    {
      "cell_type": "code",
      "source": [
        "# q2.hint()\n",
        "#q2.solution()"
      ],
      "metadata": {
        "execution": {
          "iopub.status.busy": "2024-06-19T08:50:23.964205Z",
          "iopub.execute_input": "2024-06-19T08:50:23.965178Z",
          "iopub.status.idle": "2024-06-19T08:50:23.969026Z",
          "shell.execute_reply.started": "2024-06-19T08:50:23.965141Z",
          "shell.execute_reply": "2024-06-19T08:50:23.967986Z"
        },
        "trusted": true,
        "id": "tbwwPeoVuX3M"
      },
      "execution_count": null,
      "outputs": []
    },
    {
      "cell_type": "markdown",
      "source": [
        "## 3.\n",
        "The [Things on Reddit](https://www.kaggle.com/residentmario/things-on-reddit/data) dataset includes product links from a selection of top-ranked forums (\"subreddits\") on reddit.com. Run the cell below to load a dataframe of products mentioned on the */r/gaming* subreddit and another dataframe for products mentioned on the *r//movies* subreddit."
      ],
      "metadata": {
        "id": "Hu33HdP8uX3U"
      }
    },
    {
      "cell_type": "code",
      "source": [
        "gaming_products = pd.reCategoricalDtypead_csv(\"../input/things-on-reddit/top-things/top-things/reddits/g/gaming.csv\")\n",
        "gaming_products['subreddit'] = \"r/gaming\"\n",
        "movie_products = pd.read_csv(\"../input/things-on-reddit/top-things/top-things/reddits/m/movies.csv\")\n",
        "movie_products['subreddit'] = \"r/movies\""
      ],
      "metadata": {
        "execution": {
          "iopub.status.busy": "2024-06-19T08:50:38.828372Z",
          "iopub.execute_input": "2024-06-19T08:50:38.828776Z",
          "iopub.status.idle": "2024-06-19T08:50:38.885354Z",
          "shell.execute_reply.started": "2024-06-19T08:50:38.828732Z",
          "shell.execute_reply": "2024-06-19T08:50:38.884323Z"
        },
        "trusted": true,
        "id": "UEYlsov3uX3b"
      },
      "execution_count": null,
      "outputs": []
    },
    {
      "cell_type": "markdown",
      "source": [
        "Create a `DataFrame` of products mentioned on *either* subreddit."
      ],
      "metadata": {
        "id": "Q1iMr3VvuX3k"
      }
    },
    {
      "cell_type": "code",
      "source": [
        "combined_products = pd.concat([gaming_products,movie_products])\n",
        "\n",
        "# Check your answer\n",
        "q3.check()"
      ],
      "metadata": {
        "execution": {
          "iopub.status.busy": "2024-06-19T08:52:18.086481Z",
          "iopub.execute_input": "2024-06-19T08:52:18.086896Z",
          "iopub.status.idle": "2024-06-19T08:52:18.100264Z",
          "shell.execute_reply.started": "2024-06-19T08:52:18.086857Z",
          "shell.execute_reply": "2024-06-19T08:52:18.099154Z"
        },
        "trusted": true,
        "id": "ap335wyEuX3m",
        "outputId": "f00def6f-b8d7-4806-8fed-7ef8b72f96ac"
      },
      "execution_count": null,
      "outputs": [
        {
          "output_type": "display_data",
          "data": {
            "text/plain": "<IPython.core.display.Javascript object>",
            "application/javascript": "parent.postMessage({\"jupyterEvent\": \"custom.exercise_interaction\", \"data\": {\"outcomeType\": 1, \"valueTowardsCompletion\": 0.25, \"interactionType\": 1, \"questionType\": 2, \"questionId\": \"3_ConcatReddit\", \"learnToolsVersion\": \"0.3.4\", \"failureMessage\": \"\", \"exceptionClass\": \"\", \"trace\": \"\"}}, \"*\")"
          },
          "metadata": {}
        },
        {
          "output_type": "display_data",
          "data": {
            "text/plain": "Correct",
            "text/markdown": "<span style=\"color:#33cc33\">Correct</span>"
          },
          "metadata": {}
        }
      ]
    },
    {
      "cell_type": "code",
      "source": [
        "#q3.hint()\n",
        "#q3.solution()"
      ],
      "metadata": {
        "execution": {
          "iopub.status.busy": "2024-06-19T08:42:56.317908Z",
          "iopub.execute_input": "2024-06-19T08:42:56.318783Z",
          "iopub.status.idle": "2024-06-19T08:42:56.323775Z",
          "shell.execute_reply.started": "2024-06-19T08:42:56.31872Z",
          "shell.execute_reply": "2024-06-19T08:42:56.322729Z"
        },
        "trusted": true,
        "id": "nxTHsUaLuX3t"
      },
      "execution_count": null,
      "outputs": []
    },
    {
      "cell_type": "markdown",
      "source": [
        "## 4.\n",
        "The [Powerlifting Database](https://www.kaggle.com/open-powerlifting/powerlifting-database) dataset on Kaggle includes one CSV table for powerlifting meets and a separate one for powerlifting competitors. Run the cell below to load these datasets into dataframes:"
      ],
      "metadata": {
        "id": "GYUn_IFPuX30"
      }
    },
    {
      "cell_type": "code",
      "source": [
        "powerlifting_meets = pd.read_csv(\"../input/powerlifting-database/meets.csv\")\n",
        "powerlifting_competitors = pd.read_csv(\"../input/powerlifting-database/openpowerlifting.csv\")"
      ],
      "metadata": {
        "execution": {
          "iopub.status.busy": "2024-06-19T08:59:26.702361Z",
          "iopub.execute_input": "2024-06-19T08:59:26.702791Z",
          "iopub.status.idle": "2024-06-19T08:59:27.403038Z",
          "shell.execute_reply.started": "2024-06-19T08:59:26.702733Z",
          "shell.execute_reply": "2024-06-19T08:59:27.402051Z"
        },
        "trusted": true,
        "id": "GYm5cS08uX32"
      },
      "execution_count": null,
      "outputs": []
    },
    {
      "cell_type": "markdown",
      "source": [
        "Both tables include references to a `MeetID`, a unique key for each meet (competition) included in the database. Using this, generate a dataset combining the two tables into one."
      ],
      "metadata": {
        "id": "56xHrgqpuX3_"
      }
    },
    {
      "cell_type": "code",
      "source": [
        "powerlifting_combined =powerlifting_meets.set_index(\"MeetID\").join(powerlifting_competitors.set_index(\"MeetID\"))\n",
        "\n",
        "# Check your answer\n",
        "q4.check()"
      ],
      "metadata": {
        "execution": {
          "iopub.status.busy": "2024-06-19T08:58:42.599838Z",
          "iopub.execute_input": "2024-06-19T08:58:42.60023Z",
          "iopub.status.idle": "2024-06-19T08:58:42.625092Z",
          "shell.execute_reply.started": "2024-06-19T08:58:42.600199Z",
          "shell.execute_reply": "2024-06-19T08:58:42.623823Z"
        },
        "trusted": true,
        "id": "f-Iw7L25uX4J",
        "outputId": "834d13be-c04b-40fe-8c96-716743a02231"
      },
      "execution_count": null,
      "outputs": [
        {
          "traceback": [
            "\u001b[0;31m---------------------------------------------------------------------------\u001b[0m",
            "\u001b[0;31mTypeError\u001b[0m                                 Traceback (most recent call last)",
            "Cell \u001b[0;32mIn[41], line 1\u001b[0m\n\u001b[0;32m----> 1\u001b[0m powerlifting_combined \u001b[38;5;241m=\u001b[39m\u001b[43mpowerlifting_meets\u001b[49m\u001b[38;5;241;43m.\u001b[39;49m\u001b[43mset_index\u001b[49m\u001b[43m(\u001b[49m\u001b[38;5;124;43m\"\u001b[39;49m\u001b[38;5;124;43mMeetID\u001b[39;49m\u001b[38;5;124;43m\"\u001b[39;49m\u001b[43m)\u001b[49m\u001b[38;5;241m.\u001b[39mjoin(powerlifting_competitors\u001b[38;5;241m.\u001b[39mset_index(\u001b[38;5;124m\"\u001b[39m\u001b[38;5;124mMeetID\u001b[39m\u001b[38;5;124m\"\u001b[39m))\n\u001b[1;32m      3\u001b[0m \u001b[38;5;66;03m# Check your answer\u001b[39;00m\n\u001b[1;32m      4\u001b[0m q4\u001b[38;5;241m.\u001b[39mcheck()\n",
            "\u001b[0;31mTypeError\u001b[0m: 'str' object is not callable"
          ],
          "ename": "TypeError",
          "evalue": "'str' object is not callable",
          "output_type": "error"
        }
      ]
    },
    {
      "cell_type": "code",
      "source": [
        "# # q4.hint()\n",
        "# q4.solution()"
      ],
      "metadata": {
        "execution": {
          "iopub.status.busy": "2024-06-19T08:58:58.784802Z",
          "iopub.execute_input": "2024-06-19T08:58:58.785677Z",
          "iopub.status.idle": "2024-06-19T08:58:58.793625Z",
          "shell.execute_reply.started": "2024-06-19T08:58:58.78564Z",
          "shell.execute_reply": "2024-06-19T08:58:58.792603Z"
        },
        "trusted": true,
        "id": "LqSYpxBquX4P",
        "outputId": "3667f1d9-4051-4907-a308-6552c095b8b7"
      },
      "execution_count": null,
      "outputs": [
        {
          "output_type": "display_data",
          "data": {
            "text/plain": "<IPython.core.display.Javascript object>",
            "application/javascript": "parent.postMessage({\"jupyterEvent\": \"custom.exercise_interaction\", \"data\": {\"interactionType\": 3, \"questionType\": 2, \"questionId\": \"4_JoinLifting\", \"learnToolsVersion\": \"0.3.4\", \"valueTowardsCompletion\": 0.0, \"failureMessage\": \"\", \"exceptionClass\": \"\", \"trace\": \"\", \"outcomeType\": 4}}, \"*\")"
          },
          "metadata": {}
        },
        {
          "output_type": "display_data",
          "data": {
            "text/plain": "Solution: \n```python\npowerlifting_combined = powerlifting_meets.set_index(\"MeetID\").join(powerlifting_competitors.set_index(\"MeetID\"))\n```",
            "text/markdown": "<span style=\"color:#33cc99\">Solution:</span> \n```python\npowerlifting_combined = powerlifting_meets.set_index(\"MeetID\").join(powerlifting_competitors.set_index(\"MeetID\"))\n```"
          },
          "metadata": {}
        }
      ]
    },
    {
      "cell_type": "markdown",
      "source": [
        "# Congratulations!\n",
        "\n",
        "You've finished the Pandas micro-course.  Many data scientists feel efficiency with Pandas is the most useful and practical skill they have, because it allows you to progress quickly in any project you have.\n",
        "\n",
        "If you'd like to apply your new skills to examining geospatial data, you're encouraged to check out our **[Geospatial Analysis](https://www.kaggle.com/learn/geospatial-analysis)** micro-course.\n",
        "\n",
        "You can also take advantage of your Pandas skills by entering a **[Kaggle Competition](https://www.kaggle.com/competitions)** or by answering a question you find interesting using **[Kaggle Datasets](https://www.kaggle.com/datasets)**."
      ],
      "metadata": {
        "id": "wFkduM_CuX4f"
      }
    },
    {
      "cell_type": "markdown",
      "source": [
        "---\n",
        "\n",
        "\n",
        "\n",
        "\n",
        "*Have questions or comments? Visit the [course discussion forum](https://www.kaggle.com/learn/pandas/discussion) to chat with other learners.*"
      ],
      "metadata": {
        "id": "A3sjXlw2uX4i"
      }
    }
  ]
}
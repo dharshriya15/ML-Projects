{
  "metadata": {
    "kernelspec": {
      "display_name": "Python 3",
      "language": "python",
      "name": "python3"
    },
    "language_info": {
      "name": "python",
      "version": "3.10.13",
      "mimetype": "text/x-python",
      "codemirror_mode": {
        "name": "ipython",
        "version": 3
      },
      "pygments_lexer": "ipython3",
      "nbconvert_exporter": "python",
      "file_extension": ".py"
    },
    "kaggle": {
      "accelerator": "none",
      "dataSources": [
        {
          "sourceId": 1252,
          "sourceType": "datasetVersion",
          "datasetId": 655
        },
        {
          "sourceId": 3919,
          "sourceType": "datasetVersion",
          "datasetId": 2321
        },
        {
          "sourceId": 4877,
          "sourceType": "datasetVersion",
          "datasetId": 2894
        },
        {
          "sourceId": 5624,
          "sourceType": "datasetVersion",
          "datasetId": 3491
        },
        {
          "sourceId": 8172,
          "sourceType": "datasetVersion",
          "datasetId": 1442
        },
        {
          "sourceId": 13206,
          "sourceType": "datasetVersion",
          "datasetId": 9366
        },
        {
          "sourceId": 403916,
          "sourceType": "datasetVersion",
          "datasetId": 179555
        },
        {
          "sourceId": 466349,
          "sourceType": "datasetVersion",
          "datasetId": 4549
        },
        {
          "sourceId": 1151655,
          "sourceType": "datasetVersion",
          "datasetId": 2478
        },
        {
          "sourceId": 5438389,
          "sourceType": "datasetVersion",
          "datasetId": 10128
        }
      ],
      "isInternetEnabled": false,
      "language": "python",
      "sourceType": "notebook",
      "isGpuEnabled": false
    },
    "colab": {
      "name": "Exercise: Creating, Reading and Writing",
      "provenance": [],
      "include_colab_link": true
    }
  },
  "nbformat_minor": 0,
  "nbformat": 4,
  "cells": [
    {
      "cell_type": "markdown",
      "metadata": {
        "id": "view-in-github",
        "colab_type": "text"
      },
      "source": [
        "<a href=\"https://colab.research.google.com/github/dharshriya15/Thyroid_data_with_logistic_regression/blob/main/Exercise_Creating%2C_Reading_and_Writing.ipynb\" target=\"_parent\"><img src=\"https://colab.research.google.com/assets/colab-badge.svg\" alt=\"Open In Colab\"/></a>"
      ]
    },
    {
      "source": [
        "\n",
        "# IMPORTANT: RUN THIS CELL IN ORDER TO IMPORT YOUR KAGGLE DATA SOURCES\n",
        "# TO THE CORRECT LOCATION (/kaggle/input) IN YOUR NOTEBOOK,\n",
        "# THEN FEEL FREE TO DELETE THIS CELL.\n",
        "# NOTE: THIS NOTEBOOK ENVIRONMENT DIFFERS FROM KAGGLE'S PYTHON\n",
        "# ENVIRONMENT SO THERE MAY BE MISSING LIBRARIES USED BY YOUR\n",
        "# NOTEBOOK.\n",
        "\n",
        "import os\n",
        "import sys\n",
        "from tempfile import NamedTemporaryFile\n",
        "from urllib.request import urlopen\n",
        "from urllib.parse import unquote, urlparse\n",
        "from urllib.error import HTTPError\n",
        "from zipfile import ZipFile\n",
        "import tarfile\n",
        "import shutil\n",
        "\n",
        "CHUNK_SIZE = 40960\n",
        "DATA_SOURCE_MAPPING = 'pitchfork-data:https%3A%2F%2Fstorage.googleapis.com%2Fkaggle-data-sets%2F655%2F1252%2Fbundle%2Farchive.zip%3FX-Goog-Algorithm%3DGOOG4-RSA-SHA256%26X-Goog-Credential%3Dgcp-kaggle-com%2540kaggle-161607.iam.gserviceaccount.com%252F20240619%252Fauto%252Fstorage%252Fgoog4_request%26X-Goog-Date%3D20240619T032531Z%26X-Goog-Expires%3D259200%26X-Goog-SignedHeaders%3Dhost%26X-Goog-Signature%3D328ad7cd6e35a6efd29fbd7bc272b9161144eed2d405fe0047f7bd663073d5b304f49114d03bc5d5d38b8f8a440014a4ff65ca4b1012716edd2d046dfd6b8b39d371e46d71ceff0c87f6aa4513374d4f098678dde53882a23295724beb28ee7af533ad8fcd2054a8c7c6a2723003788328ad875862b49fab0699d2b170d6ddf0e0effe353c007405a04e58e360b3c59e7caabd082b6ba20717f434772280206ecd682b76d9ddc985ea9287cfb940ba0752789af89abb5d9fd99d60239983c76a608339173ab76ad3d00ab78445c17a91eedd72d8369fa7eb232dec645a3f11e7ce71876b60057f9a066e5d2547ddd121059f9f25bc5f2a0e80ff261e225113bc,chess:https%3A%2F%2Fstorage.googleapis.com%2Fkaggle-data-sets%2F2321%2F3919%2Fbundle%2Farchive.zip%3FX-Goog-Algorithm%3DGOOG4-RSA-SHA256%26X-Goog-Credential%3Dgcp-kaggle-com%2540kaggle-161607.iam.gserviceaccount.com%252F20240619%252Fauto%252Fstorage%252Fgoog4_request%26X-Goog-Date%3D20240619T032531Z%26X-Goog-Expires%3D259200%26X-Goog-SignedHeaders%3Dhost%26X-Goog-Signature%3D86b2bc9ec6b68fa48e27c4210342821d04c9c8286210ae51e993286e1db9c94c6eeddb69425d54e1ffd26b8fef7e075d71d59a810aa18138b643577cb2f10a3773f4eba43373a52a4734cdd820e110a903200eb63e09aad0a25cb6c4be4c092fbb814259903d745286686150deb2df21cb883803a75f6a2ef257c54ac4d4e47bd694d2e22616e4b436f6268dc734fdadf487412eef6ebcc6a7e52acf3601d41e8707ba89b4dd137a1d811be10c67dea4eb4ffd19603abe5c6d02f5b7a8b39ce0479f3210ca660544425eab36ba6c4dd98dce80d9bd5c1d8ed78f4cfe4ceaf2e4636e36be9d719faf5ddeea60648d7b923bc64582f1b8e6bb71462029d5a2651f,kepler-exoplanet-search-results:https%3A%2F%2Fstorage.googleapis.com%2Fkaggle-data-sets%2F2894%2F4877%2Fbundle%2Farchive.zip%3FX-Goog-Algorithm%3DGOOG4-RSA-SHA256%26X-Goog-Credential%3Dgcp-kaggle-com%2540kaggle-161607.iam.gserviceaccount.com%252F20240619%252Fauto%252Fstorage%252Fgoog4_request%26X-Goog-Date%3D20240619T032531Z%26X-Goog-Expires%3D259200%26X-Goog-SignedHeaders%3Dhost%26X-Goog-Signature%3Daf03e2324fbfe35879461d352d8b5c1707ccffa4c8377b64b9af4d12816af7294e5bfd32d3fdd7c5bdf9dd7e43bfa156970307cf4e0ff712a6f035ac684c3f8ed292dedb3249b855d2fde8bbc96ffebd0d96933844132e6001109b36d461c558b1c0207c557358a6bb8687d2737de1ea6fa97a8f2dc23b47dc9932ed4a2f0d6c707c28131a0ea99893f279cc9a4dc0409926ea4d06c08275bfbf4cfd852cedc050c557f1079c8316e809d6a51ba325bc7a75fccb475e431a913493fb5f3ef96e43574245d811b35830191ac7a33403d99df063f767e3ba1b450178a6ebf64b771e1b27260428a305e80f76c2af26dbbcaa3061962dc578b7badc167dbf5af47a,things-on-reddit:https%3A%2F%2Fstorage.googleapis.com%2Fkaggle-data-sets%2F3491%2F5624%2Fbundle%2Farchive.zip%3FX-Goog-Algorithm%3DGOOG4-RSA-SHA256%26X-Goog-Credential%3Dgcp-kaggle-com%2540kaggle-161607.iam.gserviceaccount.com%252F20240619%252Fauto%252Fstorage%252Fgoog4_request%26X-Goog-Date%3D20240619T032531Z%26X-Goog-Expires%3D259200%26X-Goog-SignedHeaders%3Dhost%26X-Goog-Signature%3Da4482b2163cf138b0e55bea435d38b0e065e7d9a27e127568c95551c2a5a56155ac6bcaeb50be9710993daff4566e06eef31ae193d9325e2674982d1c1a7dcca1a76003705a23fc818bdde80bfd62110df7d203d9e64bf3e0b0235ac53774c0ccbff60e99e1415c45e7760965afaf455c5801b6131240a240932675e4493692aaf0d1528e139dce33e89639069d0f455375de1a38984a67bbe61aa31701cd4f8e658bec13b7745a7b74abeef1c2301fba56969b24c529e71d7791ac4830a4883bdb9733c68701ba33c3f62271017c497d60f020012614134ad71da4c7dc8d50dd612de64152fcf6d0f023751b17b1404bb854d069ef770ac605c785f131c9e71,wine-reviews:https%3A%2F%2Fstorage.googleapis.com%2Fkaggle-data-sets%2F1442%2F8172%2Fbundle%2Farchive.zip%3FX-Goog-Algorithm%3DGOOG4-RSA-SHA256%26X-Goog-Credential%3Dgcp-kaggle-com%2540kaggle-161607.iam.gserviceaccount.com%252F20240619%252Fauto%252Fstorage%252Fgoog4_request%26X-Goog-Date%3D20240619T032532Z%26X-Goog-Expires%3D259200%26X-Goog-SignedHeaders%3Dhost%26X-Goog-Signature%3D56ef07fd2057e5c8461bd1d1649fab883da0ef72116bb27121d8c828d99a9af3dd636f2f99675bb4f0e8719a0fd504d3b4c7c350b9aff6c3bfe3c030e3412dbc05ffdc140dff196b3513876de881eedda03b3f3b92f42b3ccd9de05d8411e3ae2216727bbc7c80fe075b59dd39871e5cb5bd3a3012a2b37a7759514b0d629b774a77d828bf1c68c0e00430201d8dbe54ba8763ce9ffd917ae6ff4165397eafae1c09dbac3ca5215bf35c98786cf7b6f4f4717802c4ec07df2989fc1d727b6f5d4ca3fd67cddce54f39000d18c9242e24eea2bc19c13370c032fef0230ce0815f33c9a14744c8826da3a01a4ef42bfc9d4ab909dd75c3ee074d567e16337db211,ramen-ratings:https%3A%2F%2Fstorage.googleapis.com%2Fkaggle-data-sets%2F9366%2F13206%2Fbundle%2Farchive.zip%3FX-Goog-Algorithm%3DGOOG4-RSA-SHA256%26X-Goog-Credential%3Dgcp-kaggle-com%2540kaggle-161607.iam.gserviceaccount.com%252F20240619%252Fauto%252Fstorage%252Fgoog4_request%26X-Goog-Date%3D20240619T032532Z%26X-Goog-Expires%3D259200%26X-Goog-SignedHeaders%3Dhost%26X-Goog-Signature%3Da33367ef911ca250bb4402a43a05a10d01d91870dede590843927a3b6e8279cf1c5de586abb590f02816ae453e4b83f5c95f7682ff050d5ad524d5a1b2d5a010fe6ca7d705029402c042cf21f8ffcc07019d13e669e8431b250633bdf15d16c17464ab8dd41d3ecf2043de78a1fa8648b3dc868be59cc149149184fcb5d65bc19c220a76e550bd4463306fc094a94d4e9400f87729271cdb6578b01b59a753be571dea434be139b11c895d756edff64252f32682afd8c243cf355428751b93e927ef5ab77712ad70dac6c28e4c476797ae3f0cc5ce23627e0c969eee2271ba48bfe47ae17a450c611c4fe7fa5c4dc512ae37e8bb5eb8591abf7e28caa9d95049,powerlifting-database:https%3A%2F%2Fstorage.googleapis.com%2Fkaggle-data-sets%2F179555%2F403916%2Fbundle%2Farchive.zip%3FX-Goog-Algorithm%3DGOOG4-RSA-SHA256%26X-Goog-Credential%3Dgcp-kaggle-com%2540kaggle-161607.iam.gserviceaccount.com%252F20240619%252Fauto%252Fstorage%252Fgoog4_request%26X-Goog-Date%3D20240619T032532Z%26X-Goog-Expires%3D259200%26X-Goog-SignedHeaders%3Dhost%26X-Goog-Signature%3D98c94e059bbb8c770db0b3dbe4a30640b1d3dcdf1fe4ae55f40e75f1de019edca932a9a2bd2c2291fad687e1a216ef0b794977d511acf45790f750c99f4978510221dbcba743132ce9d951eba028e32faac0a6bb44c5c86f376afd5238ff8bd6482eeb93138ba2016d21ee26cadc0079109e7a65f035f3228b07642650b3e5492d6dddf7778f94548df85ce0daeab33fc02c4a7328e237978f14b8fc8f50b3e667090714c89d82813484e5a2a902e60da8f0a00b44bab5852598dfceabce64f72e3211a508e579e9e3cdd81b2c616f4999a5c6d74d57dcd569f89f0c44fe60e07b86b85dc9ac93fa0447e28a469d2a0923360ae8476fd9bd88909b83412d0b62,youtube-new:https%3A%2F%2Fstorage.googleapis.com%2Fkaggle-data-sets%2F4549%2F466349%2Fbundle%2Farchive.zip%3FX-Goog-Algorithm%3DGOOG4-RSA-SHA256%26X-Goog-Credential%3Dgcp-kaggle-com%2540kaggle-161607.iam.gserviceaccount.com%252F20240619%252Fauto%252Fstorage%252Fgoog4_request%26X-Goog-Date%3D20240619T032532Z%26X-Goog-Expires%3D259200%26X-Goog-SignedHeaders%3Dhost%26X-Goog-Signature%3D38e06d6b056a318a2173c70abed49d742e593fde88ad35972974f2916d061dcd8784041fcb0a7c2e28a0cdfba197a41a35bce2774eba1c1b89f25fe466620b0370f0358614177918098ac1fbb40e15cc768933141cddd67880ee741b6ce1c45ae5d1d5d5660dbeececfe3e32f95691139aaedb157c25c4b746f4a6530052a0371351dd089002a26a7266342a94aaaf9a3a6353b6dd89730c67312c9775a0d951b900d7de1a080629dc2144d9f4c8c7696c62a5052a0fc9e40fc64ded0f799354548d8322637a21f90539416974299c3c41e220ed54a6f9c5323b35098a63b788e57ef9002d054bf38797d562eeeffc6ecd30106b257e81bd4ea2c91485e4ae11,188-million-us-wildfires:https%3A%2F%2Fstorage.googleapis.com%2Fkaggle-data-sets%2F2478%2F1151655%2Fbundle%2Farchive.zip%3FX-Goog-Algorithm%3DGOOG4-RSA-SHA256%26X-Goog-Credential%3Dgcp-kaggle-com%2540kaggle-161607.iam.gserviceaccount.com%252F20240619%252Fauto%252Fstorage%252Fgoog4_request%26X-Goog-Date%3D20240619T032532Z%26X-Goog-Expires%3D259200%26X-Goog-SignedHeaders%3Dhost%26X-Goog-Signature%3Da42f2d98e6672dc49d5bb47c71440052c84ba0b6c5f03c2cd327fc6102cac5c105931c0d253855e39da3e278118bf82260c60e8feeb761d426e73899ec77a822b9fb266dd7695a0de46efc8198d8c37a803fb870ae2d2766cffd07869b1802618b9418b696075650c915f470c84f2be6177ff235c270a34353f13c6f30e96da552494275854e3215287c2c036ad3bc41a816cb2a544840d8e3c8c9bc74a6729d78b02fa6cc14cb860c00716542eed506c170a48d6a05d1bbe300cf32f2488b9bd4c9623214dffa670456056c5f28023e46c0233214aa26ce78191d27c50d827f05021a09f43177d28bf6406df41ea4dbcc483c8ff82ec7d19ca1104e8fac7598,publicassistance:https%3A%2F%2Fstorage.googleapis.com%2Fkaggle-data-sets%2F10128%2F5438389%2Fbundle%2Farchive.zip%3FX-Goog-Algorithm%3DGOOG4-RSA-SHA256%26X-Goog-Credential%3Dgcp-kaggle-com%2540kaggle-161607.iam.gserviceaccount.com%252F20240619%252Fauto%252Fstorage%252Fgoog4_request%26X-Goog-Date%3D20240619T032532Z%26X-Goog-Expires%3D259200%26X-Goog-SignedHeaders%3Dhost%26X-Goog-Signature%3D5f7fc78be4fc99d0362c2d4dbf1ae22d9d3dee67911ac2237952b8e185cc287470cd8c3e9b04707df41503954b6fbd6ddb6b3a358480ed2344e16ef28f741552445f31b5eb90f53a1a007c48e7206b274a9e6165164012a0546ca87130629693cd2bab8a402f82dbef97f084ce924b73c06a4d30ec921ab0d5b95a9d3e70ffbec3d15ebf17ff859254b56e319299271fab6f4e6902d3f55dfdee1bf02fb6f880ab15a631a163eafee1c73b65e061e1cd45732d285e7b6c4925f08eb855441a76017bcff2dd580c8f6e902ed135cafc8e99e2bd379d87093e0500905642241172277ee25335a43e496bf46e8e0036c55d718137026bc4fe12e798808d398af3c6'\n",
        "\n",
        "KAGGLE_INPUT_PATH='/kaggle/input'\n",
        "KAGGLE_WORKING_PATH='/kaggle/working'\n",
        "KAGGLE_SYMLINK='kaggle'\n",
        "\n",
        "!umount /kaggle/input/ 2> /dev/null\n",
        "shutil.rmtree('/kaggle/input', ignore_errors=True)\n",
        "os.makedirs(KAGGLE_INPUT_PATH, 0o777, exist_ok=True)\n",
        "os.makedirs(KAGGLE_WORKING_PATH, 0o777, exist_ok=True)\n",
        "\n",
        "try:\n",
        "  os.symlink(KAGGLE_INPUT_PATH, os.path.join(\"..\", 'input'), target_is_directory=True)\n",
        "except FileExistsError:\n",
        "  pass\n",
        "try:\n",
        "  os.symlink(KAGGLE_WORKING_PATH, os.path.join(\"..\", 'working'), target_is_directory=True)\n",
        "except FileExistsError:\n",
        "  pass\n",
        "\n",
        "for data_source_mapping in DATA_SOURCE_MAPPING.split(','):\n",
        "    directory, download_url_encoded = data_source_mapping.split(':')\n",
        "    download_url = unquote(download_url_encoded)\n",
        "    filename = urlparse(download_url).path\n",
        "    destination_path = os.path.join(KAGGLE_INPUT_PATH, directory)\n",
        "    try:\n",
        "        with urlopen(download_url) as fileres, NamedTemporaryFile() as tfile:\n",
        "            total_length = fileres.headers['content-length']\n",
        "            print(f'Downloading {directory}, {total_length} bytes compressed')\n",
        "            dl = 0\n",
        "            data = fileres.read(CHUNK_SIZE)\n",
        "            while len(data) > 0:\n",
        "                dl += len(data)\n",
        "                tfile.write(data)\n",
        "                done = int(50 * dl / int(total_length))\n",
        "                sys.stdout.write(f\"\\r[{'=' * done}{' ' * (50-done)}] {dl} bytes downloaded\")\n",
        "                sys.stdout.flush()\n",
        "                data = fileres.read(CHUNK_SIZE)\n",
        "            if filename.endswith('.zip'):\n",
        "              with ZipFile(tfile) as zfile:\n",
        "                zfile.extractall(destination_path)\n",
        "            else:\n",
        "              with tarfile.open(tfile.name) as tarfile:\n",
        "                tarfile.extractall(destination_path)\n",
        "            print(f'\\nDownloaded and uncompressed: {directory}')\n",
        "    except HTTPError as e:\n",
        "        print(f'Failed to load (likely expired) {download_url} to path {destination_path}')\n",
        "        continue\n",
        "    except OSError as e:\n",
        "        print(f'Failed to load {download_url} to path {destination_path}')\n",
        "        continue\n",
        "\n",
        "print('Data source import complete.')\n"
      ],
      "metadata": {
        "id": "43iILBJzh1MN"
      },
      "cell_type": "code",
      "outputs": [],
      "execution_count": null
    },
    {
      "cell_type": "markdown",
      "source": [
        "**This notebook is an exercise in the [Pandas](https://www.kaggle.com/learn/pandas) course.  You can reference the tutorial at [this link](https://www.kaggle.com/residentmario/creating-reading-and-writing).**\n",
        "\n",
        "---\n"
      ],
      "metadata": {
        "id": "nKLsec1Lh1MW"
      }
    },
    {
      "cell_type": "markdown",
      "source": [
        "# Introduction\n",
        "\n",
        "The first step in most data analytics projects is reading the data file. In this exercise, you'll create Series and DataFrame objects, both by hand and by reading data files.\n",
        "\n",
        "Run the code cell below to load libraries you will need (including code to check your answers)."
      ],
      "metadata": {
        "id": "vUTyiQ66h1Md"
      }
    },
    {
      "cell_type": "code",
      "source": [
        "import pandas as pd\n",
        "pd.set_option('display.max_rows', 5)\n",
        "from learntools.core import binder; binder.bind(globals())\n",
        "from learntools.pandas.creating_reading_and_writing import *\n",
        "print(\"Setup complete.\")"
      ],
      "metadata": {
        "execution": {
          "iopub.status.busy": "2024-06-19T03:17:41.540788Z",
          "iopub.execute_input": "2024-06-19T03:17:41.541625Z",
          "iopub.status.idle": "2024-06-19T03:17:41.548632Z",
          "shell.execute_reply.started": "2024-06-19T03:17:41.541585Z",
          "shell.execute_reply": "2024-06-19T03:17:41.547218Z"
        },
        "trusted": true,
        "id": "JR2UFowwh1Mg"
      },
      "execution_count": null,
      "outputs": []
    },
    {
      "cell_type": "markdown",
      "source": [
        "# Exercises"
      ],
      "metadata": {
        "id": "lLPhYA4Eh1Ml"
      }
    },
    {
      "cell_type": "markdown",
      "source": [
        "## 1.\n",
        "\n",
        "In the cell below, create a DataFrame `fruits` that looks like this:\n",
        "\n",
        "![](https://storage.googleapis.com/kaggle-media/learn/images/Ax3pp2A.png)"
      ],
      "metadata": {
        "id": "CHGsU3Dqh1Mp"
      }
    },
    {
      "cell_type": "code",
      "source": [
        "# Your code goes here. Create a dataframe matching the above diagram and assign it to the variable fruits.\n",
        "import pandas as pd\n",
        "fruits = pd.DataFrame({'Apples':[30],'Bananas':[21]})\n",
        "\n",
        "# Check your answer\n",
        "q1.check()\n",
        "fruits"
      ],
      "metadata": {
        "execution": {
          "iopub.status.busy": "2024-06-19T03:17:41.585522Z",
          "iopub.execute_input": "2024-06-19T03:17:41.585946Z",
          "iopub.status.idle": "2024-06-19T03:17:41.604815Z",
          "shell.execute_reply.started": "2024-06-19T03:17:41.585912Z",
          "shell.execute_reply": "2024-06-19T03:17:41.603732Z"
        },
        "trusted": true,
        "id": "5TJkvHFJh1Mr"
      },
      "execution_count": null,
      "outputs": []
    },
    {
      "cell_type": "code",
      "source": [
        "#q1.hint()\n",
        "#q1.solution()"
      ],
      "metadata": {
        "execution": {
          "iopub.status.busy": "2024-06-19T03:17:41.60697Z",
          "iopub.execute_input": "2024-06-19T03:17:41.607373Z",
          "iopub.status.idle": "2024-06-19T03:17:41.612405Z",
          "shell.execute_reply.started": "2024-06-19T03:17:41.607339Z",
          "shell.execute_reply": "2024-06-19T03:17:41.611211Z"
        },
        "trusted": true,
        "id": "Nqx5cdIph1Mv"
      },
      "execution_count": null,
      "outputs": []
    },
    {
      "cell_type": "markdown",
      "source": [
        "## 2.\n",
        "\n",
        "Create a dataframe `fruit_sales` that matches the diagram below:\n",
        "\n",
        "![](https://storage.googleapis.com/kaggle-media/learn/images/CHPn7ZF.png)"
      ],
      "metadata": {
        "id": "eCCoRJ5Ah1My"
      }
    },
    {
      "cell_type": "code",
      "source": [
        "# Your code goes here. Create a dataframe matching the above diagram and assign it to the variable fruit_sales.\n",
        "import pandas as pd\n",
        "fruit_sales =  pd.DataFrame({'Apples':[35,41],'Bananas':[21,34]},index=[\"2017 Sales\",\"2018 Sales\"])\n",
        "# Check your answer\n",
        "q2.check()\n",
        "fruit_sales"
      ],
      "metadata": {
        "execution": {
          "iopub.status.busy": "2024-06-19T03:17:41.642796Z",
          "iopub.execute_input": "2024-06-19T03:17:41.643234Z",
          "iopub.status.idle": "2024-06-19T03:17:41.662057Z",
          "shell.execute_reply.started": "2024-06-19T03:17:41.6432Z",
          "shell.execute_reply": "2024-06-19T03:17:41.66084Z"
        },
        "trusted": true,
        "id": "TAMbFUAYh1M2"
      },
      "execution_count": null,
      "outputs": []
    },
    {
      "cell_type": "code",
      "source": [
        "#q2.hint()\n",
        "#q2.solution()"
      ],
      "metadata": {
        "execution": {
          "iopub.status.busy": "2024-06-19T03:17:41.663939Z",
          "iopub.execute_input": "2024-06-19T03:17:41.664283Z",
          "iopub.status.idle": "2024-06-19T03:17:41.669875Z",
          "shell.execute_reply.started": "2024-06-19T03:17:41.664253Z",
          "shell.execute_reply": "2024-06-19T03:17:41.668426Z"
        },
        "trusted": true,
        "id": "SMrgjRQTh1M4"
      },
      "execution_count": null,
      "outputs": []
    },
    {
      "cell_type": "markdown",
      "source": [
        "## 3.\n",
        "\n",
        "Create a variable `ingredients` with a Series that looks like:\n",
        "\n",
        "```\n",
        "Flour     4 cups\n",
        "Milk       1 cup\n",
        "Eggs     2 large\n",
        "Spam       1 can\n",
        "Name: Dinner, dtype: object\n",
        "```"
      ],
      "metadata": {
        "id": "QHlXgqKqh1M8"
      }
    },
    {
      "cell_type": "code",
      "source": [
        "ingredients =pd.Series([\"4 cups\",\"1 cup\",\"2 large\",\"1 can\"],index=[\"Flour\",\"Milk\",\"Eggs\",\"Spam\"],name=\"Dinner\",dtype=\"object\")\n",
        "\n",
        "# Check your answer\n",
        "q3.check()\n",
        "ingredients"
      ],
      "metadata": {
        "execution": {
          "iopub.status.busy": "2024-06-19T03:17:41.673105Z",
          "iopub.execute_input": "2024-06-19T03:17:41.673595Z",
          "iopub.status.idle": "2024-06-19T03:17:41.691329Z",
          "shell.execute_reply.started": "2024-06-19T03:17:41.673536Z",
          "shell.execute_reply": "2024-06-19T03:17:41.690051Z"
        },
        "trusted": true,
        "id": "nFOyX4Jth1M-"
      },
      "execution_count": null,
      "outputs": []
    },
    {
      "cell_type": "code",
      "source": [
        "#q3.hint()\n",
        "#q3.solution()"
      ],
      "metadata": {
        "execution": {
          "iopub.status.busy": "2024-06-19T03:17:41.693843Z",
          "iopub.execute_input": "2024-06-19T03:17:41.694203Z",
          "iopub.status.idle": "2024-06-19T03:17:41.698886Z",
          "shell.execute_reply.started": "2024-06-19T03:17:41.694171Z",
          "shell.execute_reply": "2024-06-19T03:17:41.697778Z"
        },
        "trusted": true,
        "id": "T48qCR5Wh1M_"
      },
      "execution_count": null,
      "outputs": []
    },
    {
      "cell_type": "markdown",
      "source": [
        "## 4.\n",
        "\n",
        "Read the following csv dataset of wine reviews into a DataFrame called `reviews`:\n",
        "\n",
        "![](https://storage.googleapis.com/kaggle-media/learn/images/74RCZtU.png)\n",
        "\n",
        "The filepath to the csv file is `../input/wine-reviews/winemag-data_first150k.csv`. The first few lines look like:\n",
        "\n",
        "```\n",
        ",country,description,designation,points,price,province,region_1,region_2,variety,winery\n",
        "0,US,\"This tremendous 100% varietal wine[...]\",Martha's Vineyard,96,235.0,California,Napa Valley,Napa,Cabernet Sauvignon,Heitz\n",
        "1,Spain,\"Ripe aromas of fig, blackberry and[...]\",Carodorum Selección Especial Reserva,96,110.0,Northern Spain,Toro,,Tinta de Toro,Bodega Carmen Rodríguez\n",
        "```"
      ],
      "metadata": {
        "id": "oBIrP2pEh1NB"
      }
    },
    {
      "cell_type": "code",
      "source": [
        "import pandas as pd\n",
        "reviews = pd.read_csv(\"../input/wine-reviews/winemag-data_first150k.csv\",index_col=0)\n",
        "\n",
        "# Check your answer\n",
        "q4.check()\n",
        "reviews"
      ],
      "metadata": {
        "execution": {
          "iopub.status.busy": "2024-06-19T03:17:41.725715Z",
          "iopub.execute_input": "2024-06-19T03:17:41.726157Z",
          "iopub.status.idle": "2024-06-19T03:17:42.828765Z",
          "shell.execute_reply.started": "2024-06-19T03:17:41.726122Z",
          "shell.execute_reply": "2024-06-19T03:17:42.826811Z"
        },
        "trusted": true,
        "id": "nl_H4RBXh1ND"
      },
      "execution_count": null,
      "outputs": []
    },
    {
      "cell_type": "code",
      "source": [
        "#q4.hint()\n",
        "#q4.solution()"
      ],
      "metadata": {
        "execution": {
          "iopub.status.busy": "2024-06-19T03:17:42.831185Z",
          "iopub.execute_input": "2024-06-19T03:17:42.831538Z",
          "iopub.status.idle": "2024-06-19T03:17:42.835972Z",
          "shell.execute_reply.started": "2024-06-19T03:17:42.831506Z",
          "shell.execute_reply": "2024-06-19T03:17:42.834892Z"
        },
        "trusted": true,
        "id": "a8dmp7l3h1NF"
      },
      "execution_count": null,
      "outputs": []
    },
    {
      "cell_type": "markdown",
      "source": [
        "## 5.\n",
        "\n",
        "Run the cell below to create and display a DataFrame called `animals`:"
      ],
      "metadata": {
        "id": "QKvg4K1sh1NH"
      }
    },
    {
      "cell_type": "code",
      "source": [
        "animals = pd.DataFrame({'Cows': [12, 20], 'Goats': [22, 19]}, index=['Year 1', 'Year 2'])\n",
        "animals"
      ],
      "metadata": {
        "execution": {
          "iopub.status.busy": "2024-06-19T03:17:42.837246Z",
          "iopub.execute_input": "2024-06-19T03:17:42.837681Z",
          "iopub.status.idle": "2024-06-19T03:17:42.853083Z",
          "shell.execute_reply.started": "2024-06-19T03:17:42.837651Z",
          "shell.execute_reply": "2024-06-19T03:17:42.851899Z"
        },
        "trusted": true,
        "id": "CObYBo0ih1NI"
      },
      "execution_count": null,
      "outputs": []
    },
    {
      "cell_type": "markdown",
      "source": [
        "In the cell below, write code to save this DataFrame to disk as a csv file with the name `cows_and_goats.csv`."
      ],
      "metadata": {
        "id": "kh3nzjRQh1NL"
      }
    },
    {
      "cell_type": "code",
      "source": [
        "# Your code goes here\n",
        "animals.to_csv(\"cows_and_goats.csv\")\n",
        "# Check your answer\n",
        "q5.check()"
      ],
      "metadata": {
        "execution": {
          "iopub.status.busy": "2024-06-19T03:21:55.560272Z",
          "iopub.execute_input": "2024-06-19T03:21:55.560697Z",
          "iopub.status.idle": "2024-06-19T03:21:55.578235Z",
          "shell.execute_reply.started": "2024-06-19T03:21:55.560664Z",
          "shell.execute_reply": "2024-06-19T03:21:55.577004Z"
        },
        "trusted": true,
        "id": "vnoqQ2gyh1NM"
      },
      "execution_count": null,
      "outputs": []
    },
    {
      "cell_type": "code",
      "source": [
        "#q5.hint()\n",
        "#q5.solution()"
      ],
      "metadata": {
        "execution": {
          "iopub.status.busy": "2024-06-19T03:17:42.902148Z",
          "iopub.status.idle": "2024-06-19T03:17:42.902644Z",
          "shell.execute_reply.started": "2024-06-19T03:17:42.902385Z",
          "shell.execute_reply": "2024-06-19T03:17:42.902404Z"
        },
        "trusted": true,
        "id": "xTBHh9IUh1NO"
      },
      "execution_count": null,
      "outputs": []
    },
    {
      "cell_type": "markdown",
      "source": [
        "# Keep going\n",
        "\n",
        "Move on to learn about **[indexing, selecting and assigning](https://www.kaggle.com/residentmario/indexing-selecting-assigning)**."
      ],
      "metadata": {
        "id": "wy-cj74Nh1NP"
      }
    },
    {
      "cell_type": "markdown",
      "source": [
        "---\n",
        "\n",
        "\n",
        "\n",
        "\n",
        "*Have questions or comments? Visit the [course discussion forum](https://www.kaggle.com/learn/pandas/discussion) to chat with other learners.*"
      ],
      "metadata": {
        "id": "hZvFbkZjh1NR"
      }
    }
  ]
}
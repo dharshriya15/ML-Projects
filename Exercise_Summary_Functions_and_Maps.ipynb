{
  "metadata": {
    "kernelspec": {
      "name": "python3",
      "display_name": "Python 3",
      "language": "python"
    },
    "language_info": {
      "name": "python",
      "version": "3.10.13",
      "mimetype": "text/x-python",
      "codemirror_mode": {
        "name": "ipython",
        "version": 3
      },
      "pygments_lexer": "ipython3",
      "nbconvert_exporter": "python",
      "file_extension": ".py"
    },
    "kaggle": {
      "accelerator": "none",
      "dataSources": [
        {
          "sourceId": 1252,
          "sourceType": "datasetVersion",
          "datasetId": 655
        },
        {
          "sourceId": 3919,
          "sourceType": "datasetVersion",
          "datasetId": 2321
        },
        {
          "sourceId": 4877,
          "sourceType": "datasetVersion",
          "datasetId": 2894
        },
        {
          "sourceId": 5624,
          "sourceType": "datasetVersion",
          "datasetId": 3491
        },
        {
          "sourceId": 8172,
          "sourceType": "datasetVersion",
          "datasetId": 1442
        },
        {
          "sourceId": 13206,
          "sourceType": "datasetVersion",
          "datasetId": 9366
        },
        {
          "sourceId": 403916,
          "sourceType": "datasetVersion",
          "datasetId": 179555
        },
        {
          "sourceId": 466349,
          "sourceType": "datasetVersion",
          "datasetId": 4549
        },
        {
          "sourceId": 1151655,
          "sourceType": "datasetVersion",
          "datasetId": 2478
        },
        {
          "sourceId": 5438389,
          "sourceType": "datasetVersion",
          "datasetId": 10128
        }
      ],
      "isInternetEnabled": false,
      "language": "python",
      "sourceType": "notebook",
      "isGpuEnabled": false
    },
    "colab": {
      "name": "Exercise: Summary Functions and Maps",
      "provenance": [],
      "include_colab_link": true
    }
  },
  "nbformat_minor": 0,
  "nbformat": 4,
  "cells": [
    {
      "cell_type": "markdown",
      "metadata": {
        "id": "view-in-github",
        "colab_type": "text"
      },
      "source": [
        "<a href=\"https://colab.research.google.com/github/dharshriya15/ML-Projects/blob/main/Exercise_Summary_Functions_and_Maps.ipynb\" target=\"_parent\"><img src=\"https://colab.research.google.com/assets/colab-badge.svg\" alt=\"Open In Colab\"/></a>"
      ]
    },
    {
      "source": [
        "\n",
        "# IMPORTANT: RUN THIS CELL IN ORDER TO IMPORT YOUR KAGGLE DATA SOURCES\n",
        "# TO THE CORRECT LOCATION (/kaggle/input) IN YOUR NOTEBOOK,\n",
        "# THEN FEEL FREE TO DELETE THIS CELL.\n",
        "# NOTE: THIS NOTEBOOK ENVIRONMENT DIFFERS FROM KAGGLE'S PYTHON\n",
        "# ENVIRONMENT SO THERE MAY BE MISSING LIBRARIES USED BY YOUR\n",
        "# NOTEBOOK.\n",
        "\n",
        "import os\n",
        "import sys\n",
        "from tempfile import NamedTemporaryFile\n",
        "from urllib.request import urlopen\n",
        "from urllib.parse import unquote, urlparse\n",
        "from urllib.error import HTTPError\n",
        "from zipfile import ZipFile\n",
        "import tarfile\n",
        "import shutil\n",
        "\n",
        "CHUNK_SIZE = 40960\n",
        "DATA_SOURCE_MAPPING = 'pitchfork-data:https%3A%2F%2Fstorage.googleapis.com%2Fkaggle-data-sets%2F655%2F1252%2Fbundle%2Farchive.zip%3FX-Goog-Algorithm%3DGOOG4-RSA-SHA256%26X-Goog-Credential%3Dgcp-kaggle-com%2540kaggle-161607.iam.gserviceaccount.com%252F20240619%252Fauto%252Fstorage%252Fgoog4_request%26X-Goog-Date%3D20240619T072547Z%26X-Goog-Expires%3D259200%26X-Goog-SignedHeaders%3Dhost%26X-Goog-Signature%3D143b040c03ea558f1f76a86b496c6667393ca7697edaca63023cbf28576e5b393dfced2e489a1d4e90ee37a17408c3b6cef6ccbb1228eee5421bfdadcfc242a5455b869bed84bbf00f953088e187fecccfdbe580c71f2c88f856a1aa6b247427180840d0b754cf005780804b0f83704efc29d2d32dd38668790678bc9e8c05c325edf24a04fb388bd2ac950a8dfc6b0bd3d6ae7ab32b60bbb734c398c6174c6409395f84b1cd9334d8c79d16166aa0e4a1896f6abfd9a811b16539fd7e5aab4887e76fefb7934f044ddc5cd29dd96d5956d1ffe58cf7be09b1c10211c5e2ffc8aefdb39c309895b4f251a68ecf43d758b629b1a6e454d43b2c9951870187013e,chess:https%3A%2F%2Fstorage.googleapis.com%2Fkaggle-data-sets%2F2321%2F3919%2Fbundle%2Farchive.zip%3FX-Goog-Algorithm%3DGOOG4-RSA-SHA256%26X-Goog-Credential%3Dgcp-kaggle-com%2540kaggle-161607.iam.gserviceaccount.com%252F20240619%252Fauto%252Fstorage%252Fgoog4_request%26X-Goog-Date%3D20240619T072547Z%26X-Goog-Expires%3D259200%26X-Goog-SignedHeaders%3Dhost%26X-Goog-Signature%3D9cb7f41a657ec03bee3f8e1dfacde664a4460fbf9dbdfa14cc510b2fa617a2c4797bdd987d3084496bb188a75e50a1c0a5e4e31afdf817e6f18af61d8e16c10e130b822f271789466fa750d03204be81f48433224c3877970801c09735d12aa54670738452fb87ab4f6b032776fc8c14167b723bf4881ba7002a38a501527bb2483f48d6f28f4f5e5e4175e9878ed86a9f5b952024e071dad7d68379a04a1afdbaf7a62da1fb64499bc5f7f320df873a70109ebdd03615f07ae7d9d7bf9a676d955353e82e07dbd05bcdd3deb88e9b1336f5229435e28607ef5d35b93da67ce692f6aaf740adb8f0c72a23cb9619725bf24a3a5c2a7c511e46433d104bbd535c,kepler-exoplanet-search-results:https%3A%2F%2Fstorage.googleapis.com%2Fkaggle-data-sets%2F2894%2F4877%2Fbundle%2Farchive.zip%3FX-Goog-Algorithm%3DGOOG4-RSA-SHA256%26X-Goog-Credential%3Dgcp-kaggle-com%2540kaggle-161607.iam.gserviceaccount.com%252F20240619%252Fauto%252Fstorage%252Fgoog4_request%26X-Goog-Date%3D20240619T072547Z%26X-Goog-Expires%3D259200%26X-Goog-SignedHeaders%3Dhost%26X-Goog-Signature%3D46e05ed1f2cb24b39d201685425802d0a0fa300538c8b144ff0365c4f07d8c540d2d9af74f0f337ffbbdd2ef0ec9668118eade8bd5eb292e9e71b242e71dede4f2b0a01bf9dc519bc1bf427723da36de3a59f09433efc413ac9f5f656e71493db70359be0ca52111acf12cf893d7c039c9175645e882613510462320e3a72c64e100dcf98809eeec8cc37575630aac9f8f2e90c539d05f33b8c5b934fa55a72594510c6987773b94302655003d8a31c4c4a9f6df0f05653e1b9e0ad04672e096133d42b13a8f6350e62f4921e2271500a52015ff23036d1efa6730efb4463845e3c53b295221d3050e300b80419462427b397fd9d704d35ddccf8830930339be,things-on-reddit:https%3A%2F%2Fstorage.googleapis.com%2Fkaggle-data-sets%2F3491%2F5624%2Fbundle%2Farchive.zip%3FX-Goog-Algorithm%3DGOOG4-RSA-SHA256%26X-Goog-Credential%3Dgcp-kaggle-com%2540kaggle-161607.iam.gserviceaccount.com%252F20240619%252Fauto%252Fstorage%252Fgoog4_request%26X-Goog-Date%3D20240619T072547Z%26X-Goog-Expires%3D259200%26X-Goog-SignedHeaders%3Dhost%26X-Goog-Signature%3D73c5992668e4f32fa3d0ae53923ad0645b6ae641781cd9a2261f3d8af067d751816b55500691e1c4f71e1b51725562fa6a472a6ae6bac449a2ca9b2c2124314d92b79850d9025b97bfd70cd4f8728d2365d6cb92753fe55e84d9089dd912f060485cabd6c31d6405fb4d50b8bc5303d5225ac97be665fcffed8b96530115900928c4cdceb5103c78b32d3bca8a33a8be14eb7af27cf69eb5c0c5bc9671c05e3dcab35f3c4096c5e72d87e012b795153287c1cca1b0e5e7873c6d461f42e409392af78a76665394356a415991d5d980a37f90ce7079e92f4a7b04affe9cd9b5ec12f390248b95f1ed8e77fcca0918281fae03833ad7c7b8f43e64abab65ee1dc1,wine-reviews:https%3A%2F%2Fstorage.googleapis.com%2Fkaggle-data-sets%2F1442%2F8172%2Fbundle%2Farchive.zip%3FX-Goog-Algorithm%3DGOOG4-RSA-SHA256%26X-Goog-Credential%3Dgcp-kaggle-com%2540kaggle-161607.iam.gserviceaccount.com%252F20240619%252Fauto%252Fstorage%252Fgoog4_request%26X-Goog-Date%3D20240619T072547Z%26X-Goog-Expires%3D259200%26X-Goog-SignedHeaders%3Dhost%26X-Goog-Signature%3D821d1f4b3db249b123fec18423480f03b9ea9b4062b2c1df1937ef0d469ab9334e7b8a47f42a35ace886b97a73257a685c310982a8229f4af3f412d9ebf870a08ad80a768b988c145c7f32006c9f6a67039a7ff2ae0af045093b268979a511dd07ac06c393d12daa18f85a559ec19929384e971ea5b9ac3881ce18f71a5bda1a499412e5b9a5e07ae69bc0ce49ceae48c0c1f35d392791b2ffc6cac5072829a50804622edd14a3cc02e142169346bb736235bab161718a59346919d168b0b98cd785d784b4c105527756dcfdc55566c93c7b580dfe1e63b13ce6997057c71298371f70f9c6edc863c30f5c5ebcaec1780492a8ad9942fd5e9ba6e49c11fba4bd,ramen-ratings:https%3A%2F%2Fstorage.googleapis.com%2Fkaggle-data-sets%2F9366%2F13206%2Fbundle%2Farchive.zip%3FX-Goog-Algorithm%3DGOOG4-RSA-SHA256%26X-Goog-Credential%3Dgcp-kaggle-com%2540kaggle-161607.iam.gserviceaccount.com%252F20240619%252Fauto%252Fstorage%252Fgoog4_request%26X-Goog-Date%3D20240619T072547Z%26X-Goog-Expires%3D259200%26X-Goog-SignedHeaders%3Dhost%26X-Goog-Signature%3D7989a0bb393f2fdbf38d74b8453d4bd9174a886cbf5e1e1f5ceb2db853d8f1564e666dc903e21ecc57a63fdd6c415121cfa4841f556dcec15f63f09d499151823374f5288b7d8e0db93f68b1e58904a0466cc04ab4d3f0239cf2a0aca9be363cf7b528ab7eeceb13328793474a7c6758f28e4b9c274dcffd750e2a34520b71308c92c5c143df4dec437dacdf6e3997bdaeb9bcc043d2169400d7aa1c1fd2a6dd001fbf323df628c4474109f3ae97e399bc6450de7c7c1ca789f2c0b80efe05c3af3301d1917a25316b04dd27dca2cc81e28bed562c01461843b84aea2f13f0f0cf78670abac88646785d5f69552213ec9424ba51570d6d19cbd8b703fd06fc12,powerlifting-database:https%3A%2F%2Fstorage.googleapis.com%2Fkaggle-data-sets%2F179555%2F403916%2Fbundle%2Farchive.zip%3FX-Goog-Algorithm%3DGOOG4-RSA-SHA256%26X-Goog-Credential%3Dgcp-kaggle-com%2540kaggle-161607.iam.gserviceaccount.com%252F20240619%252Fauto%252Fstorage%252Fgoog4_request%26X-Goog-Date%3D20240619T072547Z%26X-Goog-Expires%3D259200%26X-Goog-SignedHeaders%3Dhost%26X-Goog-Signature%3D57590c40d9076dc561b276d5db90fdb2212aea5b4356a88d3ef25037a0bf2d02cdec920d9839702afd9a8ed13f5f179055d522a3ccd437be7cf75707c4e3cdc713d4e900e6863f14e3e768b742261e12d94e58ce4cdcd1fc8a1459e622efa72707e4a47c7c440e46d947061be08324e743ecf747b4b6cd4edec6ce91d945676758e9ad8d622d148a8fb4795e22be27d5e9ea45d3543cacf9d491fc68872c0f7c8ead5526177a0a99e1bc3dcfe2546a3c792c49e6385b7cd5b246ae58ad7cc5989c42bb4130b4c657c1c674baa9fefdda8209cd51c2f75012f69bd9ffde1d86e43cd8cde4e4eb6de38bf250194e549603583bec9a4147ab78494f6e7f4343ced3,youtube-new:https%3A%2F%2Fstorage.googleapis.com%2Fkaggle-data-sets%2F4549%2F466349%2Fbundle%2Farchive.zip%3FX-Goog-Algorithm%3DGOOG4-RSA-SHA256%26X-Goog-Credential%3Dgcp-kaggle-com%2540kaggle-161607.iam.gserviceaccount.com%252F20240619%252Fauto%252Fstorage%252Fgoog4_request%26X-Goog-Date%3D20240619T072548Z%26X-Goog-Expires%3D259200%26X-Goog-SignedHeaders%3Dhost%26X-Goog-Signature%3Da35b4cc18b229a2fe270a98162435feaa4bebb8e218774974787275ecd4eaa264fb77ca23fde179c6070fa67682e3d64897d547ebf83a3df49fee57660d56216c352e57930d28099aa5355accdf3801b27dddd15f81caa33a9975cfcab2f67f503510fbb74954709a9bc229aa3166136415e1c732d6e022df454b69e9ebd03a4327f6b19ac04c5ffd36f0e932f75ad7fa89ec240489942d9240a78ac9861bdcb75a5acd7d890c9111b2db912cfc3ce9f2f614cd3a1e3e2045d23f20daa1b5bace3268fe91bb65f54358e142187dfa4201b2f5104860172c2b17bf6efcfcac5ea052eba5886453f804a1c18c7ba325e05e7e98b2936d17ea284f806788abc347e,188-million-us-wildfires:https%3A%2F%2Fstorage.googleapis.com%2Fkaggle-data-sets%2F2478%2F1151655%2Fbundle%2Farchive.zip%3FX-Goog-Algorithm%3DGOOG4-RSA-SHA256%26X-Goog-Credential%3Dgcp-kaggle-com%2540kaggle-161607.iam.gserviceaccount.com%252F20240619%252Fauto%252Fstorage%252Fgoog4_request%26X-Goog-Date%3D20240619T072548Z%26X-Goog-Expires%3D259200%26X-Goog-SignedHeaders%3Dhost%26X-Goog-Signature%3D23538edb302857405f5b2084de1fe8e202367a9939af0938f258afb6ef09b97ecbd04a4f0ae3bd23a60d1523a5dfae0c9a722d4d5b696fa8669ac10ccc9b2d082f83680c00fab036674f5ca38b2dcfd6d491c1805932f76ee4b31a4b01c550882d1d2cd405a3c5f06c0f2de303730dc483b63d9f67f51b564018e838fb42d9f80fa3bcf7f62e9de862ffbebab9057f446f33ca27b9bd768bbdd125298aa2f4236ddebbf116e8c05638af0513df9bfe9a0ec6d79c4b6e52ddd5a7ecac80d1ef258f79a9f2305100e264019f61dd45e1d9c05040cc54bba9c26f9a0a4e31779ce2c2ffec49e1f0837393a119b3e576ecd2cc78ae320d969df0f7dbbd3155d354b0,publicassistance:https%3A%2F%2Fstorage.googleapis.com%2Fkaggle-data-sets%2F10128%2F5438389%2Fbundle%2Farchive.zip%3FX-Goog-Algorithm%3DGOOG4-RSA-SHA256%26X-Goog-Credential%3Dgcp-kaggle-com%2540kaggle-161607.iam.gserviceaccount.com%252F20240619%252Fauto%252Fstorage%252Fgoog4_request%26X-Goog-Date%3D20240619T072548Z%26X-Goog-Expires%3D259200%26X-Goog-SignedHeaders%3Dhost%26X-Goog-Signature%3D9686b2eae44e7fc9ff93a75a94895bf6df78ea4a849c223dbaa433e733792288a328326d6712015a6253f51b7ad774f971bd4cdb34e7ba153f3404924e15212663ae323cb35feb785b49676756bf416004294704a886595fb5bf7d935b9b743fccf56d14760e85f99b341a0b4169e909311f5e850c76e94f7190b38666cf929ee556aec2e8daba9c238f62d8b4608ed809bf147205f21b6407144de99e9bbf8326ae6e1bd0ef3e47db9fda2eedb6b89730d6aa27d29a4ca60b932986b2304392d61a867358133e76dff9975226101de6915414d5aa5ebfe995d3599d443deb131128da1d276fac580381ba99941ef157f9c7b986f32877ac75daa637a14d8561'\n",
        "\n",
        "KAGGLE_INPUT_PATH='/kaggle/input'\n",
        "KAGGLE_WORKING_PATH='/kaggle/working'\n",
        "KAGGLE_SYMLINK='kaggle'\n",
        "\n",
        "!umount /kaggle/input/ 2> /dev/null\n",
        "shutil.rmtree('/kaggle/input', ignore_errors=True)\n",
        "os.makedirs(KAGGLE_INPUT_PATH, 0o777, exist_ok=True)\n",
        "os.makedirs(KAGGLE_WORKING_PATH, 0o777, exist_ok=True)\n",
        "\n",
        "try:\n",
        "  os.symlink(KAGGLE_INPUT_PATH, os.path.join(\"..\", 'input'), target_is_directory=True)\n",
        "except FileExistsError:\n",
        "  pass\n",
        "try:\n",
        "  os.symlink(KAGGLE_WORKING_PATH, os.path.join(\"..\", 'working'), target_is_directory=True)\n",
        "except FileExistsError:\n",
        "  pass\n",
        "\n",
        "for data_source_mapping in DATA_SOURCE_MAPPING.split(','):\n",
        "    directory, download_url_encoded = data_source_mapping.split(':')\n",
        "    download_url = unquote(download_url_encoded)\n",
        "    filename = urlparse(download_url).path\n",
        "    destination_path = os.path.join(KAGGLE_INPUT_PATH, directory)\n",
        "    try:\n",
        "        with urlopen(download_url) as fileres, NamedTemporaryFile() as tfile:\n",
        "            total_length = fileres.headers['content-length']\n",
        "            print(f'Downloading {directory}, {total_length} bytes compressed')\n",
        "            dl = 0\n",
        "            data = fileres.read(CHUNK_SIZE)\n",
        "            while len(data) > 0:\n",
        "                dl += len(data)\n",
        "                tfile.write(data)\n",
        "                done = int(50 * dl / int(total_length))\n",
        "                sys.stdout.write(f\"\\r[{'=' * done}{' ' * (50-done)}] {dl} bytes downloaded\")\n",
        "                sys.stdout.flush()\n",
        "                data = fileres.read(CHUNK_SIZE)\n",
        "            if filename.endswith('.zip'):\n",
        "              with ZipFile(tfile) as zfile:\n",
        "                zfile.extractall(destination_path)\n",
        "            else:\n",
        "              with tarfile.open(tfile.name) as tarfile:\n",
        "                tarfile.extractall(destination_path)\n",
        "            print(f'\\nDownloaded and uncompressed: {directory}')\n",
        "    except HTTPError as e:\n",
        "        print(f'Failed to load (likely expired) {download_url} to path {destination_path}')\n",
        "        continue\n",
        "    except OSError as e:\n",
        "        print(f'Failed to load {download_url} to path {destination_path}')\n",
        "        continue\n",
        "\n",
        "print('Data source import complete.')\n"
      ],
      "metadata": {
        "id": "eYh_s_mFY0iG"
      },
      "cell_type": "code",
      "outputs": [],
      "execution_count": null
    },
    {
      "cell_type": "markdown",
      "source": [
        "**This notebook is an exercise in the [Pandas](https://www.kaggle.com/learn/pandas) course.  You can reference the tutorial at [this link](https://www.kaggle.com/residentmario/summary-functions-and-maps).**\n",
        "\n",
        "---\n"
      ],
      "metadata": {
        "id": "iMuAzLQ4Y0iP"
      }
    },
    {
      "cell_type": "markdown",
      "source": [
        "# Introduction\n",
        "\n",
        "Now you are ready to get a deeper understanding of your data.\n",
        "\n",
        "Run the following cell to load your data and some utility functions (including code to check your answers)."
      ],
      "metadata": {
        "id": "D2nAHxA3Y0iV"
      }
    },
    {
      "cell_type": "code",
      "source": [
        "import pandas as pd\n",
        "pd.set_option(\"display.max_rows\", 5)\n",
        "reviews = pd.read_csv(\"../input/wine-reviews/winemag-data-130k-v2.csv\", index_col=0)\n",
        "\n",
        "from learntools.core import binder; binder.bind(globals())\n",
        "from learntools.pandas.summary_functions_and_maps import *\n",
        "print(\"Setup complete.\")\n",
        "\n",
        "reviews.head()"
      ],
      "metadata": {
        "execution": {
          "iopub.status.busy": "2024-06-19T07:22:51.942167Z",
          "iopub.execute_input": "2024-06-19T07:22:51.942566Z",
          "iopub.status.idle": "2024-06-19T07:22:53.198818Z",
          "shell.execute_reply.started": "2024-06-19T07:22:51.942534Z",
          "shell.execute_reply": "2024-06-19T07:22:53.197656Z"
        },
        "trusted": true,
        "id": "JgXoaOIKY0ib",
        "outputId": "cb77b8e8-0ff3-4808-e2b0-f4aafb60b3be"
      },
      "execution_count": null,
      "outputs": [
        {
          "name": "stdout",
          "text": "Setup complete.\n",
          "output_type": "stream"
        },
        {
          "execution_count": 58,
          "output_type": "execute_result",
          "data": {
            "text/plain": "    country                                        description  \\\n0     Italy  Aromas include tropical fruit, broom, brimston...   \n1  Portugal  This is ripe and fruity, a wine that is smooth...   \n2        US  Tart and snappy, the flavors of lime flesh and...   \n3        US  Pineapple rind, lemon pith and orange blossom ...   \n4        US  Much like the regular bottling from 2012, this...   \n\n                          designation  points  price           province  \\\n0                        Vulkà Bianco      87    NaN  Sicily & Sardinia   \n1                            Avidagos      87   15.0              Douro   \n2                                 NaN      87   14.0             Oregon   \n3                Reserve Late Harvest      87   13.0           Michigan   \n4  Vintner's Reserve Wild Child Block      87   65.0             Oregon   \n\n              region_1           region_2         taster_name  \\\n0                 Etna                NaN       Kerin O’Keefe   \n1                  NaN                NaN          Roger Voss   \n2    Willamette Valley  Willamette Valley        Paul Gregutt   \n3  Lake Michigan Shore                NaN  Alexander Peartree   \n4    Willamette Valley  Willamette Valley        Paul Gregutt   \n\n  taster_twitter_handle                                              title  \\\n0          @kerinokeefe                  Nicosia 2013 Vulkà Bianco  (Etna)   \n1            @vossroger      Quinta dos Avidagos 2011 Avidagos Red (Douro)   \n2           @paulgwine       Rainstorm 2013 Pinot Gris (Willamette Valley)   \n3                   NaN  St. Julian 2013 Reserve Late Harvest Riesling ...   \n4           @paulgwine   Sweet Cheeks 2012 Vintner's Reserve Wild Child...   \n\n          variety               winery  \n0     White Blend              Nicosia  \n1  Portuguese Red  Quinta dos Avidagos  \n2      Pinot Gris            Rainstorm  \n3        Riesling           St. Julian  \n4      Pinot Noir         Sweet Cheeks  ",
            "text/html": "<div>\n<style scoped>\n    .dataframe tbody tr th:only-of-type {\n        vertical-align: middle;\n    }\n\n    .dataframe tbody tr th {\n        vertical-align: top;\n    }\n\n    .dataframe thead th {\n        text-align: right;\n    }\n</style>\n<table border=\"1\" class=\"dataframe\">\n  <thead>\n    <tr style=\"text-align: right;\">\n      <th></th>\n      <th>country</th>\n      <th>description</th>\n      <th>designation</th>\n      <th>points</th>\n      <th>price</th>\n      <th>province</th>\n      <th>region_1</th>\n      <th>region_2</th>\n      <th>taster_name</th>\n      <th>taster_twitter_handle</th>\n      <th>title</th>\n      <th>variety</th>\n      <th>winery</th>\n    </tr>\n  </thead>\n  <tbody>\n    <tr>\n      <th>0</th>\n      <td>Italy</td>\n      <td>Aromas include tropical fruit, broom, brimston...</td>\n      <td>Vulkà Bianco</td>\n      <td>87</td>\n      <td>NaN</td>\n      <td>Sicily &amp; Sardinia</td>\n      <td>Etna</td>\n      <td>NaN</td>\n      <td>Kerin O’Keefe</td>\n      <td>@kerinokeefe</td>\n      <td>Nicosia 2013 Vulkà Bianco  (Etna)</td>\n      <td>White Blend</td>\n      <td>Nicosia</td>\n    </tr>\n    <tr>\n      <th>1</th>\n      <td>Portugal</td>\n      <td>This is ripe and fruity, a wine that is smooth...</td>\n      <td>Avidagos</td>\n      <td>87</td>\n      <td>15.0</td>\n      <td>Douro</td>\n      <td>NaN</td>\n      <td>NaN</td>\n      <td>Roger Voss</td>\n      <td>@vossroger</td>\n      <td>Quinta dos Avidagos 2011 Avidagos Red (Douro)</td>\n      <td>Portuguese Red</td>\n      <td>Quinta dos Avidagos</td>\n    </tr>\n    <tr>\n      <th>2</th>\n      <td>US</td>\n      <td>Tart and snappy, the flavors of lime flesh and...</td>\n      <td>NaN</td>\n      <td>87</td>\n      <td>14.0</td>\n      <td>Oregon</td>\n      <td>Willamette Valley</td>\n      <td>Willamette Valley</td>\n      <td>Paul Gregutt</td>\n      <td>@paulgwine</td>\n      <td>Rainstorm 2013 Pinot Gris (Willamette Valley)</td>\n      <td>Pinot Gris</td>\n      <td>Rainstorm</td>\n    </tr>\n    <tr>\n      <th>3</th>\n      <td>US</td>\n      <td>Pineapple rind, lemon pith and orange blossom ...</td>\n      <td>Reserve Late Harvest</td>\n      <td>87</td>\n      <td>13.0</td>\n      <td>Michigan</td>\n      <td>Lake Michigan Shore</td>\n      <td>NaN</td>\n      <td>Alexander Peartree</td>\n      <td>NaN</td>\n      <td>St. Julian 2013 Reserve Late Harvest Riesling ...</td>\n      <td>Riesling</td>\n      <td>St. Julian</td>\n    </tr>\n    <tr>\n      <th>4</th>\n      <td>US</td>\n      <td>Much like the regular bottling from 2012, this...</td>\n      <td>Vintner's Reserve Wild Child Block</td>\n      <td>87</td>\n      <td>65.0</td>\n      <td>Oregon</td>\n      <td>Willamette Valley</td>\n      <td>Willamette Valley</td>\n      <td>Paul Gregutt</td>\n      <td>@paulgwine</td>\n      <td>Sweet Cheeks 2012 Vintner's Reserve Wild Child...</td>\n      <td>Pinot Noir</td>\n      <td>Sweet Cheeks</td>\n    </tr>\n  </tbody>\n</table>\n</div>"
          },
          "metadata": {}
        }
      ]
    },
    {
      "cell_type": "markdown",
      "source": [
        "# Exercises"
      ],
      "metadata": {
        "id": "G0z1SRAlY0ig"
      }
    },
    {
      "cell_type": "markdown",
      "source": [
        "## 1.\n",
        "\n",
        "What is the median of the `points` column in the `reviews` DataFrame?"
      ],
      "metadata": {
        "id": "8-_9xx_HY0ij"
      }
    },
    {
      "cell_type": "code",
      "source": [
        "median_points = reviews.points.median()\n",
        "\n",
        "# Check your answer\n",
        "q1.check()"
      ],
      "metadata": {
        "execution": {
          "iopub.status.busy": "2024-06-19T07:22:53.201014Z",
          "iopub.execute_input": "2024-06-19T07:22:53.2015Z",
          "iopub.status.idle": "2024-06-19T07:22:53.213355Z",
          "shell.execute_reply.started": "2024-06-19T07:22:53.201458Z",
          "shell.execute_reply": "2024-06-19T07:22:53.212011Z"
        },
        "trusted": true,
        "id": "6hOV-Mi4Y0im",
        "outputId": "b8187ecd-3cc0-4590-d576-2183fe14cb70"
      },
      "execution_count": null,
      "outputs": [
        {
          "output_type": "display_data",
          "data": {
            "text/plain": "<IPython.core.display.Javascript object>",
            "application/javascript": "parent.postMessage({\"jupyterEvent\": \"custom.exercise_interaction\", \"data\": {\"outcomeType\": 1, \"valueTowardsCompletion\": 0.14285714285714285, \"interactionType\": 1, \"questionType\": 1, \"questionId\": \"1_MedianPoints\", \"learnToolsVersion\": \"0.3.4\", \"failureMessage\": \"\", \"exceptionClass\": \"\", \"trace\": \"\"}}, \"*\")"
          },
          "metadata": {}
        },
        {
          "output_type": "display_data",
          "data": {
            "text/plain": "Correct",
            "text/markdown": "<span style=\"color:#33cc33\">Correct</span>"
          },
          "metadata": {}
        }
      ]
    },
    {
      "cell_type": "code",
      "source": [
        "#q1.hint()\n",
        "#q1.solution()"
      ],
      "metadata": {
        "execution": {
          "iopub.status.busy": "2024-06-19T07:22:53.21471Z",
          "iopub.execute_input": "2024-06-19T07:22:53.215206Z",
          "iopub.status.idle": "2024-06-19T07:22:53.220617Z",
          "shell.execute_reply.started": "2024-06-19T07:22:53.215163Z",
          "shell.execute_reply": "2024-06-19T07:22:53.21942Z"
        },
        "trusted": true,
        "id": "aZwZqhsBY0iq"
      },
      "execution_count": null,
      "outputs": []
    },
    {
      "cell_type": "markdown",
      "source": [
        "## 2.\n",
        "What countries are represented in the dataset? (Your answer should not include any duplicates.)"
      ],
      "metadata": {
        "id": "INOc7U-wY0it"
      }
    },
    {
      "cell_type": "code",
      "source": [
        "countries = reviews.country.unique()\n",
        "\n",
        "# Check your answer\n",
        "q2.check()"
      ],
      "metadata": {
        "execution": {
          "iopub.status.busy": "2024-06-19T07:22:53.223651Z",
          "iopub.execute_input": "2024-06-19T07:22:53.224176Z",
          "iopub.status.idle": "2024-06-19T07:22:53.242244Z",
          "shell.execute_reply.started": "2024-06-19T07:22:53.224132Z",
          "shell.execute_reply": "2024-06-19T07:22:53.241Z"
        },
        "trusted": true,
        "id": "KJpWS_lqY0ix",
        "outputId": "ecd20ad4-0673-432c-a63e-be0ed305f667"
      },
      "execution_count": null,
      "outputs": [
        {
          "output_type": "display_data",
          "data": {
            "text/plain": "<IPython.core.display.Javascript object>",
            "application/javascript": "parent.postMessage({\"jupyterEvent\": \"custom.exercise_interaction\", \"data\": {\"outcomeType\": 1, \"valueTowardsCompletion\": 0.14285714285714285, \"interactionType\": 1, \"questionType\": 2, \"questionId\": \"2_UniqueCountries\", \"learnToolsVersion\": \"0.3.4\", \"failureMessage\": \"\", \"exceptionClass\": \"\", \"trace\": \"\"}}, \"*\")"
          },
          "metadata": {}
        },
        {
          "output_type": "display_data",
          "data": {
            "text/plain": "Correct",
            "text/markdown": "<span style=\"color:#33cc33\">Correct</span>"
          },
          "metadata": {}
        }
      ]
    },
    {
      "cell_type": "code",
      "source": [
        "#q2.hint()\n",
        "#q2.solution()"
      ],
      "metadata": {
        "execution": {
          "iopub.status.busy": "2024-06-19T07:22:53.243669Z",
          "iopub.execute_input": "2024-06-19T07:22:53.244076Z",
          "iopub.status.idle": "2024-06-19T07:22:53.252518Z",
          "shell.execute_reply.started": "2024-06-19T07:22:53.244002Z",
          "shell.execute_reply": "2024-06-19T07:22:53.251099Z"
        },
        "trusted": true,
        "id": "d-u7HlPRY0i1"
      },
      "execution_count": null,
      "outputs": []
    },
    {
      "cell_type": "markdown",
      "source": [
        "## 3.\n",
        "How often does each country appear in the dataset? Create a Series `reviews_per_country` mapping countries to the count of reviews of wines from that country."
      ],
      "metadata": {
        "id": "HCGI7qqFY0i4"
      }
    },
    {
      "cell_type": "code",
      "source": [
        "reviews_per_country = reviews.country.value_counts()\n",
        "\n",
        "# Check your answer\n",
        "q3.check()"
      ],
      "metadata": {
        "execution": {
          "iopub.status.busy": "2024-06-19T07:22:53.254083Z",
          "iopub.execute_input": "2024-06-19T07:22:53.254455Z",
          "iopub.status.idle": "2024-06-19T07:22:53.281595Z",
          "shell.execute_reply.started": "2024-06-19T07:22:53.254425Z",
          "shell.execute_reply": "2024-06-19T07:22:53.280143Z"
        },
        "trusted": true,
        "id": "E11Ds5zZY0i7",
        "outputId": "40b2ae01-1319-4f40-ac7a-597ecd0a1a9f"
      },
      "execution_count": null,
      "outputs": [
        {
          "output_type": "display_data",
          "data": {
            "text/plain": "<IPython.core.display.Javascript object>",
            "application/javascript": "parent.postMessage({\"jupyterEvent\": \"custom.exercise_interaction\", \"data\": {\"outcomeType\": 1, \"valueTowardsCompletion\": 0.14285714285714285, \"interactionType\": 1, \"questionType\": 1, \"questionId\": \"3_ReviewsPerCountry\", \"learnToolsVersion\": \"0.3.4\", \"failureMessage\": \"\", \"exceptionClass\": \"\", \"trace\": \"\"}}, \"*\")"
          },
          "metadata": {}
        },
        {
          "output_type": "display_data",
          "data": {
            "text/plain": "Correct",
            "text/markdown": "<span style=\"color:#33cc33\">Correct</span>"
          },
          "metadata": {}
        }
      ]
    },
    {
      "cell_type": "code",
      "source": [
        "#q3.hint()\n",
        "#q3.solution()"
      ],
      "metadata": {
        "execution": {
          "iopub.status.busy": "2024-06-19T07:22:53.283228Z",
          "iopub.execute_input": "2024-06-19T07:22:53.283601Z",
          "iopub.status.idle": "2024-06-19T07:22:53.293516Z",
          "shell.execute_reply.started": "2024-06-19T07:22:53.283573Z",
          "shell.execute_reply": "2024-06-19T07:22:53.292455Z"
        },
        "trusted": true,
        "id": "ZnbttqR0Y0i9"
      },
      "execution_count": null,
      "outputs": []
    },
    {
      "cell_type": "markdown",
      "source": [
        "## 4.\n",
        "Create variable `centered_price` containing a version of the `price` column with the mean price subtracted.\n",
        "\n",
        "(Note: this 'centering' transformation is a common preprocessing step before applying various machine learning algorithms.)"
      ],
      "metadata": {
        "id": "ZiTmt4sxY0i_"
      }
    },
    {
      "cell_type": "code",
      "source": [
        "\n",
        "centered_price = reviews['price'] - reviews.price.mean()\n",
        "\n",
        "# Check your answer\n",
        "q4.check()"
      ],
      "metadata": {
        "execution": {
          "iopub.status.busy": "2024-06-19T07:22:53.29512Z",
          "iopub.execute_input": "2024-06-19T07:22:53.295538Z",
          "iopub.status.idle": "2024-06-19T07:22:53.314236Z",
          "shell.execute_reply.started": "2024-06-19T07:22:53.295508Z",
          "shell.execute_reply": "2024-06-19T07:22:53.312787Z"
        },
        "trusted": true,
        "id": "ZtwNI4TgY0jA",
        "outputId": "81a6e29e-dd83-4043-c0ff-854c7b1502cc"
      },
      "execution_count": null,
      "outputs": [
        {
          "output_type": "display_data",
          "data": {
            "text/plain": "<IPython.core.display.Javascript object>",
            "application/javascript": "parent.postMessage({\"jupyterEvent\": \"custom.exercise_interaction\", \"data\": {\"outcomeType\": 1, \"valueTowardsCompletion\": 0.14285714285714285, \"interactionType\": 1, \"questionType\": 1, \"questionId\": \"4_CenteredPrice\", \"learnToolsVersion\": \"0.3.4\", \"failureMessage\": \"\", \"exceptionClass\": \"\", \"trace\": \"\"}}, \"*\")"
          },
          "metadata": {}
        },
        {
          "output_type": "display_data",
          "data": {
            "text/plain": "Correct",
            "text/markdown": "<span style=\"color:#33cc33\">Correct</span>"
          },
          "metadata": {}
        }
      ]
    },
    {
      "cell_type": "code",
      "source": [
        "#q4.hint()\n",
        "#q4.solution()"
      ],
      "metadata": {
        "execution": {
          "iopub.status.busy": "2024-06-19T07:22:53.315618Z",
          "iopub.execute_input": "2024-06-19T07:22:53.316118Z",
          "iopub.status.idle": "2024-06-19T07:22:53.321408Z",
          "shell.execute_reply.started": "2024-06-19T07:22:53.316074Z",
          "shell.execute_reply": "2024-06-19T07:22:53.32011Z"
        },
        "trusted": true,
        "id": "ZrarnD3XY0jC"
      },
      "execution_count": null,
      "outputs": []
    },
    {
      "cell_type": "markdown",
      "source": [
        "## 5.\n",
        "I'm an economical wine buyer. Which wine is the \"best bargain\"? Create a variable `bargain_wine` with the title of the wine with the highest points-to-price ratio in the dataset."
      ],
      "metadata": {
        "id": "F9ZEGEBlY0jG"
      }
    },
    {
      "cell_type": "code",
      "source": [
        "reviews['points_per_dollar'] = reviews['points'] / reviews['price']\n",
        "wines = reviews.sort_values(by='points_per_dollar', ascending=False)\n",
        "bargain_wine = wines.iloc[0]['title']\n",
        "\n",
        "# Check your answer\n",
        "q5.check()"
      ],
      "metadata": {
        "execution": {
          "iopub.status.busy": "2024-06-19T07:22:53.325837Z",
          "iopub.execute_input": "2024-06-19T07:22:53.326733Z",
          "iopub.status.idle": "2024-06-19T07:22:53.423342Z",
          "shell.execute_reply.started": "2024-06-19T07:22:53.326698Z",
          "shell.execute_reply": "2024-06-19T07:22:53.422307Z"
        },
        "trusted": true,
        "id": "8M74FcZkY0jH",
        "outputId": "51d53191-a15d-4dd2-8b9a-3970f3bcf80e"
      },
      "execution_count": null,
      "outputs": [
        {
          "output_type": "display_data",
          "data": {
            "text/plain": "<IPython.core.display.Javascript object>",
            "application/javascript": "parent.postMessage({\"jupyterEvent\": \"custom.exercise_interaction\", \"data\": {\"outcomeType\": 1, \"valueTowardsCompletion\": 0.14285714285714285, \"interactionType\": 1, \"questionType\": 2, \"questionId\": \"5_BargainWine\", \"learnToolsVersion\": \"0.3.4\", \"failureMessage\": \"\", \"exceptionClass\": \"\", \"trace\": \"\"}}, \"*\")"
          },
          "metadata": {}
        },
        {
          "output_type": "display_data",
          "data": {
            "text/plain": "Correct",
            "text/markdown": "<span style=\"color:#33cc33\">Correct</span>"
          },
          "metadata": {}
        }
      ]
    },
    {
      "cell_type": "code",
      "source": [
        "#q5.hint()\n",
        "#q5.solution()"
      ],
      "metadata": {
        "execution": {
          "iopub.status.busy": "2024-06-19T07:22:53.424463Z",
          "iopub.execute_input": "2024-06-19T07:22:53.424784Z",
          "iopub.status.idle": "2024-06-19T07:22:53.433215Z",
          "shell.execute_reply.started": "2024-06-19T07:22:53.424749Z",
          "shell.execute_reply": "2024-06-19T07:22:53.432096Z"
        },
        "trusted": true,
        "id": "GwHzOkUSY0jJ"
      },
      "execution_count": null,
      "outputs": []
    },
    {
      "cell_type": "markdown",
      "source": [
        "## 6.\n",
        "There are only so many words you can use when describing a bottle of wine. Is a wine more likely to be \"tropical\" or \"fruity\"? Create a Series `descriptor_counts` counting how many times each of these two words appears in the `description` column in the dataset. (For simplicity, let's ignore the capitalized versions of these words.)"
      ],
      "metadata": {
        "id": "XaLFq34kY0jK"
      }
    },
    {
      "cell_type": "code",
      "source": [
        "n_trop = reviews.description.map(lambda desc: \"tropical\" in desc).sum()\n",
        "n_fruity = reviews.description.map(lambda desc: \"fruity\" in desc).sum()\n",
        "descriptor_counts = pd.Series([n_trop, n_fruity], index=['tropical', 'fruity'])\n",
        "\n",
        "# Check your answer\n",
        "q6.check()"
      ],
      "metadata": {
        "execution": {
          "iopub.status.busy": "2024-06-19T07:22:53.434547Z",
          "iopub.execute_input": "2024-06-19T07:22:53.434959Z",
          "iopub.status.idle": "2024-06-19T07:22:53.58492Z",
          "shell.execute_reply.started": "2024-06-19T07:22:53.434921Z",
          "shell.execute_reply": "2024-06-19T07:22:53.58382Z"
        },
        "trusted": true,
        "id": "K87YqNn4Y0jL",
        "outputId": "807aa0c0-ddc7-4dd2-f6c7-2acb7c2f91f2"
      },
      "execution_count": null,
      "outputs": [
        {
          "output_type": "display_data",
          "data": {
            "text/plain": "<IPython.core.display.Javascript object>",
            "application/javascript": "parent.postMessage({\"jupyterEvent\": \"custom.exercise_interaction\", \"data\": {\"outcomeType\": 1, \"valueTowardsCompletion\": 0.14285714285714285, \"interactionType\": 1, \"questionType\": 1, \"questionId\": \"6_DescriptorCounts\", \"learnToolsVersion\": \"0.3.4\", \"failureMessage\": \"\", \"exceptionClass\": \"\", \"trace\": \"\"}}, \"*\")"
          },
          "metadata": {}
        },
        {
          "output_type": "display_data",
          "data": {
            "text/plain": "Correct",
            "text/markdown": "<span style=\"color:#33cc33\">Correct</span>"
          },
          "metadata": {}
        }
      ]
    },
    {
      "cell_type": "code",
      "source": [
        "# q6.hint()\n",
        "# q6.solution()"
      ],
      "metadata": {
        "execution": {
          "iopub.status.busy": "2024-06-19T07:22:53.586117Z",
          "iopub.execute_input": "2024-06-19T07:22:53.586431Z",
          "iopub.status.idle": "2024-06-19T07:22:53.590768Z",
          "shell.execute_reply.started": "2024-06-19T07:22:53.586405Z",
          "shell.execute_reply": "2024-06-19T07:22:53.589682Z"
        },
        "trusted": true,
        "id": "3uWZudqXY0jO"
      },
      "execution_count": null,
      "outputs": []
    },
    {
      "cell_type": "markdown",
      "source": [
        "## 7.\n",
        "We'd like to host these wine reviews on our website, but a rating system ranging from 80 to 100 points is too hard to understand - we'd like to translate them into simple star ratings. A score of 95 or higher counts as 3 stars, a score of at least 85 but less than 95 is 2 stars. Any other score is 1 star.\n",
        "\n",
        "Also, the Canadian Vintners Association bought a lot of ads on the site, so any wines from Canada should automatically get 3 stars, regardless of points.\n",
        "\n",
        "Create a series `star_ratings` with the number of stars corresponding to each review in the dataset."
      ],
      "metadata": {
        "id": "nxk11MQpY0jQ"
      }
    },
    {
      "cell_type": "code",
      "source": [
        "def get_star_rating(row):\n",
        "    if (row['country'] == 'Canada') & (row['points'] >= 95):\n",
        "        return 3\n",
        "    elif row['points'] >= 85:\n",
        "        return 2\n",
        "    else:\n",
        "        return 1\n",
        "\n",
        "star_ratings = reviews.apply(get_star_rating, axis='columns')\n",
        "\n",
        "# Check your answer\n",
        "q7.check()"
      ],
      "metadata": {
        "execution": {
          "iopub.status.busy": "2024-06-19T07:25:12.765465Z",
          "iopub.execute_input": "2024-06-19T07:25:12.765916Z",
          "iopub.status.idle": "2024-06-19T07:25:14.8205Z",
          "shell.execute_reply.started": "2024-06-19T07:25:12.765886Z",
          "shell.execute_reply": "2024-06-19T07:25:14.819276Z"
        },
        "trusted": true,
        "id": "QFmfP5GwY0jR",
        "outputId": "88c34ff0-a2fb-44fb-fa64-8fd58d322687"
      },
      "execution_count": null,
      "outputs": [
        {
          "output_type": "display_data",
          "data": {
            "text/plain": "<IPython.core.display.Javascript object>",
            "application/javascript": "parent.postMessage({\"jupyterEvent\": \"custom.exercise_interaction\", \"data\": {\"outcomeType\": 1, \"valueTowardsCompletion\": 0.14285714285714285, \"interactionType\": 1, \"questionType\": 1, \"questionId\": \"7_StarRatings\", \"learnToolsVersion\": \"0.3.4\", \"failureMessage\": \"\", \"exceptionClass\": \"\", \"trace\": \"\"}}, \"*\")"
          },
          "metadata": {}
        },
        {
          "output_type": "display_data",
          "data": {
            "text/plain": "Correct",
            "text/markdown": "<span style=\"color:#33cc33\">Correct</span>"
          },
          "metadata": {}
        }
      ]
    },
    {
      "cell_type": "code",
      "source": [
        "#q7.hint()\n",
        "#q7.solution()"
      ],
      "metadata": {
        "execution": {
          "iopub.status.busy": "2024-06-19T07:22:53.609596Z",
          "iopub.execute_input": "2024-06-19T07:22:53.609926Z",
          "iopub.status.idle": "2024-06-19T07:22:53.61937Z",
          "shell.execute_reply.started": "2024-06-19T07:22:53.609898Z",
          "shell.execute_reply": "2024-06-19T07:22:53.618307Z"
        },
        "trusted": true,
        "id": "DLHJwfCpY0jT"
      },
      "execution_count": null,
      "outputs": []
    },
    {
      "cell_type": "markdown",
      "source": [
        "# Keep going\n",
        "Continue to **[grouping and sorting](https://www.kaggle.com/residentmario/grouping-and-sorting)**."
      ],
      "metadata": {
        "id": "W9vZBcw-Y0jV"
      }
    },
    {
      "cell_type": "markdown",
      "source": [
        "---\n",
        "\n",
        "\n",
        "\n",
        "\n",
        "*Have questions or comments? Visit the [course discussion forum](https://www.kaggle.com/learn/pandas/discussion) to chat with other learners.*"
      ],
      "metadata": {
        "id": "Q9RcW2CjY0jW"
      }
    }
  ]
}